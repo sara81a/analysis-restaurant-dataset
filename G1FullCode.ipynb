{
  "cells": [
    {
      "cell_type": "markdown",
      "metadata": {
        "id": "dbkQSOfVoP_s"
      },
      "source": [
        "#**Installing required libraries**"
      ]
    },
    {
      "cell_type": "code",
      "execution_count": null,
      "metadata": {
        "colab": {
          "base_uri": "https://localhost:8080/"
        },
        "id": "JxyFH1gGoP_u",
        "outputId": "6f6ec07c-6b06-48bb-a462-48987dfdd109"
      },
      "outputs": [
        {
          "output_type": "stream",
          "name": "stdout",
          "text": [
            "Looking in indexes: https://pypi.org/simple, https://us-python.pkg.dev/colab-wheels/public/simple/\n",
            "Requirement already satisfied: pandas in /usr/local/lib/python3.7/dist-packages (1.3.5)\n",
            "Requirement already satisfied: python-dateutil>=2.7.3 in /usr/local/lib/python3.7/dist-packages (from pandas) (2.8.2)\n",
            "Requirement already satisfied: numpy>=1.17.3 in /usr/local/lib/python3.7/dist-packages (from pandas) (1.21.6)\n",
            "Requirement already satisfied: pytz>=2017.3 in /usr/local/lib/python3.7/dist-packages (from pandas) (2022.1)\n",
            "Requirement already satisfied: six>=1.5 in /usr/local/lib/python3.7/dist-packages (from python-dateutil>=2.7.3->pandas) (1.15.0)\n",
            "Looking in indexes: https://pypi.org/simple, https://us-python.pkg.dev/colab-wheels/public/simple/\n",
            "Collecting unidecode\n",
            "  Downloading Unidecode-1.3.4-py3-none-any.whl (235 kB)\n",
            "\u001b[K     |████████████████████████████████| 235 kB 3.8 MB/s \n",
            "\u001b[?25hInstalling collected packages: unidecode\n",
            "Successfully installed unidecode-1.3.4\n",
            "Looking in indexes: https://pypi.org/simple, https://us-python.pkg.dev/colab-wheels/public/simple/\n",
            "Collecting pyarabic\n",
            "  Downloading PyArabic-0.6.15-py3-none-any.whl (126 kB)\n",
            "\u001b[K     |████████████████████████████████| 126 kB 3.2 MB/s \n",
            "\u001b[?25hRequirement already satisfied: six>=1.14.0 in /usr/local/lib/python3.7/dist-packages (from pyarabic) (1.15.0)\n",
            "Installing collected packages: pyarabic\n",
            "Successfully installed pyarabic-0.6.15\n",
            "Looking in indexes: https://pypi.org/simple, https://us-python.pkg.dev/colab-wheels/public/simple/\n",
            "Requirement already satisfied: numpy in /usr/local/lib/python3.7/dist-packages (1.21.6)\n",
            "Looking in indexes: https://pypi.org/simple, https://us-python.pkg.dev/colab-wheels/public/simple/\n",
            "Requirement already satisfied: nltk in /usr/local/lib/python3.7/dist-packages (3.7)\n",
            "Requirement already satisfied: tqdm in /usr/local/lib/python3.7/dist-packages (from nltk) (4.64.0)\n",
            "Requirement already satisfied: click in /usr/local/lib/python3.7/dist-packages (from nltk) (7.1.2)\n",
            "Requirement already satisfied: joblib in /usr/local/lib/python3.7/dist-packages (from nltk) (1.1.0)\n",
            "Requirement already satisfied: regex>=2021.8.3 in /usr/local/lib/python3.7/dist-packages (from nltk) (2022.6.2)\n",
            "Looking in indexes: https://pypi.org/simple, https://us-python.pkg.dev/colab-wheels/public/simple/\n",
            "Requirement already satisfied: pyarabic in /usr/local/lib/python3.7/dist-packages (0.6.15)\n",
            "Requirement already satisfied: six>=1.14.0 in /usr/local/lib/python3.7/dist-packages (from pyarabic) (1.15.0)\n",
            "Looking in indexes: https://pypi.org/simple, https://us-python.pkg.dev/colab-wheels/public/simple/\n",
            "Requirement already satisfied: matplotlib in /usr/local/lib/python3.7/dist-packages (3.2.2)\n",
            "Requirement already satisfied: cycler>=0.10 in /usr/local/lib/python3.7/dist-packages (from matplotlib) (0.11.0)\n",
            "Requirement already satisfied: kiwisolver>=1.0.1 in /usr/local/lib/python3.7/dist-packages (from matplotlib) (1.4.4)\n",
            "Requirement already satisfied: pyparsing!=2.0.4,!=2.1.2,!=2.1.6,>=2.0.1 in /usr/local/lib/python3.7/dist-packages (from matplotlib) (3.0.9)\n",
            "Requirement already satisfied: numpy>=1.11 in /usr/local/lib/python3.7/dist-packages (from matplotlib) (1.21.6)\n",
            "Requirement already satisfied: python-dateutil>=2.1 in /usr/local/lib/python3.7/dist-packages (from matplotlib) (2.8.2)\n",
            "Requirement already satisfied: typing-extensions in /usr/local/lib/python3.7/dist-packages (from kiwisolver>=1.0.1->matplotlib) (4.1.1)\n",
            "Requirement already satisfied: six>=1.5 in /usr/local/lib/python3.7/dist-packages (from python-dateutil>=2.1->matplotlib) (1.15.0)\n",
            "Looking in indexes: https://pypi.org/simple, https://us-python.pkg.dev/colab-wheels/public/simple/\n",
            "Requirement already satisfied: sklearn in /usr/local/lib/python3.7/dist-packages (0.0)\n",
            "Requirement already satisfied: scikit-learn in /usr/local/lib/python3.7/dist-packages (from sklearn) (1.0.2)\n",
            "Requirement already satisfied: scipy>=1.1.0 in /usr/local/lib/python3.7/dist-packages (from scikit-learn->sklearn) (1.7.3)\n",
            "Requirement already satisfied: joblib>=0.11 in /usr/local/lib/python3.7/dist-packages (from scikit-learn->sklearn) (1.1.0)\n",
            "Requirement already satisfied: threadpoolctl>=2.0.0 in /usr/local/lib/python3.7/dist-packages (from scikit-learn->sklearn) (3.1.0)\n",
            "Requirement already satisfied: numpy>=1.14.6 in /usr/local/lib/python3.7/dist-packages (from scikit-learn->sklearn) (1.21.6)\n",
            "Looking in indexes: https://pypi.org/simple, https://us-python.pkg.dev/colab-wheels/public/simple/\n",
            "Requirement already satisfied: plotly in /usr/local/lib/python3.7/dist-packages (5.5.0)\n",
            "Requirement already satisfied: tenacity>=6.2.0 in /usr/local/lib/python3.7/dist-packages (from plotly) (8.0.1)\n",
            "Requirement already satisfied: six in /usr/local/lib/python3.7/dist-packages (from plotly) (1.15.0)\n",
            "Looking in indexes: https://pypi.org/simple, https://us-python.pkg.dev/colab-wheels/public/simple/\n",
            "Requirement already satisfied: seaborn in /usr/local/lib/python3.7/dist-packages (0.11.2)\n",
            "Requirement already satisfied: matplotlib>=2.2 in /usr/local/lib/python3.7/dist-packages (from seaborn) (3.2.2)\n",
            "Requirement already satisfied: pandas>=0.23 in /usr/local/lib/python3.7/dist-packages (from seaborn) (1.3.5)\n",
            "Requirement already satisfied: numpy>=1.15 in /usr/local/lib/python3.7/dist-packages (from seaborn) (1.21.6)\n",
            "Requirement already satisfied: scipy>=1.0 in /usr/local/lib/python3.7/dist-packages (from seaborn) (1.7.3)\n",
            "Requirement already satisfied: pyparsing!=2.0.4,!=2.1.2,!=2.1.6,>=2.0.1 in /usr/local/lib/python3.7/dist-packages (from matplotlib>=2.2->seaborn) (3.0.9)\n",
            "Requirement already satisfied: kiwisolver>=1.0.1 in /usr/local/lib/python3.7/dist-packages (from matplotlib>=2.2->seaborn) (1.4.4)\n",
            "Requirement already satisfied: cycler>=0.10 in /usr/local/lib/python3.7/dist-packages (from matplotlib>=2.2->seaborn) (0.11.0)\n",
            "Requirement already satisfied: python-dateutil>=2.1 in /usr/local/lib/python3.7/dist-packages (from matplotlib>=2.2->seaborn) (2.8.2)\n",
            "Requirement already satisfied: typing-extensions in /usr/local/lib/python3.7/dist-packages (from kiwisolver>=1.0.1->matplotlib>=2.2->seaborn) (4.1.1)\n",
            "Requirement already satisfied: pytz>=2017.3 in /usr/local/lib/python3.7/dist-packages (from pandas>=0.23->seaborn) (2022.1)\n",
            "Requirement already satisfied: six>=1.5 in /usr/local/lib/python3.7/dist-packages (from python-dateutil>=2.1->matplotlib>=2.2->seaborn) (1.15.0)\n",
            "Looking in indexes: https://pypi.org/simple, https://us-python.pkg.dev/colab-wheels/public/simple/\n",
            "Requirement already satisfied: WordCloud in /usr/local/lib/python3.7/dist-packages (1.8.2.2)\n",
            "Requirement already satisfied: numpy>=1.6.1 in /usr/local/lib/python3.7/dist-packages (from WordCloud) (1.21.6)\n",
            "Requirement already satisfied: pillow in /usr/local/lib/python3.7/dist-packages (from WordCloud) (7.1.2)\n",
            "Requirement already satisfied: matplotlib in /usr/local/lib/python3.7/dist-packages (from WordCloud) (3.2.2)\n",
            "Requirement already satisfied: pyparsing!=2.0.4,!=2.1.2,!=2.1.6,>=2.0.1 in /usr/local/lib/python3.7/dist-packages (from matplotlib->WordCloud) (3.0.9)\n",
            "Requirement already satisfied: cycler>=0.10 in /usr/local/lib/python3.7/dist-packages (from matplotlib->WordCloud) (0.11.0)\n",
            "Requirement already satisfied: python-dateutil>=2.1 in /usr/local/lib/python3.7/dist-packages (from matplotlib->WordCloud) (2.8.2)\n",
            "Requirement already satisfied: kiwisolver>=1.0.1 in /usr/local/lib/python3.7/dist-packages (from matplotlib->WordCloud) (1.4.4)\n",
            "Requirement already satisfied: typing-extensions in /usr/local/lib/python3.7/dist-packages (from kiwisolver>=1.0.1->matplotlib->WordCloud) (4.1.1)\n",
            "Requirement already satisfied: six>=1.5 in /usr/local/lib/python3.7/dist-packages (from python-dateutil>=2.1->matplotlib->WordCloud) (1.15.0)\n",
            "Looking in indexes: https://pypi.org/simple, https://us-python.pkg.dev/colab-wheels/public/simple/\n",
            "Requirement already satisfied: TextBlob in /usr/local/lib/python3.7/dist-packages (0.15.3)\n",
            "Requirement already satisfied: nltk>=3.1 in /usr/local/lib/python3.7/dist-packages (from TextBlob) (3.7)\n",
            "Requirement already satisfied: regex>=2021.8.3 in /usr/local/lib/python3.7/dist-packages (from nltk>=3.1->TextBlob) (2022.6.2)\n",
            "Requirement already satisfied: tqdm in /usr/local/lib/python3.7/dist-packages (from nltk>=3.1->TextBlob) (4.64.0)\n",
            "Requirement already satisfied: joblib in /usr/local/lib/python3.7/dist-packages (from nltk>=3.1->TextBlob) (1.1.0)\n",
            "Requirement already satisfied: click in /usr/local/lib/python3.7/dist-packages (from nltk>=3.1->TextBlob) (7.1.2)\n",
            "Looking in indexes: https://pypi.org/simple, https://us-python.pkg.dev/colab-wheels/public/simple/\n",
            "Collecting arabic-reshaper\n",
            "  Downloading arabic_reshaper-2.1.3-py3-none-any.whl (20 kB)\n",
            "Requirement already satisfied: setuptools in /usr/local/lib/python3.7/dist-packages (from arabic-reshaper) (57.4.0)\n",
            "Requirement already satisfied: future in /usr/local/lib/python3.7/dist-packages (from arabic-reshaper) (0.16.0)\n",
            "Installing collected packages: arabic-reshaper\n",
            "Successfully installed arabic-reshaper-2.1.3\n",
            "Looking in indexes: https://pypi.org/simple, https://us-python.pkg.dev/colab-wheels/public/simple/\n",
            "Collecting python-bidi\n",
            "  Downloading python_bidi-0.4.2-py2.py3-none-any.whl (30 kB)\n",
            "Requirement already satisfied: six in /usr/local/lib/python3.7/dist-packages (from python-bidi) (1.15.0)\n",
            "Installing collected packages: python-bidi\n",
            "Successfully installed python-bidi-0.4.2\n",
            "Looking in indexes: https://pypi.org/simple, https://us-python.pkg.dev/colab-wheels/public/simple/\n",
            "Requirement already satisfied: arabic-reshaper in /usr/local/lib/python3.7/dist-packages (2.1.3)\n",
            "Requirement already satisfied: future in /usr/local/lib/python3.7/dist-packages (from arabic-reshaper) (0.16.0)\n",
            "Requirement already satisfied: setuptools in /usr/local/lib/python3.7/dist-packages (from arabic-reshaper) (57.4.0)\n",
            "[nltk_data] Downloading package brown to /root/nltk_data...\n",
            "[nltk_data]   Unzipping corpora/brown.zip.\n",
            "[nltk_data] Downloading package punkt to /root/nltk_data...\n",
            "[nltk_data]   Unzipping tokenizers/punkt.zip.\n",
            "[nltk_data] Downloading package wordnet to /root/nltk_data...\n",
            "[nltk_data] Downloading package averaged_perceptron_tagger to\n",
            "[nltk_data]     /root/nltk_data...\n",
            "[nltk_data]   Unzipping taggers/averaged_perceptron_tagger.zip.\n",
            "[nltk_data] Downloading package conll2000 to /root/nltk_data...\n",
            "[nltk_data]   Unzipping corpora/conll2000.zip.\n",
            "[nltk_data] Downloading package movie_reviews to /root/nltk_data...\n",
            "[nltk_data]   Unzipping corpora/movie_reviews.zip.\n",
            "Finished.\n"
          ]
        }
      ],
      "source": [
        "import sys\n",
        "!{sys.executable} -m pip install pandas\n",
        "!{sys.executable} -m pip install unidecode\n",
        "!{sys.executable} -m pip install pyarabic\n",
        "!{sys.executable} -m pip install numpy\n",
        "!{sys.executable} -m pip install nltk\n",
        "!{sys.executable} -m pip install pyarabic\n",
        "!{sys.executable} -m pip install matplotlib\n",
        "!{sys.executable} -m pip install sklearn\n",
        "!{sys.executable} -m pip install plotly\n",
        "!{sys.executable} -m pip install seaborn\n",
        "!{sys.executable} -m pip install WordCloud\n",
        "!{sys.executable} -m pip install TextBlob\n",
        "!{sys.executable} -m pip install arabic-reshaper\n",
        "!{sys.executable} -m pip install python-bidi\n",
        "!pip install --upgrade arabic-reshaper\n",
        "!python -m textblob.download_corpora\n"
      ]
    },
    {
      "cell_type": "markdown",
      "metadata": {
        "id": "RCSbIsEL0BJR"
      },
      "source": [
        "# **Import important libraries**"
      ]
    },
    {
      "cell_type": "code",
      "execution_count": null,
      "metadata": {
        "colab": {
          "base_uri": "https://localhost:8080/"
        },
        "id": "_Y0I36pjNS1n",
        "outputId": "dffc8ebc-090e-4fee-decb-8343b2ca61b7"
      },
      "outputs": [
        {
          "output_type": "stream",
          "name": "stderr",
          "text": [
            "[nltk_data] Downloading package stopwords to /root/nltk_data...\n",
            "[nltk_data]   Unzipping corpora/stopwords.zip.\n"
          ]
        }
      ],
      "source": [
        "#utilities\n",
        "import unidecode\n",
        "import pandas as pd\n",
        "import numpy as np\n",
        "import matplotlib.pyplot as plt\n",
        "import seaborn as sns\n",
        "import pyarabic.araby as araby\n",
        "import csv\n",
        "import string\n",
        "from datetime import datetime\n",
        "import arabic_reshaper\n",
        "from bidi.algorithm import get_display\n",
        "from collections import Counter\n",
        "#text processing & sentiment analysis\n",
        "import re\n",
        "from nltk.stem import WordNetLemmatizer\n",
        "from nltk.tokenize import RegexpTokenizer # devide the words \n",
        "from collections import Counter #count the number of word for each list \n",
        "import nltk\n",
        "from nltk.corpus import stopwords\n",
        "nltk.download('stopwords')\n",
        "from wordcloud import WordCloud\n",
        "import unicodedata as ud\n",
        "from nltk.stem.isri import ISRIStemmer\n",
        "import time\n",
        "#model\n",
        "from textblob import TextBlob\n",
        "from sklearn.metrics import classification_report, accuracy_score\n",
        "\n",
        "%matplotlib inline\n"
      ]
    },
    {
      "cell_type": "code",
      "execution_count": null,
      "metadata": {
        "colab": {
          "base_uri": "https://localhost:8080/"
        },
        "id": "ZOjmlcbdoP_1",
        "outputId": "7ab14203-cbe6-4089-b73e-cbf0ec76450a"
      },
      "outputs": [
        {
          "output_type": "stream",
          "name": "stderr",
          "text": [
            "/usr/local/lib/python3.7/dist-packages/ipykernel_launcher.py:4: FutureWarning: Passing a negative integer is deprecated in version 1.0 and will not be supported in future version. Instead, use None to not limit the column width.\n",
            "  after removing the cwd from sys.path.\n"
          ]
        }
      ],
      "source": [
        "# change the setting of the cells to show the entire content of coulmn ( expand the size of coulmn)\n",
        "pd.set_option('display.max_columns', None)\n",
        "pd.set_option('display.max_rows', None)\n",
        "pd.set_option('display.max_colwidth', -1)\n",
        "pd.set_option('display.float_format', lambda x: '%.5f' % x)"
      ]
    },
    {
      "cell_type": "code",
      "execution_count": null,
      "metadata": {
        "colab": {
          "base_uri": "https://localhost:8080/"
        },
        "id": "pdLcQsDR-fRM",
        "outputId": "8cf5a3ce-a271-4220-ed1e-8d3ad5c16349"
      },
      "outputs": [
        {
          "output_type": "stream",
          "name": "stdout",
          "text": [
            "Drive already mounted at /content/gdrive; to attempt to forcibly remount, call drive.mount(\"/content/gdrive\", force_remount=True).\n"
          ]
        }
      ],
      "source": [
        "# Mounting Google Drive\n",
        "from google.colab import drive  # to mount Google Drive to Colab notebook\n",
        "drive.mount('/content/gdrive')\n",
        "path='./gdrive/My Drive/Group1/Data_and_Code/'"
      ]
    },
    {
      "cell_type": "code",
      "execution_count": null,
      "metadata": {
        "colab": {
          "base_uri": "https://localhost:8080/"
        },
        "id": "bQ3Ul-s6_-1D",
        "outputId": "e2e617c9-4adb-4d21-e807-355653f2d538"
      },
      "outputs": [
        {
          "output_type": "stream",
          "name": "stdout",
          "text": [
            "/content\n"
          ]
        }
      ],
      "source": [
        "!pwd"
      ]
    },
    {
      "cell_type": "code",
      "execution_count": null,
      "metadata": {
        "id": "v3ZQVBA6oP_3"
      },
      "outputs": [],
      "source": [
        "# read csv file and save it in a data frame\n",
        "data_df=pd.read_csv(path+'G1Dataset.csv') "
      ]
    },
    {
      "cell_type": "markdown",
      "metadata": {
        "id": "U2APQqWC1TiZ"
      },
      "source": [
        "# **Exploring data before Preprocessing**"
      ]
    },
    {
      "cell_type": "code",
      "execution_count": null,
      "metadata": {
        "colab": {
          "base_uri": "https://localhost:8080/"
        },
        "id": "ij889xM7oP_6",
        "outputId": "7953d582-6929-451e-d6ae-c07af6d646b3"
      },
      "outputs": [
        {
          "data": {
            "text/plain": [
              "10970"
            ]
          },
          "execution_count": 134,
          "metadata": {},
          "output_type": "execute_result"
        }
      ],
      "source": [
        "# how much data do I have?\n",
        "len(data_df)"
      ]
    },
    {
      "cell_type": "code",
      "execution_count": null,
      "metadata": {
        "colab": {
          "base_uri": "https://localhost:8080/"
        },
        "id": "A3ETqj8216Il",
        "outputId": "247a61a8-2259-4c69-c526-733c62cd98f4"
      },
      "outputs": [
        {
          "data": {
            "text/plain": [
              "Text         10970\n",
              "Sentiment    10970\n",
              "dtype: int64"
            ]
          },
          "execution_count": 135,
          "metadata": {},
          "output_type": "execute_result"
        }
      ],
      "source": [
        "# number of non-NA values\n",
        "data_df.count()"
      ]
    },
    {
      "cell_type": "code",
      "execution_count": null,
      "metadata": {
        "colab": {
          "base_uri": "https://localhost:8080/"
        },
        "id": "AGeVtEv52j4C",
        "outputId": "7013057d-990e-41d5-9c9a-1716f9a841d3"
      },
      "outputs": [
        {
          "name": "stdout",
          "output_type": "stream",
          "text": [
            "<class 'pandas.core.frame.DataFrame'>\n",
            "RangeIndex: 10970 entries, 0 to 10969\n",
            "Data columns (total 2 columns):\n",
            " #   Column     Non-Null Count  Dtype \n",
            "---  ------     --------------  ----- \n",
            " 0   Text       10970 non-null  object\n",
            " 1   Sentiment  10970 non-null  object\n",
            "dtypes: object(2)\n",
            "memory usage: 171.5+ KB\n"
          ]
        }
      ],
      "source": [
        "# Print a concise summary of a DataFrame\n",
        "data_df.info()"
      ]
    },
    {
      "cell_type": "code",
      "execution_count": null,
      "metadata": {
        "colab": {
          "base_uri": "https://localhost:8080/"
        },
        "id": "bnxZ9rqJ2nXg",
        "outputId": "e408773d-8ce2-4fbb-ccff-33e7139b2709"
      },
      "outputs": [
        {
          "data": {
            "text/html": [
              "\n",
              "  <div id=\"df-8c0cac5e-620d-4d53-8fc0-fb0519dca9f2\">\n",
              "    <div class=\"colab-df-container\">\n",
              "      <div>\n",
              "<style scoped>\n",
              "    .dataframe tbody tr th:only-of-type {\n",
              "        vertical-align: middle;\n",
              "    }\n",
              "\n",
              "    .dataframe tbody tr th {\n",
              "        vertical-align: top;\n",
              "    }\n",
              "\n",
              "    .dataframe thead th {\n",
              "        text-align: right;\n",
              "    }\n",
              "</style>\n",
              "<table border=\"1\" class=\"dataframe\">\n",
              "  <thead>\n",
              "    <tr style=\"text-align: right;\">\n",
              "      <th></th>\n",
              "      <th>Text</th>\n",
              "      <th>Sentiment</th>\n",
              "    </tr>\n",
              "  </thead>\n",
              "  <tbody>\n",
              "    <tr>\n",
              "      <th>count</th>\n",
              "      <td>10970</td>\n",
              "      <td>10970</td>\n",
              "    </tr>\n",
              "    <tr>\n",
              "      <th>unique</th>\n",
              "      <td>10940</td>\n",
              "      <td>4</td>\n",
              "    </tr>\n",
              "    <tr>\n",
              "      <th>top</th>\n",
              "      <td>لذيذ</td>\n",
              "      <td>Positive</td>\n",
              "    </tr>\n",
              "    <tr>\n",
              "      <th>freq</th>\n",
              "      <td>7</td>\n",
              "      <td>7117</td>\n",
              "    </tr>\n",
              "  </tbody>\n",
              "</table>\n",
              "</div>\n",
              "      <button class=\"colab-df-convert\" onclick=\"convertToInteractive('df-8c0cac5e-620d-4d53-8fc0-fb0519dca9f2')\"\n",
              "              title=\"Convert this dataframe to an interactive table.\"\n",
              "              style=\"display:none;\">\n",
              "        \n",
              "  <svg xmlns=\"http://www.w3.org/2000/svg\" height=\"24px\"viewBox=\"0 0 24 24\"\n",
              "       width=\"24px\">\n",
              "    <path d=\"M0 0h24v24H0V0z\" fill=\"none\"/>\n",
              "    <path d=\"M18.56 5.44l.94 2.06.94-2.06 2.06-.94-2.06-.94-.94-2.06-.94 2.06-2.06.94zm-11 1L8.5 8.5l.94-2.06 2.06-.94-2.06-.94L8.5 2.5l-.94 2.06-2.06.94zm10 10l.94 2.06.94-2.06 2.06-.94-2.06-.94-.94-2.06-.94 2.06-2.06.94z\"/><path d=\"M17.41 7.96l-1.37-1.37c-.4-.4-.92-.59-1.43-.59-.52 0-1.04.2-1.43.59L10.3 9.45l-7.72 7.72c-.78.78-.78 2.05 0 2.83L4 21.41c.39.39.9.59 1.41.59.51 0 1.02-.2 1.41-.59l7.78-7.78 2.81-2.81c.8-.78.8-2.07 0-2.86zM5.41 20L4 18.59l7.72-7.72 1.47 1.35L5.41 20z\"/>\n",
              "  </svg>\n",
              "      </button>\n",
              "      \n",
              "  <style>\n",
              "    .colab-df-container {\n",
              "      display:flex;\n",
              "      flex-wrap:wrap;\n",
              "      gap: 12px;\n",
              "    }\n",
              "\n",
              "    .colab-df-convert {\n",
              "      background-color: #E8F0FE;\n",
              "      border: none;\n",
              "      border-radius: 50%;\n",
              "      cursor: pointer;\n",
              "      display: none;\n",
              "      fill: #1967D2;\n",
              "      height: 32px;\n",
              "      padding: 0 0 0 0;\n",
              "      width: 32px;\n",
              "    }\n",
              "\n",
              "    .colab-df-convert:hover {\n",
              "      background-color: #E2EBFA;\n",
              "      box-shadow: 0px 1px 2px rgba(60, 64, 67, 0.3), 0px 1px 3px 1px rgba(60, 64, 67, 0.15);\n",
              "      fill: #174EA6;\n",
              "    }\n",
              "\n",
              "    [theme=dark] .colab-df-convert {\n",
              "      background-color: #3B4455;\n",
              "      fill: #D2E3FC;\n",
              "    }\n",
              "\n",
              "    [theme=dark] .colab-df-convert:hover {\n",
              "      background-color: #434B5C;\n",
              "      box-shadow: 0px 1px 3px 1px rgba(0, 0, 0, 0.15);\n",
              "      filter: drop-shadow(0px 1px 2px rgba(0, 0, 0, 0.3));\n",
              "      fill: #FFFFFF;\n",
              "    }\n",
              "  </style>\n",
              "\n",
              "      <script>\n",
              "        const buttonEl =\n",
              "          document.querySelector('#df-8c0cac5e-620d-4d53-8fc0-fb0519dca9f2 button.colab-df-convert');\n",
              "        buttonEl.style.display =\n",
              "          google.colab.kernel.accessAllowed ? 'block' : 'none';\n",
              "\n",
              "        async function convertToInteractive(key) {\n",
              "          const element = document.querySelector('#df-8c0cac5e-620d-4d53-8fc0-fb0519dca9f2');\n",
              "          const dataTable =\n",
              "            await google.colab.kernel.invokeFunction('convertToInteractive',\n",
              "                                                     [key], {});\n",
              "          if (!dataTable) return;\n",
              "\n",
              "          const docLinkHtml = 'Like what you see? Visit the ' +\n",
              "            '<a target=\"_blank\" href=https://colab.research.google.com/notebooks/data_table.ipynb>data table notebook</a>'\n",
              "            + ' to learn more about interactive tables.';\n",
              "          element.innerHTML = '';\n",
              "          dataTable['output_type'] = 'display_data';\n",
              "          await google.colab.output.renderOutput(dataTable, element);\n",
              "          const docLink = document.createElement('div');\n",
              "          docLink.innerHTML = docLinkHtml;\n",
              "          element.appendChild(docLink);\n",
              "        }\n",
              "      </script>\n",
              "    </div>\n",
              "  </div>\n",
              "  "
            ],
            "text/plain": [
              "         Text  Sentiment\n",
              "count   10970  10970    \n",
              "unique  10940  4        \n",
              "top     لذيذ   Positive \n",
              "freq    7      7117     "
            ]
          },
          "execution_count": 137,
          "metadata": {},
          "output_type": "execute_result"
        }
      ],
      "source": [
        "#Generates descriptive statistics or Summary Statistic of the numeric columns\n",
        "data_df.describe()"
      ]
    },
    {
      "cell_type": "code",
      "execution_count": null,
      "metadata": {
        "colab": {
          "base_uri": "https://localhost:8080/"
        },
        "id": "NXLYXTMp2sEd",
        "outputId": "c8dd40a8-a601-4c64-db28-c78a4924153d"
      },
      "outputs": [
        {
          "data": {
            "text/plain": [
              "Index(['Text', 'Sentiment'], dtype='object')"
            ]
          },
          "execution_count": 138,
          "metadata": {},
          "output_type": "execute_result"
        }
      ],
      "source": [
        "# Retrieve list of columns\n",
        "data_df.columns"
      ]
    },
    {
      "cell_type": "code",
      "execution_count": null,
      "metadata": {
        "colab": {
          "base_uri": "https://localhost:8080/"
        },
        "id": "LOESD63K3FdB",
        "outputId": "09b4c45c-7730-4240-f031-11c0208d5e7c"
      },
      "outputs": [
        {
          "data": {
            "text/html": [
              "\n",
              "  <div id=\"df-d6baa82c-15d7-49ca-9bd6-517bd793451d\">\n",
              "    <div class=\"colab-df-container\">\n",
              "      <div>\n",
              "<style scoped>\n",
              "    .dataframe tbody tr th:only-of-type {\n",
              "        vertical-align: middle;\n",
              "    }\n",
              "\n",
              "    .dataframe tbody tr th {\n",
              "        vertical-align: top;\n",
              "    }\n",
              "\n",
              "    .dataframe thead th {\n",
              "        text-align: right;\n",
              "    }\n",
              "</style>\n",
              "<table border=\"1\" class=\"dataframe\">\n",
              "  <thead>\n",
              "    <tr style=\"text-align: right;\">\n",
              "      <th></th>\n",
              "      <th>Text</th>\n",
              "      <th>Sentiment</th>\n",
              "    </tr>\n",
              "  </thead>\n",
              "  <tbody>\n",
              "    <tr>\n",
              "      <th>0</th>\n",
              "      <td>Buona scelta gluten-free \\nIl ristorante \"Il Grissino\" è un onesto ristorante la famiglia, senza troppe pretese e, coerentemente, con costi contenuti; caratteristiche che ne fanno un buon locale d'appoggio se si vuole mangiare fuori per comodità ma non si sta cercando l'evento memorabile. Tutte le portate sono più che discrete, il servizio cortese e ragionevolmente rapido. Fra i luoghi che fanno pizza senza glutine a Milano, le loro proposte (basate su farina DS) sono da contarsi fra le migliori. Raccomandabile per una cena tranquilla senza impegno.\\n</td>\n",
              "      <td>Neutral</td>\n",
              "    </tr>\n",
              "    <tr>\n",
              "      <th>1</th>\n",
              "      <td>Da evitare anche quello in via Pier della Francesca! \\nSono stata all'Antica Focacceria in via Pier della Francesca 56 a Milano. Ho comprato arancini,caponata,sfincione. Li ho mangiati con un'amica. Risultato: ci è rimasto tutto sullo stomaco!! Una cosa tremenda!!! Siamo state malissimo! La caponata era immangiabile, veramente scadente. Gli arancini e lo sfincione non sembravano malvagi, ma evidentemente in questo locale non usano prodotti di qualità e non cambiano l'olio di cottura. Ci tengo a sottolineare che nè io nè la mia amica siamo dei tipi delicati, quindi non abbiamo problemi a mangiare fritti e cose del genere. Peccato perchè il locale (che tra l'altro non è a buon mercato) in sè è carino.</td>\n",
              "      <td>Neutral</td>\n",
              "    </tr>\n",
              "    <tr>\n",
              "      <th>2</th>\n",
              "      <td>تناولت العشاء فيه \\nفندق قريب من المطار لكنه عادي في منطقه مزدحمة الطعام عادي اوبن بوفيه لكنه مقبول وكعادة اغلب الفنادق هنا الشيف كيني والاكل يغلب عليه الطابع الكيبني\\n</td>\n",
              "      <td>Neutral</td>\n",
              "    </tr>\n",
              "    <tr>\n",
              "      <th>3</th>\n",
              "      <td>مطعم مختلف عن الجو العام بجوبا \\nمطعم مختلف بسيط غير انيق ولكنه يقدم طعام مختلف يمكن تصنيفه بانه طعام هندي مقبول وهناك بعض الاصناف التي يمكن تناولها ولكن يغلب عليها البهار والحار والنكهه الهنديه الخدمه جيده ولكنه مزدحم وخاصة وقت العشاء\\n</td>\n",
              "      <td>Neutral</td>\n",
              "    </tr>\n",
              "    <tr>\n",
              "      <th>4</th>\n",
              "      <td>مطعم لطيف يغلب عليه الطابع اليوناني لان مالكه اظن يوناني ولكن الطعام هندي اغلبه \\nلطيف مزدحم دائما الطعام يتأخر نتيجه للزحام مفضل من الاجانب ولكنه كحال كل مطاعم جوبا مطعم بسيط وغالي جدا\\n</td>\n",
              "      <td>Neutral</td>\n",
              "    </tr>\n",
              "    <tr>\n",
              "      <th>5</th>\n",
              "      <td>بيتزا ممتازة \\nالشربة البحرية جيدة .. المكرونة عادية جدا .. البيتزا جدا ممتازة الجلسة والخدمة ممتازة ايضا بشكل عام لا اعتقد انني اعيد التجربة به\\n</td>\n",
              "      <td>Neutral</td>\n",
              "    </tr>\n",
              "    <tr>\n",
              "      <th>6</th>\n",
              "      <td>Self service a mezzogiorno non eccezionale ma prezzi abbastanza contenuti \\nAbbiamo mangiato al self-service del ristorante. I prezzi sono medio-alti per un self service, ma i piatti sono mediamente più buoni. Magari non sono serviti sufficientemente caldi ma provano a servire piatti sfiziosi e abbastanza leggeri. La pizza è abbastanza buona. Non per pranzare tutti i giorni se si vuole risparmiare, per quello ci sono altri self-service in centro storico zona Via Indipendenza.\\n</td>\n",
              "      <td>Neutral</td>\n",
              "    </tr>\n",
              "    <tr>\n",
              "      <th>7</th>\n",
              "      <td>مطعم جيد \\nالمطعم جيد يتسم بالطابع الدمشقي القديم الطعام مقبول الخدمه جيده والتنظيم جيد ولكن سعر الطعام غالي بعض الشيئ\\n</td>\n",
              "      <td>Neutral</td>\n",
              "    </tr>\n",
              "    <tr>\n",
              "      <th>8</th>\n",
              "      <td>الليجر \\nجلسة هادئة ، خدمة متوسطة - الأكل جودتة فوق المتوسط - الشيشة جيدة\\nتأخر قليل في توفير الخدمة\\nالموسيقي والمطرب نوعا ما جيدة\\n</td>\n",
              "      <td>Neutral</td>\n",
              "    </tr>\n",
              "    <tr>\n",
              "      <th>9</th>\n",
              "      <td>طعم مميز \\nتوباز يقدم ماكولات هندية كيرلا بطعم لذيذ\\nووجبات متعددة ، افضل ما عجبني فية الحبز البراتى الحار والخفيف\\nوالبرياني حيدر اباد\\nطريقة تقديمة للوجبات تقليدية\\nيعني ممكن ينسى بجيب معلقة او صحن\\nاو يحيك شايل كوب الشاي في ايدة من المطبخ\\nكذا بعني يبغالة اتكيت افضل\\nطبعا كل الماكولات تطبخ مثلجة مما قد يتسبب ببعض الاسهال الغير محمود\\n</td>\n",
              "      <td>Neutral</td>\n",
              "    </tr>\n",
              "  </tbody>\n",
              "</table>\n",
              "</div>\n",
              "      <button class=\"colab-df-convert\" onclick=\"convertToInteractive('df-d6baa82c-15d7-49ca-9bd6-517bd793451d')\"\n",
              "              title=\"Convert this dataframe to an interactive table.\"\n",
              "              style=\"display:none;\">\n",
              "        \n",
              "  <svg xmlns=\"http://www.w3.org/2000/svg\" height=\"24px\"viewBox=\"0 0 24 24\"\n",
              "       width=\"24px\">\n",
              "    <path d=\"M0 0h24v24H0V0z\" fill=\"none\"/>\n",
              "    <path d=\"M18.56 5.44l.94 2.06.94-2.06 2.06-.94-2.06-.94-.94-2.06-.94 2.06-2.06.94zm-11 1L8.5 8.5l.94-2.06 2.06-.94-2.06-.94L8.5 2.5l-.94 2.06-2.06.94zm10 10l.94 2.06.94-2.06 2.06-.94-2.06-.94-.94-2.06-.94 2.06-2.06.94z\"/><path d=\"M17.41 7.96l-1.37-1.37c-.4-.4-.92-.59-1.43-.59-.52 0-1.04.2-1.43.59L10.3 9.45l-7.72 7.72c-.78.78-.78 2.05 0 2.83L4 21.41c.39.39.9.59 1.41.59.51 0 1.02-.2 1.41-.59l7.78-7.78 2.81-2.81c.8-.78.8-2.07 0-2.86zM5.41 20L4 18.59l7.72-7.72 1.47 1.35L5.41 20z\"/>\n",
              "  </svg>\n",
              "      </button>\n",
              "      \n",
              "  <style>\n",
              "    .colab-df-container {\n",
              "      display:flex;\n",
              "      flex-wrap:wrap;\n",
              "      gap: 12px;\n",
              "    }\n",
              "\n",
              "    .colab-df-convert {\n",
              "      background-color: #E8F0FE;\n",
              "      border: none;\n",
              "      border-radius: 50%;\n",
              "      cursor: pointer;\n",
              "      display: none;\n",
              "      fill: #1967D2;\n",
              "      height: 32px;\n",
              "      padding: 0 0 0 0;\n",
              "      width: 32px;\n",
              "    }\n",
              "\n",
              "    .colab-df-convert:hover {\n",
              "      background-color: #E2EBFA;\n",
              "      box-shadow: 0px 1px 2px rgba(60, 64, 67, 0.3), 0px 1px 3px 1px rgba(60, 64, 67, 0.15);\n",
              "      fill: #174EA6;\n",
              "    }\n",
              "\n",
              "    [theme=dark] .colab-df-convert {\n",
              "      background-color: #3B4455;\n",
              "      fill: #D2E3FC;\n",
              "    }\n",
              "\n",
              "    [theme=dark] .colab-df-convert:hover {\n",
              "      background-color: #434B5C;\n",
              "      box-shadow: 0px 1px 3px 1px rgba(0, 0, 0, 0.15);\n",
              "      filter: drop-shadow(0px 1px 2px rgba(0, 0, 0, 0.3));\n",
              "      fill: #FFFFFF;\n",
              "    }\n",
              "  </style>\n",
              "\n",
              "      <script>\n",
              "        const buttonEl =\n",
              "          document.querySelector('#df-d6baa82c-15d7-49ca-9bd6-517bd793451d button.colab-df-convert');\n",
              "        buttonEl.style.display =\n",
              "          google.colab.kernel.accessAllowed ? 'block' : 'none';\n",
              "\n",
              "        async function convertToInteractive(key) {\n",
              "          const element = document.querySelector('#df-d6baa82c-15d7-49ca-9bd6-517bd793451d');\n",
              "          const dataTable =\n",
              "            await google.colab.kernel.invokeFunction('convertToInteractive',\n",
              "                                                     [key], {});\n",
              "          if (!dataTable) return;\n",
              "\n",
              "          const docLinkHtml = 'Like what you see? Visit the ' +\n",
              "            '<a target=\"_blank\" href=https://colab.research.google.com/notebooks/data_table.ipynb>data table notebook</a>'\n",
              "            + ' to learn more about interactive tables.';\n",
              "          element.innerHTML = '';\n",
              "          dataTable['output_type'] = 'display_data';\n",
              "          await google.colab.output.renderOutput(dataTable, element);\n",
              "          const docLink = document.createElement('div');\n",
              "          docLink.innerHTML = docLinkHtml;\n",
              "          element.appendChild(docLink);\n",
              "        }\n",
              "      </script>\n",
              "    </div>\n",
              "  </div>\n",
              "  "
            ],
            "text/plain": [
              "                                                                                                                                                                                                                                                                                                                                                                                                                                                                                                                                                                                                                                                                                                                                   Text  \\\n",
              "0  Buona scelta gluten-free \\nIl ristorante \"Il Grissino\" è un onesto ristorante la famiglia, senza troppe pretese e, coerentemente, con costi contenuti; caratteristiche che ne fanno un buon locale d'appoggio se si vuole mangiare fuori per comodità ma non si sta cercando l'evento memorabile. Tutte le portate sono più che discrete, il servizio cortese e ragionevolmente rapido. Fra i luoghi che fanno pizza senza glutine a Milano, le loro proposte (basate su farina DS) sono da contarsi fra le migliori. Raccomandabile per una cena tranquilla senza impegno.\\n                                                                                                                                                          \n",
              "1  Da evitare anche quello in via Pier della Francesca! \\nSono stata all'Antica Focacceria in via Pier della Francesca 56 a Milano. Ho comprato arancini,caponata,sfincione. Li ho mangiati con un'amica. Risultato: ci è rimasto tutto sullo stomaco!! Una cosa tremenda!!! Siamo state malissimo! La caponata era immangiabile, veramente scadente. Gli arancini e lo sfincione non sembravano malvagi, ma evidentemente in questo locale non usano prodotti di qualità e non cambiano l'olio di cottura. Ci tengo a sottolineare che nè io nè la mia amica siamo dei tipi delicati, quindi non abbiamo problemi a mangiare fritti e cose del genere. Peccato perchè il locale (che tra l'altro non è a buon mercato) in sè è carino.   \n",
              "2  تناولت العشاء فيه \\nفندق قريب من المطار لكنه عادي في منطقه مزدحمة الطعام عادي اوبن بوفيه لكنه مقبول وكعادة اغلب الفنادق هنا الشيف كيني والاكل يغلب عليه الطابع الكيبني\\n                                                                                                                                                                                                                                                                                                                                                                                                                                                                                                                                                               \n",
              "3  مطعم مختلف عن الجو العام بجوبا \\nمطعم مختلف بسيط غير انيق ولكنه يقدم طعام مختلف يمكن تصنيفه بانه طعام هندي مقبول وهناك بعض الاصناف التي يمكن تناولها ولكن يغلب عليها البهار والحار والنكهه الهنديه الخدمه جيده ولكنه مزدحم وخاصة وقت العشاء\\n                                                                                                                                                                                                                                                                                                                                                                                                                                                                                          \n",
              "4  مطعم لطيف يغلب عليه الطابع اليوناني لان مالكه اظن يوناني ولكن الطعام هندي اغلبه \\nلطيف مزدحم دائما الطعام يتأخر نتيجه للزحام مفضل من الاجانب ولكنه كحال كل مطاعم جوبا مطعم بسيط وغالي جدا\\n                                                                                                                                                                                                                                                                                                                                                                                                                                                                                                                                            \n",
              "5  بيتزا ممتازة \\nالشربة البحرية جيدة .. المكرونة عادية جدا .. البيتزا جدا ممتازة الجلسة والخدمة ممتازة ايضا بشكل عام لا اعتقد انني اعيد التجربة به\\n                                                                                                                                                                                                                                                                                                                                                                                                                                                                                                                                                                                     \n",
              "6  Self service a mezzogiorno non eccezionale ma prezzi abbastanza contenuti \\nAbbiamo mangiato al self-service del ristorante. I prezzi sono medio-alti per un self service, ma i piatti sono mediamente più buoni. Magari non sono serviti sufficientemente caldi ma provano a servire piatti sfiziosi e abbastanza leggeri. La pizza è abbastanza buona. Non per pranzare tutti i giorni se si vuole risparmiare, per quello ci sono altri self-service in centro storico zona Via Indipendenza.\\n                                                                                                                                                                                                                                     \n",
              "7  مطعم جيد \\nالمطعم جيد يتسم بالطابع الدمشقي القديم الطعام مقبول الخدمه جيده والتنظيم جيد ولكن سعر الطعام غالي بعض الشيئ\\n                                                                                                                                                                                                                                                                                                                                                                                                                                                                                                                                                                                                               \n",
              "8  الليجر \\nجلسة هادئة ، خدمة متوسطة - الأكل جودتة فوق المتوسط - الشيشة جيدة\\nتأخر قليل في توفير الخدمة\\nالموسيقي والمطرب نوعا ما جيدة\\n                                                                                                                                                                                                                                                                                                                                                                                                                                                                                                                                                                                                  \n",
              "9  طعم مميز \\nتوباز يقدم ماكولات هندية كيرلا بطعم لذيذ\\nووجبات متعددة ، افضل ما عجبني فية الحبز البراتى الحار والخفيف\\nوالبرياني حيدر اباد\\nطريقة تقديمة للوجبات تقليدية\\nيعني ممكن ينسى بجيب معلقة او صحن\\nاو يحيك شايل كوب الشاي في ايدة من المطبخ\\nكذا بعني يبغالة اتكيت افضل\\nطبعا كل الماكولات تطبخ مثلجة مما قد يتسبب ببعض الاسهال الغير محمود\\n                                                                                                                                                                                                                                                                                                                                                                                    \n",
              "\n",
              "  Sentiment  \n",
              "0  Neutral   \n",
              "1  Neutral   \n",
              "2  Neutral   \n",
              "3  Neutral   \n",
              "4  Neutral   \n",
              "5  Neutral   \n",
              "6  Neutral   \n",
              "7  Neutral   \n",
              "8  Neutral   \n",
              "9  Neutral   "
            ]
          },
          "execution_count": 139,
          "metadata": {},
          "output_type": "execute_result"
        }
      ],
      "source": [
        "data_df.head(10)"
      ]
    },
    {
      "cell_type": "code",
      "execution_count": null,
      "metadata": {
        "colab": {
          "base_uri": "https://localhost:8080/"
        },
        "id": "ixDKDt633GMK",
        "outputId": "4dce6754-368a-46c1-e098-1dc98d264ab3"
      },
      "outputs": [
        {
          "data": {
            "text/html": [
              "\n",
              "  <div id=\"df-e9087a71-8788-46b1-8583-ce3a1b89af94\">\n",
              "    <div class=\"colab-df-container\">\n",
              "      <div>\n",
              "<style scoped>\n",
              "    .dataframe tbody tr th:only-of-type {\n",
              "        vertical-align: middle;\n",
              "    }\n",
              "\n",
              "    .dataframe tbody tr th {\n",
              "        vertical-align: top;\n",
              "    }\n",
              "\n",
              "    .dataframe thead th {\n",
              "        text-align: right;\n",
              "    }\n",
              "</style>\n",
              "<table border=\"1\" class=\"dataframe\">\n",
              "  <thead>\n",
              "    <tr style=\"text-align: right;\">\n",
              "      <th></th>\n",
              "      <th>Text</th>\n",
              "      <th>Sentiment</th>\n",
              "    </tr>\n",
              "  </thead>\n",
              "  <tbody>\n",
              "    <tr>\n",
              "      <th>10967</th>\n",
              "      <td>\"\"\"السلام عليكم ورحمة الله وبركاته \\n  \\n فرع الملك عبدالعزيز 100% \\n فرع خالد بن الوليد 90 % \\n  \\n هذا تقييمي له .. وهو من أفضل المطاعم اللي أكلت فيها كبسة. \\n أتمنى اللي يعرف مطاعم تطبخ بنفس طريقته يتحفنا فيها\"\"\"\\tPositive</td>\n",
              "      <td>Positive</td>\n",
              "    </tr>\n",
              "    <tr>\n",
              "      <th>10968</th>\n",
              "      <td>والله ياعيال اكلت منه / \\n  \\n 1- همبرجر دجاج وكان جيد جدا .. \\n 2- جربت اللحم ونوعا ما اعجبني .. \\n 3- البطاطس بها نكهه ممتازه جدا .. \\n 4-الاسعار جيده مع ارتفاع .. \\n 5- الخدمه جيده جدا ما تطووول .. \\n 6-الموقع الي جيته  فى طريق الملك عبد الله فى مجمع التميمي الجديد \\n  \\n -- \\n  \\n فمان الكريم \\n Mohammed AL Jeaid</td>\n",
              "      <td>Neutral</td>\n",
              "    </tr>\n",
              "    <tr>\n",
              "      <th>10969</th>\n",
              "      <td>المطعم في تراجع مستمر</td>\n",
              "      <td>Negative</td>\n",
              "    </tr>\n",
              "  </tbody>\n",
              "</table>\n",
              "</div>\n",
              "      <button class=\"colab-df-convert\" onclick=\"convertToInteractive('df-e9087a71-8788-46b1-8583-ce3a1b89af94')\"\n",
              "              title=\"Convert this dataframe to an interactive table.\"\n",
              "              style=\"display:none;\">\n",
              "        \n",
              "  <svg xmlns=\"http://www.w3.org/2000/svg\" height=\"24px\"viewBox=\"0 0 24 24\"\n",
              "       width=\"24px\">\n",
              "    <path d=\"M0 0h24v24H0V0z\" fill=\"none\"/>\n",
              "    <path d=\"M18.56 5.44l.94 2.06.94-2.06 2.06-.94-2.06-.94-.94-2.06-.94 2.06-2.06.94zm-11 1L8.5 8.5l.94-2.06 2.06-.94-2.06-.94L8.5 2.5l-.94 2.06-2.06.94zm10 10l.94 2.06.94-2.06 2.06-.94-2.06-.94-.94-2.06-.94 2.06-2.06.94z\"/><path d=\"M17.41 7.96l-1.37-1.37c-.4-.4-.92-.59-1.43-.59-.52 0-1.04.2-1.43.59L10.3 9.45l-7.72 7.72c-.78.78-.78 2.05 0 2.83L4 21.41c.39.39.9.59 1.41.59.51 0 1.02-.2 1.41-.59l7.78-7.78 2.81-2.81c.8-.78.8-2.07 0-2.86zM5.41 20L4 18.59l7.72-7.72 1.47 1.35L5.41 20z\"/>\n",
              "  </svg>\n",
              "      </button>\n",
              "      \n",
              "  <style>\n",
              "    .colab-df-container {\n",
              "      display:flex;\n",
              "      flex-wrap:wrap;\n",
              "      gap: 12px;\n",
              "    }\n",
              "\n",
              "    .colab-df-convert {\n",
              "      background-color: #E8F0FE;\n",
              "      border: none;\n",
              "      border-radius: 50%;\n",
              "      cursor: pointer;\n",
              "      display: none;\n",
              "      fill: #1967D2;\n",
              "      height: 32px;\n",
              "      padding: 0 0 0 0;\n",
              "      width: 32px;\n",
              "    }\n",
              "\n",
              "    .colab-df-convert:hover {\n",
              "      background-color: #E2EBFA;\n",
              "      box-shadow: 0px 1px 2px rgba(60, 64, 67, 0.3), 0px 1px 3px 1px rgba(60, 64, 67, 0.15);\n",
              "      fill: #174EA6;\n",
              "    }\n",
              "\n",
              "    [theme=dark] .colab-df-convert {\n",
              "      background-color: #3B4455;\n",
              "      fill: #D2E3FC;\n",
              "    }\n",
              "\n",
              "    [theme=dark] .colab-df-convert:hover {\n",
              "      background-color: #434B5C;\n",
              "      box-shadow: 0px 1px 3px 1px rgba(0, 0, 0, 0.15);\n",
              "      filter: drop-shadow(0px 1px 2px rgba(0, 0, 0, 0.3));\n",
              "      fill: #FFFFFF;\n",
              "    }\n",
              "  </style>\n",
              "\n",
              "      <script>\n",
              "        const buttonEl =\n",
              "          document.querySelector('#df-e9087a71-8788-46b1-8583-ce3a1b89af94 button.colab-df-convert');\n",
              "        buttonEl.style.display =\n",
              "          google.colab.kernel.accessAllowed ? 'block' : 'none';\n",
              "\n",
              "        async function convertToInteractive(key) {\n",
              "          const element = document.querySelector('#df-e9087a71-8788-46b1-8583-ce3a1b89af94');\n",
              "          const dataTable =\n",
              "            await google.colab.kernel.invokeFunction('convertToInteractive',\n",
              "                                                     [key], {});\n",
              "          if (!dataTable) return;\n",
              "\n",
              "          const docLinkHtml = 'Like what you see? Visit the ' +\n",
              "            '<a target=\"_blank\" href=https://colab.research.google.com/notebooks/data_table.ipynb>data table notebook</a>'\n",
              "            + ' to learn more about interactive tables.';\n",
              "          element.innerHTML = '';\n",
              "          dataTable['output_type'] = 'display_data';\n",
              "          await google.colab.output.renderOutput(dataTable, element);\n",
              "          const docLink = document.createElement('div');\n",
              "          docLink.innerHTML = docLinkHtml;\n",
              "          element.appendChild(docLink);\n",
              "        }\n",
              "      </script>\n",
              "    </div>\n",
              "  </div>\n",
              "  "
            ],
            "text/plain": [
              "                                                                                                                                                                                                                                                                                                                                 Text  \\\n",
              "10967  \"\"\"السلام عليكم ورحمة الله وبركاته \\n  \\n فرع الملك عبدالعزيز 100% \\n فرع خالد بن الوليد 90 % \\n  \\n هذا تقييمي له .. وهو من أفضل المطاعم اللي أكلت فيها كبسة. \\n أتمنى اللي يعرف مطاعم تطبخ بنفس طريقته يتحفنا فيها\"\"\"\\tPositive                                                                                                \n",
              "10968  والله ياعيال اكلت منه / \\n  \\n 1- همبرجر دجاج وكان جيد جدا .. \\n 2- جربت اللحم ونوعا ما اعجبني .. \\n 3- البطاطس بها نكهه ممتازه جدا .. \\n 4-الاسعار جيده مع ارتفاع .. \\n 5- الخدمه جيده جدا ما تطووول .. \\n 6-الموقع الي جيته  فى طريق الملك عبد الله فى مجمع التميمي الجديد \\n  \\n -- \\n  \\n فمان الكريم \\n Mohammed AL Jeaid   \n",
              "10969  المطعم في تراجع مستمر                                                                                                                                                                                                                                                                                                            \n",
              "\n",
              "       Sentiment  \n",
              "10967  Positive   \n",
              "10968  Neutral    \n",
              "10969  Negative   "
            ]
          },
          "execution_count": 140,
          "metadata": {},
          "output_type": "execute_result"
        }
      ],
      "source": [
        "data_df.tail(3)"
      ]
    },
    {
      "cell_type": "markdown",
      "metadata": {
        "id": "6zd3acEGoQA8"
      },
      "source": [
        "# **check if there is missing value**\n",
        "\n"
      ]
    },
    {
      "cell_type": "code",
      "execution_count": null,
      "metadata": {
        "colab": {
          "base_uri": "https://localhost:8080/"
        },
        "id": "tPBuIOhvoQA9",
        "outputId": "df460769-d920-4ebe-d82f-8ea1e731d408"
      },
      "outputs": [
        {
          "data": {
            "text/plain": [
              "False"
            ]
          },
          "execution_count": 141,
          "metadata": {},
          "output_type": "execute_result"
        }
      ],
      "source": [
        "# Any missing values?\n",
        "data_df.isnull().values.any()"
      ]
    },
    {
      "cell_type": "code",
      "execution_count": null,
      "metadata": {
        "colab": {
          "base_uri": "https://localhost:8080/"
        },
        "id": "tZt8bdrqoQA_",
        "outputId": "e0f46fa4-062e-4093-babe-e788178e3cd9"
      },
      "outputs": [
        {
          "data": {
            "text/plain": [
              "Text         0\n",
              "Sentiment    0\n",
              "dtype: int64"
            ]
          },
          "execution_count": 142,
          "metadata": {},
          "output_type": "execute_result"
        }
      ],
      "source": [
        "# Total missing values for each feature\n",
        "data_df.isnull().sum()"
      ]
    },
    {
      "cell_type": "code",
      "execution_count": null,
      "metadata": {
        "id": "A9IkwMfwoQBN"
      },
      "outputs": [],
      "source": [
        "Sentiment= data_df.groupby(['Sentiment'])"
      ]
    },
    {
      "cell_type": "code",
      "execution_count": null,
      "metadata": {
        "colab": {
          "base_uri": "https://localhost:8080/"
        },
        "id": "rVbzIgrVoQBO",
        "outputId": "d419b69c-33bd-4f18-9b27-7b3141927aae",
        "scrolled": true
      },
      "outputs": [
        {
          "data": {
            "text/html": [
              "\n",
              "  <div id=\"df-a2b12d00-1ccb-4e4d-a82d-53304cd80962\">\n",
              "    <div class=\"colab-df-container\">\n",
              "      <div>\n",
              "<style scoped>\n",
              "    .dataframe tbody tr th:only-of-type {\n",
              "        vertical-align: middle;\n",
              "    }\n",
              "\n",
              "    .dataframe tbody tr th {\n",
              "        vertical-align: top;\n",
              "    }\n",
              "\n",
              "    .dataframe thead tr th {\n",
              "        text-align: left;\n",
              "    }\n",
              "\n",
              "    .dataframe thead tr:last-of-type th {\n",
              "        text-align: right;\n",
              "    }\n",
              "</style>\n",
              "<table border=\"1\" class=\"dataframe\">\n",
              "  <thead>\n",
              "    <tr>\n",
              "      <th></th>\n",
              "      <th colspan=\"4\" halign=\"left\">Text</th>\n",
              "    </tr>\n",
              "    <tr>\n",
              "      <th></th>\n",
              "      <th>count</th>\n",
              "      <th>unique</th>\n",
              "      <th>top</th>\n",
              "      <th>freq</th>\n",
              "    </tr>\n",
              "    <tr>\n",
              "      <th>Sentiment</th>\n",
              "      <th></th>\n",
              "      <th></th>\n",
              "      <th></th>\n",
              "      <th></th>\n",
              "    </tr>\n",
              "  </thead>\n",
              "  <tbody>\n",
              "    <tr>\n",
              "      <th>Irrelevant</th>\n",
              "      <td>203</td>\n",
              "      <td>203</td>\n",
              "      <td>منعتني الحمية \\nللأسف لم أستطع التذوق من كنافة حبيبة مع أنني كنت أريد تجربيها و تجريب المدلوقة .... لكن للأسف الحمية كانت شديدة و لم أستطع التجربة\\n</td>\n",
              "      <td>1</td>\n",
              "    </tr>\n",
              "    <tr>\n",
              "      <th>Negative</th>\n",
              "      <td>2591</td>\n",
              "      <td>2587</td>\n",
              "      <td>لم يعجبني</td>\n",
              "      <td>4</td>\n",
              "    </tr>\n",
              "    <tr>\n",
              "      <th>Neutral</th>\n",
              "      <td>1059</td>\n",
              "      <td>1057</td>\n",
              "      <td>عادي جدا</td>\n",
              "      <td>2</td>\n",
              "    </tr>\n",
              "    <tr>\n",
              "      <th>Positive</th>\n",
              "      <td>7117</td>\n",
              "      <td>7097</td>\n",
              "      <td>لذيذ</td>\n",
              "      <td>5</td>\n",
              "    </tr>\n",
              "  </tbody>\n",
              "</table>\n",
              "</div>\n",
              "      <button class=\"colab-df-convert\" onclick=\"convertToInteractive('df-a2b12d00-1ccb-4e4d-a82d-53304cd80962')\"\n",
              "              title=\"Convert this dataframe to an interactive table.\"\n",
              "              style=\"display:none;\">\n",
              "        \n",
              "  <svg xmlns=\"http://www.w3.org/2000/svg\" height=\"24px\"viewBox=\"0 0 24 24\"\n",
              "       width=\"24px\">\n",
              "    <path d=\"M0 0h24v24H0V0z\" fill=\"none\"/>\n",
              "    <path d=\"M18.56 5.44l.94 2.06.94-2.06 2.06-.94-2.06-.94-.94-2.06-.94 2.06-2.06.94zm-11 1L8.5 8.5l.94-2.06 2.06-.94-2.06-.94L8.5 2.5l-.94 2.06-2.06.94zm10 10l.94 2.06.94-2.06 2.06-.94-2.06-.94-.94-2.06-.94 2.06-2.06.94z\"/><path d=\"M17.41 7.96l-1.37-1.37c-.4-.4-.92-.59-1.43-.59-.52 0-1.04.2-1.43.59L10.3 9.45l-7.72 7.72c-.78.78-.78 2.05 0 2.83L4 21.41c.39.39.9.59 1.41.59.51 0 1.02-.2 1.41-.59l7.78-7.78 2.81-2.81c.8-.78.8-2.07 0-2.86zM5.41 20L4 18.59l7.72-7.72 1.47 1.35L5.41 20z\"/>\n",
              "  </svg>\n",
              "      </button>\n",
              "      \n",
              "  <style>\n",
              "    .colab-df-container {\n",
              "      display:flex;\n",
              "      flex-wrap:wrap;\n",
              "      gap: 12px;\n",
              "    }\n",
              "\n",
              "    .colab-df-convert {\n",
              "      background-color: #E8F0FE;\n",
              "      border: none;\n",
              "      border-radius: 50%;\n",
              "      cursor: pointer;\n",
              "      display: none;\n",
              "      fill: #1967D2;\n",
              "      height: 32px;\n",
              "      padding: 0 0 0 0;\n",
              "      width: 32px;\n",
              "    }\n",
              "\n",
              "    .colab-df-convert:hover {\n",
              "      background-color: #E2EBFA;\n",
              "      box-shadow: 0px 1px 2px rgba(60, 64, 67, 0.3), 0px 1px 3px 1px rgba(60, 64, 67, 0.15);\n",
              "      fill: #174EA6;\n",
              "    }\n",
              "\n",
              "    [theme=dark] .colab-df-convert {\n",
              "      background-color: #3B4455;\n",
              "      fill: #D2E3FC;\n",
              "    }\n",
              "\n",
              "    [theme=dark] .colab-df-convert:hover {\n",
              "      background-color: #434B5C;\n",
              "      box-shadow: 0px 1px 3px 1px rgba(0, 0, 0, 0.15);\n",
              "      filter: drop-shadow(0px 1px 2px rgba(0, 0, 0, 0.3));\n",
              "      fill: #FFFFFF;\n",
              "    }\n",
              "  </style>\n",
              "\n",
              "      <script>\n",
              "        const buttonEl =\n",
              "          document.querySelector('#df-a2b12d00-1ccb-4e4d-a82d-53304cd80962 button.colab-df-convert');\n",
              "        buttonEl.style.display =\n",
              "          google.colab.kernel.accessAllowed ? 'block' : 'none';\n",
              "\n",
              "        async function convertToInteractive(key) {\n",
              "          const element = document.querySelector('#df-a2b12d00-1ccb-4e4d-a82d-53304cd80962');\n",
              "          const dataTable =\n",
              "            await google.colab.kernel.invokeFunction('convertToInteractive',\n",
              "                                                     [key], {});\n",
              "          if (!dataTable) return;\n",
              "\n",
              "          const docLinkHtml = 'Like what you see? Visit the ' +\n",
              "            '<a target=\"_blank\" href=https://colab.research.google.com/notebooks/data_table.ipynb>data table notebook</a>'\n",
              "            + ' to learn more about interactive tables.';\n",
              "          element.innerHTML = '';\n",
              "          dataTable['output_type'] = 'display_data';\n",
              "          await google.colab.output.renderOutput(dataTable, element);\n",
              "          const docLink = document.createElement('div');\n",
              "          docLink.innerHTML = docLinkHtml;\n",
              "          element.appendChild(docLink);\n",
              "        }\n",
              "      </script>\n",
              "    </div>\n",
              "  </div>\n",
              "  "
            ],
            "text/plain": [
              "            Text         \\\n",
              "           count unique   \n",
              "Sentiment                 \n",
              "Irrelevant  203   203     \n",
              "Negative    2591  2587    \n",
              "Neutral     1059  1057    \n",
              "Positive    7117  7097    \n",
              "\n",
              "                                                                                                                                                                  \\\n",
              "                                                                                                                                                             top   \n",
              "Sentiment                                                                                                                                                          \n",
              "Irrelevant  منعتني الحمية \\nللأسف لم أستطع التذوق من كنافة حبيبة مع أنني كنت أريد تجربيها و تجريب المدلوقة .... لكن للأسف الحمية كانت شديدة و لم أستطع التجربة\\n   \n",
              "Negative    لم يعجبني                                                                                                                                              \n",
              "Neutral     عادي جدا                                                                                                                                               \n",
              "Positive    لذيذ                                                                                                                                                   \n",
              "\n",
              "                 \n",
              "           freq  \n",
              "Sentiment        \n",
              "Irrelevant  1    \n",
              "Negative    4    \n",
              "Neutral     2    \n",
              "Positive    5    "
            ]
          },
          "execution_count": 144,
          "metadata": {},
          "output_type": "execute_result"
        }
      ],
      "source": [
        "Sentiment.describe()"
      ]
    },
    {
      "cell_type": "markdown",
      "metadata": {
        "id": "vzfC9T0poQBY"
      },
      "source": [
        "# **Preprocess the text**\n",
        "\n"
      ]
    },
    {
      "cell_type": "markdown",
      "metadata": {
        "id": "blN875Ly50cA"
      },
      "source": [
        "*issue 1: remove dublicate row (letters and records)*"
      ]
    },
    {
      "cell_type": "code",
      "execution_count": null,
      "metadata": {
        "id": "U_Og0bLXoQBb"
      },
      "outputs": [],
      "source": [
        "# remove repeated letters\n",
        "def remove_repeating_char(Text):\n",
        "    return re.sub(r'(.)\\1+', r'\\1', Text)"
      ]
    },
    {
      "cell_type": "code",
      "execution_count": null,
      "metadata": {
        "colab": {
          "base_uri": "https://localhost:8080/",
          "height": 285
        },
        "id": "hDGcSyQuXlcG",
        "outputId": "e133c17f-dff9-4a4b-d372-a621f8d174ea"
      },
      "outputs": [
        {
          "data": {
            "text/html": [
              "\n",
              "  <div id=\"df-aa7db4e4-20f3-4a82-8b84-ed2baa0cc1c5\">\n",
              "    <div class=\"colab-df-container\">\n",
              "      <div>\n",
              "<style scoped>\n",
              "    .dataframe tbody tr th:only-of-type {\n",
              "        vertical-align: middle;\n",
              "    }\n",
              "\n",
              "    .dataframe tbody tr th {\n",
              "        vertical-align: top;\n",
              "    }\n",
              "\n",
              "    .dataframe thead th {\n",
              "        text-align: right;\n",
              "    }\n",
              "</style>\n",
              "<table border=\"1\" class=\"dataframe\">\n",
              "  <thead>\n",
              "    <tr style=\"text-align: right;\">\n",
              "      <th></th>\n",
              "      <th>Text</th>\n",
              "      <th>Sentiment</th>\n",
              "    </tr>\n",
              "  </thead>\n",
              "  <tbody>\n",
              "    <tr>\n",
              "      <th>2794</th>\n",
              "      <td>Tres Bonne creperie dans le Lot \\nOuverte toute l'année, cette creperie se double d'un bar à bières avec plus de 100 variétés.  Les crèpes sont copieuses, variées, les ingrédients de bonne qualité. Les prix sont extremements raisonnables. L'accueil est chaleureux. L'été, une terrasse très agréable permet de déjeuner ou diner sous la tonnelle. Seul bemol, il n'y a que des crèpes au froment (même les salées) et pas de galettes de sarrasin.</td>\n",
              "      <td>Positive</td>\n",
              "    </tr>\n",
              "    <tr>\n",
              "      <th>3308</th>\n",
              "      <td>احسن مطعم بيتزا عندي في العالم طعمه في البيتزا حلــــــــــــــــــــــــــــــــــــــــــــــــــــــــو</td>\n",
              "      <td>Positive</td>\n",
              "    </tr>\n",
              "    <tr>\n",
              "      <th>4481</th>\n",
              "      <td>لذيذ</td>\n",
              "      <td>Negative</td>\n",
              "    </tr>\n",
              "    <tr>\n",
              "      <th>4807</th>\n",
              "      <td>لذيذ</td>\n",
              "      <td>Neutral</td>\n",
              "    </tr>\n",
              "    <tr>\n",
              "      <th>5256</th>\n",
              "      <td>جيد</td>\n",
              "      <td>Negative</td>\n",
              "    </tr>\n",
              "  </tbody>\n",
              "</table>\n",
              "</div>\n",
              "      <button class=\"colab-df-convert\" onclick=\"convertToInteractive('df-aa7db4e4-20f3-4a82-8b84-ed2baa0cc1c5')\"\n",
              "              title=\"Convert this dataframe to an interactive table.\"\n",
              "              style=\"display:none;\">\n",
              "        \n",
              "  <svg xmlns=\"http://www.w3.org/2000/svg\" height=\"24px\"viewBox=\"0 0 24 24\"\n",
              "       width=\"24px\">\n",
              "    <path d=\"M0 0h24v24H0V0z\" fill=\"none\"/>\n",
              "    <path d=\"M18.56 5.44l.94 2.06.94-2.06 2.06-.94-2.06-.94-.94-2.06-.94 2.06-2.06.94zm-11 1L8.5 8.5l.94-2.06 2.06-.94-2.06-.94L8.5 2.5l-.94 2.06-2.06.94zm10 10l.94 2.06.94-2.06 2.06-.94-2.06-.94-.94-2.06-.94 2.06-2.06.94z\"/><path d=\"M17.41 7.96l-1.37-1.37c-.4-.4-.92-.59-1.43-.59-.52 0-1.04.2-1.43.59L10.3 9.45l-7.72 7.72c-.78.78-.78 2.05 0 2.83L4 21.41c.39.39.9.59 1.41.59.51 0 1.02-.2 1.41-.59l7.78-7.78 2.81-2.81c.8-.78.8-2.07 0-2.86zM5.41 20L4 18.59l7.72-7.72 1.47 1.35L5.41 20z\"/>\n",
              "  </svg>\n",
              "      </button>\n",
              "      \n",
              "  <style>\n",
              "    .colab-df-container {\n",
              "      display:flex;\n",
              "      flex-wrap:wrap;\n",
              "      gap: 12px;\n",
              "    }\n",
              "\n",
              "    .colab-df-convert {\n",
              "      background-color: #E8F0FE;\n",
              "      border: none;\n",
              "      border-radius: 50%;\n",
              "      cursor: pointer;\n",
              "      display: none;\n",
              "      fill: #1967D2;\n",
              "      height: 32px;\n",
              "      padding: 0 0 0 0;\n",
              "      width: 32px;\n",
              "    }\n",
              "\n",
              "    .colab-df-convert:hover {\n",
              "      background-color: #E2EBFA;\n",
              "      box-shadow: 0px 1px 2px rgba(60, 64, 67, 0.3), 0px 1px 3px 1px rgba(60, 64, 67, 0.15);\n",
              "      fill: #174EA6;\n",
              "    }\n",
              "\n",
              "    [theme=dark] .colab-df-convert {\n",
              "      background-color: #3B4455;\n",
              "      fill: #D2E3FC;\n",
              "    }\n",
              "\n",
              "    [theme=dark] .colab-df-convert:hover {\n",
              "      background-color: #434B5C;\n",
              "      box-shadow: 0px 1px 3px 1px rgba(0, 0, 0, 0.15);\n",
              "      filter: drop-shadow(0px 1px 2px rgba(0, 0, 0, 0.3));\n",
              "      fill: #FFFFFF;\n",
              "    }\n",
              "  </style>\n",
              "\n",
              "      <script>\n",
              "        const buttonEl =\n",
              "          document.querySelector('#df-aa7db4e4-20f3-4a82-8b84-ed2baa0cc1c5 button.colab-df-convert');\n",
              "        buttonEl.style.display =\n",
              "          google.colab.kernel.accessAllowed ? 'block' : 'none';\n",
              "\n",
              "        async function convertToInteractive(key) {\n",
              "          const element = document.querySelector('#df-aa7db4e4-20f3-4a82-8b84-ed2baa0cc1c5');\n",
              "          const dataTable =\n",
              "            await google.colab.kernel.invokeFunction('convertToInteractive',\n",
              "                                                     [key], {});\n",
              "          if (!dataTable) return;\n",
              "\n",
              "          const docLinkHtml = 'Like what you see? Visit the ' +\n",
              "            '<a target=\"_blank\" href=https://colab.research.google.com/notebooks/data_table.ipynb>data table notebook</a>'\n",
              "            + ' to learn more about interactive tables.';\n",
              "          element.innerHTML = '';\n",
              "          dataTable['output_type'] = 'display_data';\n",
              "          await google.colab.output.renderOutput(dataTable, element);\n",
              "          const docLink = document.createElement('div');\n",
              "          docLink.innerHTML = docLinkHtml;\n",
              "          element.appendChild(docLink);\n",
              "        }\n",
              "      </script>\n",
              "    </div>\n",
              "  </div>\n",
              "  "
            ],
            "text/plain": [
              "                                                                                                                                                                                                                                                                                                                                                                                                                                                           Text  \\\n",
              "2794  Tres Bonne creperie dans le Lot \\nOuverte toute l'année, cette creperie se double d'un bar à bières avec plus de 100 variétés.  Les crèpes sont copieuses, variées, les ingrédients de bonne qualité. Les prix sont extremements raisonnables. L'accueil est chaleureux. L'été, une terrasse très agréable permet de déjeuner ou diner sous la tonnelle. Seul bemol, il n'y a que des crèpes au froment (même les salées) et pas de galettes de sarrasin.   \n",
              "3308  احسن مطعم بيتزا عندي في العالم طعمه في البيتزا حلــــــــــــــــــــــــــــــــــــــــــــــــــــــــو                                                                                                                                                                                                                                                                                                                                                  \n",
              "4481  لذيذ                                                                                                                                                                                                                                                                                                                                                                                                                                                        \n",
              "4807  لذيذ                                                                                                                                                                                                                                                                                                                                                                                                                                                        \n",
              "5256  جيد                                                                                                                                                                                                                                                                                                                                                                                                                                                         \n",
              "\n",
              "      Sentiment  \n",
              "2794  Positive   \n",
              "3308  Positive   \n",
              "4481  Negative   \n",
              "4807  Neutral    \n",
              "5256  Negative   "
            ]
          },
          "execution_count": 146,
          "metadata": {},
          "output_type": "execute_result"
        }
      ],
      "source": [
        "# find duplicated rows that have same value in text column\n",
        "data_df[data_df.duplicated(subset='Text')].head()"
      ]
    },
    {
      "cell_type": "code",
      "execution_count": null,
      "metadata": {
        "id": "5UklNYAwbeFB"
      },
      "outputs": [],
      "source": [
        "#remove duplicate reviews\n",
        "data_df.drop_duplicates(subset='Text',inplace=True)"
      ]
    },
    {
      "cell_type": "code",
      "execution_count": null,
      "metadata": {
        "colab": {
          "base_uri": "https://localhost:8080/"
        },
        "id": "hQWA7kUA7kvM",
        "outputId": "64bdbb70-539a-4480-fb13-98c175ca35fa"
      },
      "outputs": [
        {
          "data": {
            "text/plain": [
              "0"
            ]
          },
          "execution_count": 148,
          "metadata": {},
          "output_type": "execute_result"
        }
      ],
      "source": [
        "#check if duplicates were removed\n",
        "data_df.duplicated(subset='Text').sum()"
      ]
    },
    {
      "cell_type": "markdown",
      "metadata": {
        "id": "UCMjaeRqaTRF"
      },
      "source": [
        "*Issue 2 : Remove Punctuations*"
      ]
    },
    {
      "cell_type": "code",
      "execution_count": null,
      "metadata": {
        "id": "ClZ1Dxibhjld"
      },
      "outputs": [],
      "source": [
        " # list of punctuation to be removed \n",
        "\n",
        "arabic_punctuations = '''`÷×؛<>_()*&^%][ـ،/:\"؟.,'{}~¦+|!”…“–ـ'''\n",
        "english_punctuations = string.punctuation\n",
        "punctuations_list = arabic_punctuations + english_punctuations\n",
        "\n",
        "#takes the text as an input and removes any punctuation added to it \n",
        "def remove_punctuations(Text):\n",
        "  \n",
        "  translator = str.maketrans('', '', punctuations_list)\n",
        "  text =Text.translate(translator)\n",
        "  text=' '.join(c for c in text.split())\n",
        "  return text\n",
        " \n"
      ]
    },
    {
      "cell_type": "markdown",
      "metadata": {
        "id": "j71ivJigBVYk"
      },
      "source": [
        "*Issue 3 :Diacritical marks, Normalization**"
      ]
    },
    {
      "cell_type": "code",
      "execution_count": null,
      "metadata": {
        "id": "hJox-ieVoQBZ"
      },
      "outputs": [],
      "source": [
        "# Removal of diacritics and arabic letters normalization\n",
        "def normalize_arabic(Text):\n",
        "    #remove diacritical marks \n",
        "    Text = araby.strip_diacritics(Text)\n",
        "    Text = araby.strip_tashkeel(Text)\n",
        "\n",
        "    #normalize arabic letters\n",
        "    Text = araby.normalize_alef(Text)\n",
        "    Text = araby.normalize_hamza(Text)\n",
        "    Text = araby.normalize_ligature(Text)\n",
        "    Text = re.sub(\"ة\", \"ه\", Text)\n",
        "    Text = re.sub(\"گ\", \"ك\", Text)\n",
        "    return Text"
      ]
    },
    {
      "cell_type": "markdown",
      "metadata": {
        "id": "A5Cm8g2d6-L6"
      },
      "source": [
        "*Issue 4 : Remove StopWords*"
      ]
    },
    {
      "cell_type": "code",
      "execution_count": null,
      "metadata": {
        "id": "AhZ6eyV5_xge"
      },
      "outputs": [],
      "source": [
        "ar_stops = set(stopwords.words('arabic'))\n",
        "#remove stop_words\n",
        "stop_words = {\"،\",\"\",\"ياعيال\",\"عندهم\",\"اللي\",\"ورحمة\",\"وبركاته\",\"عليكم\",\"السلام\",\"السياسة\",\"آمينَ\",\"آه\",\"آهاً\",\"فعلاً\",\"أ\",\"الساعه\",\"أجل\",\"أجمع\",\"أخ\",\"أخذ\",\"أصبح\",\"اسمهم\",\"أقبل\",\"أقل\",\"أكثر\",\"ألا\",\"أم\",\"أما\",\"أمامك\",\"اساسا\",\"أمسى\",\"أمّا\",\"أن\",\"أنا\",\"أنت\",\"أنتم\",\"أنتما\",\"أنتن\",\"أنتِ\",\"أنشأ\",\"أنّى\",\"أو\",\"أوشك\",\"أولئك\",\"أولئكم\",\"أولاء\",\"أولالك\",\"أوّهْ\",\"أي\",\"أيا\",\"أين\",\"أينما\",\"أيّ\",\"أَنَّ\",\"أََيُّ\",\"أُفٍّ\",\"إذ\",\"إذا\",\"إذاً\",\"إذما\",\"إذن\",\"إلى\",\"إليكم\",\"إليكما\",\"إليكنّ\",\"إليكَ\",\"إلَيْكَ\",\"إلّا\",\"إمّا\",\"إن\",\"إنّما\",\"إي\",\"إياك\",\"إياكم\",\"إياكما\",\"إياكن\",\"إيانا\",\"إياه\",\"إياها\",\"إياهم\",\"إياهما\",\"كلته\",\"والمفترض\",\"إيهٍ\",\"إِنَّ\",\"ا\",\"نخليها\",\"المالك\",\"اجل\",\"المفترض\",\"اخرى\",\"ارفقها\",\"اذا\",\"اربعة\",\"ارتدّ\",\"وراح\",\"اطار\",\"اعادة\",\"اعلنت\",\"اف\",\"اكثر\",\"صراحة\",\"الألاء\",\"الألى\",\"الا\",\"الاخيرة\",\"الان\",\"الاول\",\"الاولى\",\"التى\",\"التي\",\"الثاني\",\"الثانية\",\"بصراحة\",\"الذى\",\"الذي\",\"الذين\",\"السابق\",\"الف\",\"المهمه\",\"اللاتي\",\"للاسئله\",\"يتغدى\",\"يتعشى\",\"برى\",\"خلال\",\"اللواتي\",\"الماضي\",\"المقبل\",\"الوقت\",\"الى\",\"اليوم\",\"اما\",\"امام\",\"امس\",\"ان\",\"انبرى\",\"انقلب\",\"انه\",\"انها\",\"او\",\"اول\",\"اي\",\"العيد\",\"ايام\",\"ايضا\",\"ب\",\"زرناه\",\"ايام\",\"بان\",\"بخٍ\",\"برس\",\"بسبب\",\"بسّ\",\"بشكل\",\"بضع\",\"يعني\",\"بعد\",\"بعض\",\"بك\",\"بكم\",\"لمطعم\",\"بكن\",\"بل\",\"بلى\",\"بما\",\"بماذا\",\"بمن\",\"بن\",\"بنا\",\"به\",\"بها\",\"بي\",\"بيد\",\"بين\",\"بَسْ\",\"بَلْهَ\",\"بِئْسَ\",\"تانِ\",\"تانِك\",\"تبدّل\",\"تجاه\",\"تحوّل\",\"تلقاء\",\"تلك\",\"تلكم\",\"تلكما\",\"تم\",\"تينك\",\"تَيْنِ\",\"تِه\",\"تِي\",\"ثلاثة\",\"ثم\",\"ثمّ\",\"تجربتي\",\"ثُمَّ\",\"جعل\",\"تجربه\",\"جميع\",\"جير\",\"حار\",\"حاشا\",\"حاليا\",\"حاي\",\"حتى\",\"حرى\",\"حسب\",\"حم\",\"حوالى\",\"حول\",\"حيث\",\"حيثما\",\"حين\",\"حيَّ\",\"حَبَّذَا\",\"حَتَّى\",\"حَذارِ\",\"خلا\",\"خلال\",\"دون\",\"دونك\",\"ذا\",\"ذات\",\"ذاك\",\"ذانك\",\"ذانِ\",\"ذلك\",\"ذلكم\",\"ذلكما\",\"مثل\",\"ذو\",\"ذوا\",\"ذواتا\",\"المطاعم\",\"ذَيْنِ\",\"ذِه\",\"ذِي\",\"راح\",\"رجع\",\"بحدود\",\"اتوقع\",\"الصحن\",\"زيارة\",\"سبحان\",\"سرعان\",\"سنة\",\"سنوات\",\"سوف\",\"سوى\",\"سَاءَ\",\"سَاءَمَا\",\"شبه\",\"شخصا\",\"شرع\",\"شَتَّانَ\",\"صار\",\"صباح\",\"صفر\",\"ضمن\",\"طاق\",\"طالما\",\"طفق\",\"طَق\",\"ظلّ\",\"عاد\",\"عام\",\"عاما\",\"عامة\",\"عدا\",\"عدة\",\"عدد\",\"عدم\",\"عسى\",\"عشر\",\"عشرة\",\"علق\",\"على\",\"عليك\",\"عليه\",\"عليها\",\"علًّ\",\"عن\",\"عند\",\"عندما\",\"عوض\",\"عين\",\"ضمن\",\"عَمَّا\",\"غدا\",\"مرحباا\",\"ف\",\"فان\",\"فلان\",\"فو\",\"فى\",\"في\",\"فيم\",\"فيما\",\"فيه\",\"فيها\",\"قال\",\"قام\",\"قبل\",\"قد\",\"قطّ\",\"قلما\",\"قوة\",\"كأنّما\",\"كأين\",\"كأيّ\",\"كأيّن\",\"كاد\",\"كان\",\"كانت\",\"كذا\",\"كذلك\",\"كرب\",\"كل\",\"كلا\",\"كلاهما\",\"كلتا\",\"كلم\",\"كليكما\",\"كليهما\",\"كلّما\",\"كلَّا\",\"كم\",\"كما\",\"كي\",\"كيت\",\"كيف\",\"اطلب\",\"كَأَنَّ\",\"كِخ\",\"لئن\",\"تحياتي\",\"قائمة\",\"لاسيما\",\"تشكيله\",\"لدى\",\"اخذنا\",\"لقاء\",\"لك\",\"لكم\",\"اطلبه\",\"لكن\",\"المسا\",\"لكي\",\"جاي\",\"ببساطه\",\"بالعافية\",\"لما\",\"لمّا\",\"فمان\",\"لنا\",\"له\",\"لها\",\"لو\",\"قلت\",\"لولا\",\"كمان\",\"لي\",\"اخر\",\"والشفاء\",\"بالهناء\",\"لَسْتُم\",\"لَسْتُمَا\",\"لَسْتُنَّ\",\"لَسْتِ\",\"لَسْنَ\",\"لَعَلَّ\",\"ل\",\"لَيْتَ\",\"ل\",\"طلبت\",\"وكمان\",\"بتاريخ\",\"لَيْسُوا\",\"لَِسْنَا\",\"فقط\",\"ماانفك\",\"وسط\",\"مادام\",\"ماذا\",\"مازال\",\"مره\",\"الخلاصه\",\"متى\",\"مثل\",\"موجوده\",\"مساء\",\"الانترنت\",\"مقابل\",\"مكانكم\",\"انا\",\"المطعم\",\"مكانَك\",\"شي\",\"مليون\",\"مما\",\"ممن\",\"من\",\"منذ\",\"منها\",\"مه\",\"مهما\",\"مَنْ\",\"مِن\",\"نحن\",\"نحو\",\"نعم\",\"نفس\",\"نفسه\",\"نهاية\",\"نَخْ\",\"نِعِمّا\",\"نِعْمَ\",\"ها\",\"هاكَ\",\"هاهنا\",\"هبّ\",\"هذا\",\"هذه\",\"هكذا\",\"هل\",\"بكل\",\"هلّا\",\"هم\",\"هما\",\"هن\",\"هنا\",\"هناك\",\"هنالك\",\"هو\",\"هي\",\"هيا\",\"هيت\",\"هيّا\",\"هَؤلاء\",\"هَاتانِ\",\"هَاتَيْنِ\",\"5-\",\"هَاتِي\",\"هَجْ\",\"هذا\",\"هَذانِ\",\"هَذَيْنِ\",\"هَذِه\",\"هَذِي\",\"و\",\"وا\",\"واحد\",\"واضاف\",\"واضافت\",\"واكد\",\"وان\",\"مطاعم\",\"واوضح\",\"مطعم\",\"وفي\",\"وقال\",\"وقالت\",\"وقد\",\"وقف\",\"وكان\",\"وكانت\",\"فطنت\",\"الكريم\",\"ومن\",\"مَن\",\"وهو\",\"وهي\",\"الانترنت\",\"وسوف\",\"والله\",\"يكون\",\"يمكن\",\"يوم\",\"اقوم\",\"بوصف\",\"بصراحه\",\"بالمطعم\",\"ّفصحن\"}\n",
        "def remove_stop_words(Text):\n",
        "    zen = TextBlob(Text)\n",
        "    words = zen.words\n",
        "    return \" \".join([w for w in words if not w in ar_stops and not w in stop_words and len(w) >= 2])"
      ]
    },
    {
      "cell_type": "markdown",
      "metadata": {
        "id": "E0HaXi4cCSJk"
      },
      "source": [
        "*Issue 5 : Foreign words/reviews*‏"
      ]
    },
    {
      "cell_type": "code",
      "execution_count": null,
      "metadata": {
        "id": "P5xaChVzu30a"
      },
      "outputs": [],
      "source": [
        "  import unicodedata\n",
        "  def strip_accents(Text):\n",
        " return ''.join(Text for Text in unicodedata.normalize('NFD', Text)\n",
        "                  if unicodedata.category(Text) != 'Mn')"
      ]
    },
    {
      "cell_type": "markdown",
      "metadata": {
        "id": "TEmjLaXK7KBD"
      },
      "source": [
        "*Issue 6 : Stemming*"
      ]
    },
    {
      "cell_type": "code",
      "execution_count": null,
      "metadata": {
        "id": "Lz0P8eh-f6-W"
      },
      "outputs": [],
      "source": [
        "from nltk.stem.isri import ISRIStemmer\n",
        "from nltk.tokenize import word_tokenize\n",
        "\n",
        "\n",
        "st = ISRIStemmer()\n",
        "\n",
        "# Define a function\n",
        "def stemming(word):\n",
        "    wordsfilter=' '\n",
        "    for a in word_tokenize(word):\n",
        "        stem = st.stem(a)\n",
        "        wordsfilter= wordsfilter + ' ' + stem\n",
        "    return(wordsfilter)\n",
        "\n",
        "# Call the function\n",
        "#data_df['Stemming']= data_df[\"Clean Text\"].apply(stemming)"
      ]
    },
    {
      "cell_type": "code",
      "execution_count": null,
      "metadata": {
        "id": "Cu-ChwpXoQBc"
      },
      "outputs": [],
      "source": [
        "#start processing the tweet\n",
        "def processPost(Text):\n",
        "\n",
        "   # remove punctuations \n",
        "    Text= remove_punctuations(Text)\n",
        "\n",
        "    #renove stop_words\n",
        "    Text= remove_stop_words(Text)\n",
        "    \n",
        "    # remove repeated letters\n",
        "    Text= remove_repeating_char(Text)\n",
        "  \n",
        "    # remove Arabic stop words from the tweets\n",
        "    Text = remove_stop_words(Text)\n",
        "    \n",
        "    #remove foreign words\n",
        "    Text = strip_accents(Text)\n",
        "    Text = re.sub(r'\\s*[A-Za-z]+\\b', ' ' , str(Text)).rstrip()\n",
        "   \n",
        "    # normalize the tweet\n",
        "    Text = normalize_arabic(str(Text))\n",
        "\n",
        "    # stemming: return the word to it root\n",
        "    Text = stemming(Text)\n",
        "    return Text"
      ]
    },
    {
      "cell_type": "code",
      "execution_count": null,
      "metadata": {
        "id": "T2485Vy0oQBj",
        "scrolled": true
      },
      "outputs": [],
      "source": [
        "# apply the method in all the text and creat another cloumn with the processed text\n",
        "data_df[\"Clean Text\"] = data_df['Text'].apply(lambda x: processPost(x))"
      ]
    },
    {
      "cell_type": "code",
      "execution_count": null,
      "metadata": {
        "colab": {
          "base_uri": "https://localhost:8080/",
          "height": 633
        },
        "id": "0mDew08XoQBk",
        "outputId": "faed37cb-8652-439d-9f1e-8bd61d016d6e"
      },
      "outputs": [
        {
          "data": {
            "text/html": [
              "\n",
              "  <div id=\"df-e38e54de-181e-48f3-bd7f-f8749fa40903\">\n",
              "    <div class=\"colab-df-container\">\n",
              "      <div>\n",
              "<style scoped>\n",
              "    .dataframe tbody tr th:only-of-type {\n",
              "        vertical-align: middle;\n",
              "    }\n",
              "\n",
              "    .dataframe tbody tr th {\n",
              "        vertical-align: top;\n",
              "    }\n",
              "\n",
              "    .dataframe thead th {\n",
              "        text-align: right;\n",
              "    }\n",
              "</style>\n",
              "<table border=\"1\" class=\"dataframe\">\n",
              "  <thead>\n",
              "    <tr style=\"text-align: right;\">\n",
              "      <th></th>\n",
              "      <th>Text</th>\n",
              "      <th>Sentiment</th>\n",
              "      <th>Clean Text</th>\n",
              "    </tr>\n",
              "  </thead>\n",
              "  <tbody>\n",
              "    <tr>\n",
              "      <th>2832</th>\n",
              "      <td>مطعم ذو ديكور جميل واكل ذو طعم جيد \\nالمطعم رائع كخدمة وديكور\\nولكن الاكل متوسط\\nاما حلقات البصل فهي مميزة جدا جدا جدا\\nوالاسعار مبالغ فيها\\nوانصح بزيارته لمرة واحدة فقط\\n</td>\n",
              "      <td>Positive</td>\n",
              "      <td>ديكور جمل وكل طعم جيد ريع كخدم ديكور اكل توسط حلق بصل فهي يزه جدا جدا جدا سعر بلغ نصح زير لمر وحد</td>\n",
              "    </tr>\n",
              "    <tr>\n",
              "      <th>4800</th>\n",
              "      <td>النكهة صفر  الخدمة صفر   الاسعار متوسطة  مطعم مادري وش اسميه  سيئ جدا جدا مافيه نكهه ابدا    طلبت اول شي من عندهم سوبريم  برجر كانت تجربة  سيئة جدا   قمت من النوم لقيت العيال طالبين تكساس وانا  ماعندي شيئ اكله وانحديت عليه قلت ان شاء الله المرة يصير كويس طلبت مكسيكانا برجر والطعم كان صفر وربي مافيها اي طعم كاني اكل اشواك  ااصلا المطعم ماقد شفت له فرع برا الا بالسعودية والامارات  انصحكم تبعدون عنه   تقليد كنتاكي   انتو تجربو وتتذكرون كلامي</td>\n",
              "      <td>Positive</td>\n",
              "      <td>نكه خدم سعر توسط ادر وش اسم سيي جدا جدا افه نكه ابد برم رجر جرب سيه جدا قمت نوم لقت عيل طلب كسس ونا اعند شيي اكل نحد شاء اله مره يصر كوس كسك رجر طعم ورب افي طعم كني اكل شوك اصل اقد شفت فرع برا سعد امر نصح بعد عنه قلد كنت نتو جربو ذكر كلم</td>\n",
              "    </tr>\n",
              "    <tr>\n",
              "      <th>7688</th>\n",
              "      <td>بصراحة من ألذ محلات الكب كيك ما لقيت له اي مثيل</td>\n",
              "      <td>Positive</td>\n",
              "      <td>الذ محل لكب كيك لقت ثيل</td>\n",
              "    </tr>\n",
              "    <tr>\n",
              "      <th>9618</th>\n",
              "      <td>مطعم 2 في 1  \\n  \\n في غاية الجمال وتنظيم وترتيب وحسن الاستقبال بذات من الشيف تميم هشام كاسوفه \\n البسمة ما تفارقه أبد وهو في أتم الاستعداد لمساعتدك  \\n  \\n المطعم يستاهل أن تصلي الفجر و في الساعة الثامنة أو التاسعة تأخذ العائلة معك إذا كنت متزوج \\n أو عزوبي  وتطلب فطورك الراااائع تطلب طلب وتضيف إليه 8 ريالات هو  يعطونك عرضهم  الخاص حسب رغبتك ولي معك ( هنيئا لكما )</td>\n",
              "      <td>Positive</td>\n",
              "      <td>غيه جمل نظم ريب وحس قبل بذت شيف تمم هشم كسف بسم فرق ابد اتم عدد لمساعتدك تهل تصل فجر سعه ثمن تسع تخذ عيل معك كنت تزج عزب طلب فطر ريع طلب طلب تضف اليه ريل عطو عرض خاص رغب ولي معك هني</td>\n",
              "    </tr>\n",
              "    <tr>\n",
              "      <th>10798</th>\n",
              "      <td>مكان رايق، مرتب ومريح \\n الخيارات ممتازة \\n الخدمة من احسن ما يكون \\n  \\n افضل مكان بالنسبة لي</td>\n",
              "      <td>Positive</td>\n",
              "      <td>كان ريق رتب ريح خير تزه خدم احس فضل كان نسب</td>\n",
              "    </tr>\n",
              "    <tr>\n",
              "      <th>2496</th>\n",
              "      <td>التصميم رائع و جميل \\nتصميم المكان ممتاز و فريد من نوعه و له طابع خاص و كأنك فى الغابات و الطعام ممتاز و السعر مناسب و الخدمه ممتازه و لكن بطيئه بعض الشئ و المطعم مزدحم و من الأفضل الحجز\\n</td>\n",
              "      <td>Positive</td>\n",
              "      <td>صمم ريع جمل صمم كان تاز فرد نوع طبع خاص كنك غاب طعم تاز سعر نسب خدم تزه بطي الش زدحم فضل حجز</td>\n",
              "    </tr>\n",
              "    <tr>\n",
              "      <th>1900</th>\n",
              "      <td>اطلاله خلابه \\nمطعم دافئ وكبير ماشاء الله\\nقريب من الشارجيا بس يتطلب انك تروح بتكسي لانه على مرتفع\\nالاكل ممتاز جنه اكل بيت الموظفين يهبلون و وايد ودودين\\n</td>\n",
              "      <td>Positive</td>\n",
              "      <td>طلل خلب دفي كبر اشء اله قرب شرج طلب انك ترح تكس لنه رفع اكل تاز جنه اكل بيت وظف هبل ويد ودد</td>\n",
              "    </tr>\n",
              "    <tr>\n",
              "      <th>10720</th>\n",
              "      <td>دايما اطلب من مطعم افضل سمك وبطاطا اللى فى حياة مول ويعجبنى اكلهم مرة \\n بس اذا رحت غرناطة او صحارى اطلب من مطعم لندن اعتقادا منى انه بنفس الجودة حقت مطعم افضل سمك وبطاطا بس اكتشف العكس واندم انى طلبت من عندهم لانه الاكل دايما كلة زيت ويتاخرون فى الطلب كثير حتى انى مرة كنت فى صحارى وطلبت من عندهم وتاخرو على ورحت كنسلت الطلب وتوجهت لحياة مول وطلبت من عند مطعم افضل سمك وبطاطا وبصراحة اكلهم اكثر من ممتاز بس عيبه انه فرع واحد بس هو اللى فى حياة مول</td>\n",
              "      <td>Negative</td>\n",
              "      <td>داي فضل سمك بطط حيه مول عجب اكل مره رحت غرناط صحر لند عقد منا نفس جود حقت فضل سمك بطط كشف عكس ندم انا لنه اكل داي كله زيت تخر طلب كثر انا مره كنت صحر طلب خرو ورح كنسل طلب وتج لحا مول طلب فضل سمك بطط صرح اكل تاز عيب فرع حيه مول</td>\n",
              "    </tr>\n",
              "    <tr>\n",
              "      <th>8792</th>\n",
              "      <td>الجلسة جميلة والإضاءة هادئة .. \\n الأكل لذيذ جدًا .. \\n الأسعار نااااااار !! \\n الوجبة صغيرة نوعًا ما ما تكفي .. \\n شغل برستيج تقريبًا :)</td>\n",
              "      <td>Positive</td>\n",
              "      <td>جلس جمل ضءه هدي اكل لذذ جدا سعر نار وجب صغر نوع تكف شغل رستيج قرب</td>\n",
              "    </tr>\n",
              "    <tr>\n",
              "      <th>523</th>\n",
              "      <td>خطير \\nخطييييير قمه لذيذ عرايسهم مو صج والله العظيم مرات أروحه مرتين باليوم\\n</td>\n",
              "      <td>Positive</td>\n",
              "      <td>خطر خطر قمه لذذ عريس مو صج عظم رات ارح مرت يوم</td>\n",
              "    </tr>\n",
              "  </tbody>\n",
              "</table>\n",
              "</div>\n",
              "      <button class=\"colab-df-convert\" onclick=\"convertToInteractive('df-e38e54de-181e-48f3-bd7f-f8749fa40903')\"\n",
              "              title=\"Convert this dataframe to an interactive table.\"\n",
              "              style=\"display:none;\">\n",
              "        \n",
              "  <svg xmlns=\"http://www.w3.org/2000/svg\" height=\"24px\"viewBox=\"0 0 24 24\"\n",
              "       width=\"24px\">\n",
              "    <path d=\"M0 0h24v24H0V0z\" fill=\"none\"/>\n",
              "    <path d=\"M18.56 5.44l.94 2.06.94-2.06 2.06-.94-2.06-.94-.94-2.06-.94 2.06-2.06.94zm-11 1L8.5 8.5l.94-2.06 2.06-.94-2.06-.94L8.5 2.5l-.94 2.06-2.06.94zm10 10l.94 2.06.94-2.06 2.06-.94-2.06-.94-.94-2.06-.94 2.06-2.06.94z\"/><path d=\"M17.41 7.96l-1.37-1.37c-.4-.4-.92-.59-1.43-.59-.52 0-1.04.2-1.43.59L10.3 9.45l-7.72 7.72c-.78.78-.78 2.05 0 2.83L4 21.41c.39.39.9.59 1.41.59.51 0 1.02-.2 1.41-.59l7.78-7.78 2.81-2.81c.8-.78.8-2.07 0-2.86zM5.41 20L4 18.59l7.72-7.72 1.47 1.35L5.41 20z\"/>\n",
              "  </svg>\n",
              "      </button>\n",
              "      \n",
              "  <style>\n",
              "    .colab-df-container {\n",
              "      display:flex;\n",
              "      flex-wrap:wrap;\n",
              "      gap: 12px;\n",
              "    }\n",
              "\n",
              "    .colab-df-convert {\n",
              "      background-color: #E8F0FE;\n",
              "      border: none;\n",
              "      border-radius: 50%;\n",
              "      cursor: pointer;\n",
              "      display: none;\n",
              "      fill: #1967D2;\n",
              "      height: 32px;\n",
              "      padding: 0 0 0 0;\n",
              "      width: 32px;\n",
              "    }\n",
              "\n",
              "    .colab-df-convert:hover {\n",
              "      background-color: #E2EBFA;\n",
              "      box-shadow: 0px 1px 2px rgba(60, 64, 67, 0.3), 0px 1px 3px 1px rgba(60, 64, 67, 0.15);\n",
              "      fill: #174EA6;\n",
              "    }\n",
              "\n",
              "    [theme=dark] .colab-df-convert {\n",
              "      background-color: #3B4455;\n",
              "      fill: #D2E3FC;\n",
              "    }\n",
              "\n",
              "    [theme=dark] .colab-df-convert:hover {\n",
              "      background-color: #434B5C;\n",
              "      box-shadow: 0px 1px 3px 1px rgba(0, 0, 0, 0.15);\n",
              "      filter: drop-shadow(0px 1px 2px rgba(0, 0, 0, 0.3));\n",
              "      fill: #FFFFFF;\n",
              "    }\n",
              "  </style>\n",
              "\n",
              "      <script>\n",
              "        const buttonEl =\n",
              "          document.querySelector('#df-e38e54de-181e-48f3-bd7f-f8749fa40903 button.colab-df-convert');\n",
              "        buttonEl.style.display =\n",
              "          google.colab.kernel.accessAllowed ? 'block' : 'none';\n",
              "\n",
              "        async function convertToInteractive(key) {\n",
              "          const element = document.querySelector('#df-e38e54de-181e-48f3-bd7f-f8749fa40903');\n",
              "          const dataTable =\n",
              "            await google.colab.kernel.invokeFunction('convertToInteractive',\n",
              "                                                     [key], {});\n",
              "          if (!dataTable) return;\n",
              "\n",
              "          const docLinkHtml = 'Like what you see? Visit the ' +\n",
              "            '<a target=\"_blank\" href=https://colab.research.google.com/notebooks/data_table.ipynb>data table notebook</a>'\n",
              "            + ' to learn more about interactive tables.';\n",
              "          element.innerHTML = '';\n",
              "          dataTable['output_type'] = 'display_data';\n",
              "          await google.colab.output.renderOutput(dataTable, element);\n",
              "          const docLink = document.createElement('div');\n",
              "          docLink.innerHTML = docLinkHtml;\n",
              "          element.appendChild(docLink);\n",
              "        }\n",
              "      </script>\n",
              "    </div>\n",
              "  </div>\n",
              "  "
            ],
            "text/plain": [
              "                                                                                                                                                                                                                                                                                                                                                                                                                                                                   Text  \\\n",
              "2832   مطعم ذو ديكور جميل واكل ذو طعم جيد \\nالمطعم رائع كخدمة وديكور\\nولكن الاكل متوسط\\nاما حلقات البصل فهي مميزة جدا جدا جدا\\nوالاسعار مبالغ فيها\\nوانصح بزيارته لمرة واحدة فقط\\n                                                                                                                                                                                                                                                                                        \n",
              "4800   النكهة صفر  الخدمة صفر   الاسعار متوسطة  مطعم مادري وش اسميه  سيئ جدا جدا مافيه نكهه ابدا    طلبت اول شي من عندهم سوبريم  برجر كانت تجربة  سيئة جدا   قمت من النوم لقيت العيال طالبين تكساس وانا  ماعندي شيئ اكله وانحديت عليه قلت ان شاء الله المرة يصير كويس طلبت مكسيكانا برجر والطعم كان صفر وربي مافيها اي طعم كاني اكل اشواك  ااصلا المطعم ماقد شفت له فرع برا الا بالسعودية والامارات  انصحكم تبعدون عنه   تقليد كنتاكي   انتو تجربو وتتذكرون كلامي         \n",
              "7688   بصراحة من ألذ محلات الكب كيك ما لقيت له اي مثيل                                                                                                                                                                                                                                                                                                                                                                                                                    \n",
              "9618   مطعم 2 في 1  \\n  \\n في غاية الجمال وتنظيم وترتيب وحسن الاستقبال بذات من الشيف تميم هشام كاسوفه \\n البسمة ما تفارقه أبد وهو في أتم الاستعداد لمساعتدك  \\n  \\n المطعم يستاهل أن تصلي الفجر و في الساعة الثامنة أو التاسعة تأخذ العائلة معك إذا كنت متزوج \\n أو عزوبي  وتطلب فطورك الراااائع تطلب طلب وتضيف إليه 8 ريالات هو  يعطونك عرضهم  الخاص حسب رغبتك ولي معك ( هنيئا لكما )                                                                                    \n",
              "10798  مكان رايق، مرتب ومريح \\n الخيارات ممتازة \\n الخدمة من احسن ما يكون \\n  \\n افضل مكان بالنسبة لي                                                                                                                                                                                                                                                                                                                                                                     \n",
              "2496   التصميم رائع و جميل \\nتصميم المكان ممتاز و فريد من نوعه و له طابع خاص و كأنك فى الغابات و الطعام ممتاز و السعر مناسب و الخدمه ممتازه و لكن بطيئه بعض الشئ و المطعم مزدحم و من الأفضل الحجز\\n                                                                                                                                                                                                                                                                       \n",
              "1900   اطلاله خلابه \\nمطعم دافئ وكبير ماشاء الله\\nقريب من الشارجيا بس يتطلب انك تروح بتكسي لانه على مرتفع\\nالاكل ممتاز جنه اكل بيت الموظفين يهبلون و وايد ودودين\\n                                                                                                                                                                                                                                                                                                        \n",
              "10720  دايما اطلب من مطعم افضل سمك وبطاطا اللى فى حياة مول ويعجبنى اكلهم مرة \\n بس اذا رحت غرناطة او صحارى اطلب من مطعم لندن اعتقادا منى انه بنفس الجودة حقت مطعم افضل سمك وبطاطا بس اكتشف العكس واندم انى طلبت من عندهم لانه الاكل دايما كلة زيت ويتاخرون فى الطلب كثير حتى انى مرة كنت فى صحارى وطلبت من عندهم وتاخرو على ورحت كنسلت الطلب وتوجهت لحياة مول وطلبت من عند مطعم افضل سمك وبطاطا وبصراحة اكلهم اكثر من ممتاز بس عيبه انه فرع واحد بس هو اللى فى حياة مول   \n",
              "8792   الجلسة جميلة والإضاءة هادئة .. \\n الأكل لذيذ جدًا .. \\n الأسعار نااااااار !! \\n الوجبة صغيرة نوعًا ما ما تكفي .. \\n شغل برستيج تقريبًا :)                                                                                                                                                                                                                                                                                                                          \n",
              "523    خطير \\nخطييييير قمه لذيذ عرايسهم مو صج والله العظيم مرات أروحه مرتين باليوم\\n                                                                                                                                                                                                                                                                                                                                                                                      \n",
              "\n",
              "       Sentiment  \\\n",
              "2832   Positive    \n",
              "4800   Positive    \n",
              "7688   Positive    \n",
              "9618   Positive    \n",
              "10798  Positive    \n",
              "2496   Positive    \n",
              "1900   Positive    \n",
              "10720  Negative    \n",
              "8792   Positive    \n",
              "523    Positive    \n",
              "\n",
              "                                                                                                                                                                                                                                            Clean Text  \n",
              "2832     ديكور جمل وكل طعم جيد ريع كخدم ديكور اكل توسط حلق بصل فهي يزه جدا جدا جدا سعر بلغ نصح زير لمر وحد                                                                                                                                              \n",
              "4800     نكه خدم سعر توسط ادر وش اسم سيي جدا جدا افه نكه ابد برم رجر جرب سيه جدا قمت نوم لقت عيل طلب كسس ونا اعند شيي اكل نحد شاء اله مره يصر كوس كسك رجر طعم ورب افي طعم كني اكل شوك اصل اقد شفت فرع برا سعد امر نصح بعد عنه قلد كنت نتو جربو ذكر كلم  \n",
              "7688     الذ محل لكب كيك لقت ثيل                                                                                                                                                                                                                        \n",
              "9618     غيه جمل نظم ريب وحس قبل بذت شيف تمم هشم كسف بسم فرق ابد اتم عدد لمساعتدك تهل تصل فجر سعه ثمن تسع تخذ عيل معك كنت تزج عزب طلب فطر ريع طلب طلب تضف اليه ريل عطو عرض خاص رغب ولي معك هني                                                          \n",
              "10798    كان ريق رتب ريح خير تزه خدم احس فضل كان نسب                                                                                                                                                                                                    \n",
              "2496     صمم ريع جمل صمم كان تاز فرد نوع طبع خاص كنك غاب طعم تاز سعر نسب خدم تزه بطي الش زدحم فضل حجز                                                                                                                                                   \n",
              "1900     طلل خلب دفي كبر اشء اله قرب شرج طلب انك ترح تكس لنه رفع اكل تاز جنه اكل بيت وظف هبل ويد ودد                                                                                                                                                    \n",
              "10720    داي فضل سمك بطط حيه مول عجب اكل مره رحت غرناط صحر لند عقد منا نفس جود حقت فضل سمك بطط كشف عكس ندم انا لنه اكل داي كله زيت تخر طلب كثر انا مره كنت صحر طلب خرو ورح كنسل طلب وتج لحا مول طلب فضل سمك بطط صرح اكل تاز عيب فرع حيه مول             \n",
              "8792     جلس جمل ضءه هدي اكل لذذ جدا سعر نار وجب صغر نوع تكف شغل رستيج قرب                                                                                                                                                                              \n",
              "523      خطر خطر قمه لذذ عريس مو صج عظم رات ارح مرت يوم                                                                                                                                                                                                 "
            ]
          },
          "execution_count": 156,
          "metadata": {},
          "output_type": "execute_result"
        }
      ],
      "source": [
        "# check the new column\n",
        "data_df.sample(10)"
      ]
    },
    {
      "cell_type": "code",
      "execution_count": null,
      "metadata": {
        "id": "YG58Rt1QoQBn"
      },
      "outputs": [],
      "source": [
        "data_df['text length'] = data_df['Clean Text'].apply(len)"
      ]
    },
    {
      "cell_type": "markdown",
      "metadata": {
        "id": "wyMh1P9doQCF"
      },
      "source": [
        "Understand the data\n"
      ]
    },
    {
      "cell_type": "code",
      "execution_count": null,
      "metadata": {
        "id": "ZSj4GJ9toQCG"
      },
      "outputs": [],
      "source": [
        "tokenizer = RegexpTokenizer(r'\\w+')\n",
        "data_df[\"tokens\"] = data_df[\"Clean Text\"].apply(tokenizer.tokenize) "
      ]
    },
    {
      "cell_type": "code",
      "execution_count": null,
      "metadata": {
        "colab": {
          "base_uri": "https://localhost:8080/",
          "height": 903
        },
        "id": "SlSjM-8MoQCH",
        "outputId": "3c4eac20-7d37-4dec-9328-510934b2e99c"
      },
      "outputs": [
        {
          "data": {
            "text/html": [
              "\n",
              "  <div id=\"df-0ac7c414-c539-4ef6-8026-bd30a6b77aba\">\n",
              "    <div class=\"colab-df-container\">\n",
              "      <div>\n",
              "<style scoped>\n",
              "    .dataframe tbody tr th:only-of-type {\n",
              "        vertical-align: middle;\n",
              "    }\n",
              "\n",
              "    .dataframe tbody tr th {\n",
              "        vertical-align: top;\n",
              "    }\n",
              "\n",
              "    .dataframe thead th {\n",
              "        text-align: right;\n",
              "    }\n",
              "</style>\n",
              "<table border=\"1\" class=\"dataframe\">\n",
              "  <thead>\n",
              "    <tr style=\"text-align: right;\">\n",
              "      <th></th>\n",
              "      <th>Text</th>\n",
              "      <th>Sentiment</th>\n",
              "      <th>Clean Text</th>\n",
              "      <th>text length</th>\n",
              "      <th>tokens</th>\n",
              "    </tr>\n",
              "  </thead>\n",
              "  <tbody>\n",
              "    <tr>\n",
              "      <th>0</th>\n",
              "      <td>Buona scelta gluten-free \\nIl ristorante \"Il Grissino\" è un onesto ristorante la famiglia, senza troppe pretese e, coerentemente, con costi contenuti; caratteristiche che ne fanno un buon locale d'appoggio se si vuole mangiare fuori per comodità ma non si sta cercando l'evento memorabile. Tutte le portate sono più che discrete, il servizio cortese e ragionevolmente rapido. Fra i luoghi che fanno pizza senza glutine a Milano, le loro proposte (basate su farina DS) sono da contarsi fra le migliori. Raccomandabile per una cena tranquilla senza impegno.\\n</td>\n",
              "      <td>Neutral</td>\n",
              "      <td></td>\n",
              "      <td>1</td>\n",
              "      <td>[]</td>\n",
              "    </tr>\n",
              "    <tr>\n",
              "      <th>1</th>\n",
              "      <td>Da evitare anche quello in via Pier della Francesca! \\nSono stata all'Antica Focacceria in via Pier della Francesca 56 a Milano. Ho comprato arancini,caponata,sfincione. Li ho mangiati con un'amica. Risultato: ci è rimasto tutto sullo stomaco!! Una cosa tremenda!!! Siamo state malissimo! La caponata era immangiabile, veramente scadente. Gli arancini e lo sfincione non sembravano malvagi, ma evidentemente in questo locale non usano prodotti di qualità e non cambiano l'olio di cottura. Ci tengo a sottolineare che nè io nè la mia amica siamo dei tipi delicati, quindi non abbiamo problemi a mangiare fritti e cose del genere. Peccato perchè il locale (che tra l'altro non è a buon mercato) in sè è carino.</td>\n",
              "      <td>Neutral</td>\n",
              "      <td>56</td>\n",
              "      <td>4</td>\n",
              "      <td>[56]</td>\n",
              "    </tr>\n",
              "    <tr>\n",
              "      <th>2</th>\n",
              "      <td>تناولت العشاء فيه \\nفندق قريب من المطار لكنه عادي في منطقه مزدحمة الطعام عادي اوبن بوفيه لكنه مقبول وكعادة اغلب الفنادق هنا الشيف كيني والاكل يغلب عليه الطابع الكيبني\\n</td>\n",
              "      <td>Neutral</td>\n",
              "      <td>نول عشء ندق قرب طار لكن عدي طقه زدحم طعم عدي اوب بوف لكن قبل كعد غلب ندق شيف كين اكل غلب طبع كيب</td>\n",
              "      <td>98</td>\n",
              "      <td>[نول, عشء, ندق, قرب, طار, لكن, عدي, طقه, زدحم, طعم, عدي, اوب, بوف, لكن, قبل, كعد, غلب, ندق, شيف, كين, اكل, غلب, طبع, كيب]</td>\n",
              "    </tr>\n",
              "    <tr>\n",
              "      <th>3</th>\n",
              "      <td>مطعم مختلف عن الجو العام بجوبا \\nمطعم مختلف بسيط غير انيق ولكنه يقدم طعام مختلف يمكن تصنيفه بانه طعام هندي مقبول وهناك بعض الاصناف التي يمكن تناولها ولكن يغلب عليها البهار والحار والنكهه الهنديه الخدمه جيده ولكنه مزدحم وخاصة وقت العشاء\\n</td>\n",
              "      <td>Neutral</td>\n",
              "      <td>خلف لجو عام بجب خلف بسط انق ولك قدم طعم خلف صنف بنه طعم هند قبل وهن صنف نول غلب بهر حار نكه هند خدم جيد ولك زدحم وخص وقت عشء</td>\n",
              "      <td>126</td>\n",
              "      <td>[خلف, لجو, عام, بجب, خلف, بسط, انق, ولك, قدم, طعم, خلف, صنف, بنه, طعم, هند, قبل, وهن, صنف, نول, غلب, بهر, حار, نكه, هند, خدم, جيد, ولك, زدحم, وخص, وقت, عشء]</td>\n",
              "    </tr>\n",
              "    <tr>\n",
              "      <th>4</th>\n",
              "      <td>مطعم لطيف يغلب عليه الطابع اليوناني لان مالكه اظن يوناني ولكن الطعام هندي اغلبه \\nلطيف مزدحم دائما الطعام يتأخر نتيجه للزحام مفضل من الاجانب ولكنه كحال كل مطاعم جوبا مطعم بسيط وغالي جدا\\n</td>\n",
              "      <td>Neutral</td>\n",
              "      <td>لطف غلب طبع يون لان الك اظن يون طعم هند غلب لطف زدحم داي طعم تخر نتج زحم فضل جنب ولك كحل جوب بسط وغل جدا</td>\n",
              "      <td>106</td>\n",
              "      <td>[لطف, غلب, طبع, يون, لان, الك, اظن, يون, طعم, هند, غلب, لطف, زدحم, داي, طعم, تخر, نتج, زحم, فضل, جنب, ولك, كحل, جوب, بسط, وغل, جدا]</td>\n",
              "    </tr>\n",
              "    <tr>\n",
              "      <th>5</th>\n",
              "      <td>بيتزا ممتازة \\nالشربة البحرية جيدة .. المكرونة عادية جدا .. البيتزا جدا ممتازة الجلسة والخدمة ممتازة ايضا بشكل عام لا اعتقد انني اعيد التجربة به\\n</td>\n",
              "      <td>Neutral</td>\n",
              "      <td>يتز تزه شرب بحر جيد كرن عدي جدا يتز جدا تزه جلس خدم تزه عقد اني اعد جرب</td>\n",
              "      <td>73</td>\n",
              "      <td>[يتز, تزه, شرب, بحر, جيد, كرن, عدي, جدا, يتز, جدا, تزه, جلس, خدم, تزه, عقد, اني, اعد, جرب]</td>\n",
              "    </tr>\n",
              "    <tr>\n",
              "      <th>6</th>\n",
              "      <td>Self service a mezzogiorno non eccezionale ma prezzi abbastanza contenuti \\nAbbiamo mangiato al self-service del ristorante. I prezzi sono medio-alti per un self service, ma i piatti sono mediamente più buoni. Magari non sono serviti sufficientemente caldi ma provano a servire piatti sfiziosi e abbastanza leggeri. La pizza è abbastanza buona. Non per pranzare tutti i giorni se si vuole risparmiare, per quello ci sono altri self-service in centro storico zona Via Indipendenza.\\n</td>\n",
              "      <td>Neutral</td>\n",
              "      <td></td>\n",
              "      <td>1</td>\n",
              "      <td>[]</td>\n",
              "    </tr>\n",
              "  </tbody>\n",
              "</table>\n",
              "</div>\n",
              "      <button class=\"colab-df-convert\" onclick=\"convertToInteractive('df-0ac7c414-c539-4ef6-8026-bd30a6b77aba')\"\n",
              "              title=\"Convert this dataframe to an interactive table.\"\n",
              "              style=\"display:none;\">\n",
              "        \n",
              "  <svg xmlns=\"http://www.w3.org/2000/svg\" height=\"24px\"viewBox=\"0 0 24 24\"\n",
              "       width=\"24px\">\n",
              "    <path d=\"M0 0h24v24H0V0z\" fill=\"none\"/>\n",
              "    <path d=\"M18.56 5.44l.94 2.06.94-2.06 2.06-.94-2.06-.94-.94-2.06-.94 2.06-2.06.94zm-11 1L8.5 8.5l.94-2.06 2.06-.94-2.06-.94L8.5 2.5l-.94 2.06-2.06.94zm10 10l.94 2.06.94-2.06 2.06-.94-2.06-.94-.94-2.06-.94 2.06-2.06.94z\"/><path d=\"M17.41 7.96l-1.37-1.37c-.4-.4-.92-.59-1.43-.59-.52 0-1.04.2-1.43.59L10.3 9.45l-7.72 7.72c-.78.78-.78 2.05 0 2.83L4 21.41c.39.39.9.59 1.41.59.51 0 1.02-.2 1.41-.59l7.78-7.78 2.81-2.81c.8-.78.8-2.07 0-2.86zM5.41 20L4 18.59l7.72-7.72 1.47 1.35L5.41 20z\"/>\n",
              "  </svg>\n",
              "      </button>\n",
              "      \n",
              "  <style>\n",
              "    .colab-df-container {\n",
              "      display:flex;\n",
              "      flex-wrap:wrap;\n",
              "      gap: 12px;\n",
              "    }\n",
              "\n",
              "    .colab-df-convert {\n",
              "      background-color: #E8F0FE;\n",
              "      border: none;\n",
              "      border-radius: 50%;\n",
              "      cursor: pointer;\n",
              "      display: none;\n",
              "      fill: #1967D2;\n",
              "      height: 32px;\n",
              "      padding: 0 0 0 0;\n",
              "      width: 32px;\n",
              "    }\n",
              "\n",
              "    .colab-df-convert:hover {\n",
              "      background-color: #E2EBFA;\n",
              "      box-shadow: 0px 1px 2px rgba(60, 64, 67, 0.3), 0px 1px 3px 1px rgba(60, 64, 67, 0.15);\n",
              "      fill: #174EA6;\n",
              "    }\n",
              "\n",
              "    [theme=dark] .colab-df-convert {\n",
              "      background-color: #3B4455;\n",
              "      fill: #D2E3FC;\n",
              "    }\n",
              "\n",
              "    [theme=dark] .colab-df-convert:hover {\n",
              "      background-color: #434B5C;\n",
              "      box-shadow: 0px 1px 3px 1px rgba(0, 0, 0, 0.15);\n",
              "      filter: drop-shadow(0px 1px 2px rgba(0, 0, 0, 0.3));\n",
              "      fill: #FFFFFF;\n",
              "    }\n",
              "  </style>\n",
              "\n",
              "      <script>\n",
              "        const buttonEl =\n",
              "          document.querySelector('#df-0ac7c414-c539-4ef6-8026-bd30a6b77aba button.colab-df-convert');\n",
              "        buttonEl.style.display =\n",
              "          google.colab.kernel.accessAllowed ? 'block' : 'none';\n",
              "\n",
              "        async function convertToInteractive(key) {\n",
              "          const element = document.querySelector('#df-0ac7c414-c539-4ef6-8026-bd30a6b77aba');\n",
              "          const dataTable =\n",
              "            await google.colab.kernel.invokeFunction('convertToInteractive',\n",
              "                                                     [key], {});\n",
              "          if (!dataTable) return;\n",
              "\n",
              "          const docLinkHtml = 'Like what you see? Visit the ' +\n",
              "            '<a target=\"_blank\" href=https://colab.research.google.com/notebooks/data_table.ipynb>data table notebook</a>'\n",
              "            + ' to learn more about interactive tables.';\n",
              "          element.innerHTML = '';\n",
              "          dataTable['output_type'] = 'display_data';\n",
              "          await google.colab.output.renderOutput(dataTable, element);\n",
              "          const docLink = document.createElement('div');\n",
              "          docLink.innerHTML = docLinkHtml;\n",
              "          element.appendChild(docLink);\n",
              "        }\n",
              "      </script>\n",
              "    </div>\n",
              "  </div>\n",
              "  "
            ],
            "text/plain": [
              "                                                                                                                                                                                                                                                                                                                                                                                                                                                                                                                                                                                                                                                                                                                                   Text  \\\n",
              "0  Buona scelta gluten-free \\nIl ristorante \"Il Grissino\" è un onesto ristorante la famiglia, senza troppe pretese e, coerentemente, con costi contenuti; caratteristiche che ne fanno un buon locale d'appoggio se si vuole mangiare fuori per comodità ma non si sta cercando l'evento memorabile. Tutte le portate sono più che discrete, il servizio cortese e ragionevolmente rapido. Fra i luoghi che fanno pizza senza glutine a Milano, le loro proposte (basate su farina DS) sono da contarsi fra le migliori. Raccomandabile per una cena tranquilla senza impegno.\\n                                                                                                                                                          \n",
              "1  Da evitare anche quello in via Pier della Francesca! \\nSono stata all'Antica Focacceria in via Pier della Francesca 56 a Milano. Ho comprato arancini,caponata,sfincione. Li ho mangiati con un'amica. Risultato: ci è rimasto tutto sullo stomaco!! Una cosa tremenda!!! Siamo state malissimo! La caponata era immangiabile, veramente scadente. Gli arancini e lo sfincione non sembravano malvagi, ma evidentemente in questo locale non usano prodotti di qualità e non cambiano l'olio di cottura. Ci tengo a sottolineare che nè io nè la mia amica siamo dei tipi delicati, quindi non abbiamo problemi a mangiare fritti e cose del genere. Peccato perchè il locale (che tra l'altro non è a buon mercato) in sè è carino.   \n",
              "2  تناولت العشاء فيه \\nفندق قريب من المطار لكنه عادي في منطقه مزدحمة الطعام عادي اوبن بوفيه لكنه مقبول وكعادة اغلب الفنادق هنا الشيف كيني والاكل يغلب عليه الطابع الكيبني\\n                                                                                                                                                                                                                                                                                                                                                                                                                                                                                                                                                               \n",
              "3  مطعم مختلف عن الجو العام بجوبا \\nمطعم مختلف بسيط غير انيق ولكنه يقدم طعام مختلف يمكن تصنيفه بانه طعام هندي مقبول وهناك بعض الاصناف التي يمكن تناولها ولكن يغلب عليها البهار والحار والنكهه الهنديه الخدمه جيده ولكنه مزدحم وخاصة وقت العشاء\\n                                                                                                                                                                                                                                                                                                                                                                                                                                                                                          \n",
              "4  مطعم لطيف يغلب عليه الطابع اليوناني لان مالكه اظن يوناني ولكن الطعام هندي اغلبه \\nلطيف مزدحم دائما الطعام يتأخر نتيجه للزحام مفضل من الاجانب ولكنه كحال كل مطاعم جوبا مطعم بسيط وغالي جدا\\n                                                                                                                                                                                                                                                                                                                                                                                                                                                                                                                                            \n",
              "5  بيتزا ممتازة \\nالشربة البحرية جيدة .. المكرونة عادية جدا .. البيتزا جدا ممتازة الجلسة والخدمة ممتازة ايضا بشكل عام لا اعتقد انني اعيد التجربة به\\n                                                                                                                                                                                                                                                                                                                                                                                                                                                                                                                                                                                     \n",
              "6  Self service a mezzogiorno non eccezionale ma prezzi abbastanza contenuti \\nAbbiamo mangiato al self-service del ristorante. I prezzi sono medio-alti per un self service, ma i piatti sono mediamente più buoni. Magari non sono serviti sufficientemente caldi ma provano a servire piatti sfiziosi e abbastanza leggeri. La pizza è abbastanza buona. Non per pranzare tutti i giorni se si vuole risparmiare, per quello ci sono altri self-service in centro storico zona Via Indipendenza.\\n                                                                                                                                                                                                                                     \n",
              "\n",
              "  Sentiment  \\\n",
              "0  Neutral    \n",
              "1  Neutral    \n",
              "2  Neutral    \n",
              "3  Neutral    \n",
              "4  Neutral    \n",
              "5  Neutral    \n",
              "6  Neutral    \n",
              "\n",
              "                                                                                                                       Clean Text  \\\n",
              "0                                                                                                                                   \n",
              "1    56                                                                                                                             \n",
              "2    نول عشء ندق قرب طار لكن عدي طقه زدحم طعم عدي اوب بوف لكن قبل كعد غلب ندق شيف كين اكل غلب طبع كيب                               \n",
              "3    خلف لجو عام بجب خلف بسط انق ولك قدم طعم خلف صنف بنه طعم هند قبل وهن صنف نول غلب بهر حار نكه هند خدم جيد ولك زدحم وخص وقت عشء   \n",
              "4    لطف غلب طبع يون لان الك اظن يون طعم هند غلب لطف زدحم داي طعم تخر نتج زحم فضل جنب ولك كحل جوب بسط وغل جدا                       \n",
              "5    يتز تزه شرب بحر جيد كرن عدي جدا يتز جدا تزه جلس خدم تزه عقد اني اعد جرب                                                        \n",
              "6                                                                                                                                   \n",
              "\n",
              "   text length  \\\n",
              "0  1             \n",
              "1  4             \n",
              "2  98            \n",
              "3  126           \n",
              "4  106           \n",
              "5  73            \n",
              "6  1             \n",
              "\n",
              "                                                                                                                                                         tokens  \n",
              "0  []                                                                                                                                                            \n",
              "1  [56]                                                                                                                                                          \n",
              "2  [نول, عشء, ندق, قرب, طار, لكن, عدي, طقه, زدحم, طعم, عدي, اوب, بوف, لكن, قبل, كعد, غلب, ندق, شيف, كين, اكل, غلب, طبع, كيب]                                     \n",
              "3  [خلف, لجو, عام, بجب, خلف, بسط, انق, ولك, قدم, طعم, خلف, صنف, بنه, طعم, هند, قبل, وهن, صنف, نول, غلب, بهر, حار, نكه, هند, خدم, جيد, ولك, زدحم, وخص, وقت, عشء]  \n",
              "4  [لطف, غلب, طبع, يون, لان, الك, اظن, يون, طعم, هند, غلب, لطف, زدحم, داي, طعم, تخر, نتج, زحم, فضل, جنب, ولك, كحل, جوب, بسط, وغل, جدا]                           \n",
              "5  [يتز, تزه, شرب, بحر, جيد, كرن, عدي, جدا, يتز, جدا, تزه, جلس, خدم, تزه, عقد, اني, اعد, جرب]                                                                    \n",
              "6  []                                                                                                                                                            "
            ]
          },
          "execution_count": 161,
          "metadata": {},
          "output_type": "execute_result"
        }
      ],
      "source": [
        "data_df.head(7)"
      ]
    },
    {
      "cell_type": "markdown",
      "metadata": {
        "id": "i978MWumt4R0"
      },
      "source": [
        "# **Creating the dataframes**"
      ]
    },
    {
      "cell_type": "code",
      "execution_count": null,
      "metadata": {
        "id": "euz0kE5Yt_KW"
      },
      "outputs": [],
      "source": [
        "from pandas.core.arrays.categorical import contains\n",
        "\n",
        "\n",
        "#filter sub dataframe from data_df dataframe\n",
        "\n",
        "data_df1=data_df[data_df['Clean Text'].str.contains('نظف')]\n",
        "\n",
        "data_df2=data_df[data_df['Clean Text'].str.contains('نظم')]\n",
        "\n",
        "data_df3=data_df[data_df['Clean Text'].str.contains('رتب')]\n",
        "\n",
        "data_df4=data_df[data_df['Clean Text'].str.contains('وسخ')]\n",
        "\n",
        "#concat the dataframes into a single dataframe clean_df\n",
        "frames = [data_df1,data_df2,data_df3,data_df4]\n",
        "\n",
        "clean_df = pd.concat(frames)"
      ]
    },
    {
      "cell_type": "code",
      "execution_count": null,
      "metadata": {
        "colab": {
          "base_uri": "https://localhost:8080/"
        },
        "id": "ztvvCHiauF9Q",
        "outputId": "15861705-5f58-42bd-a4f2-cf7e01671e28"
      },
      "outputs": [
        {
          "data": {
            "text/html": [
              "\n",
              "  <div id=\"df-62c7353c-6358-48f8-8f25-d7c7e4e8a3cb\">\n",
              "    <div class=\"colab-df-container\">\n",
              "      <div>\n",
              "<style scoped>\n",
              "    .dataframe tbody tr th:only-of-type {\n",
              "        vertical-align: middle;\n",
              "    }\n",
              "\n",
              "    .dataframe tbody tr th {\n",
              "        vertical-align: top;\n",
              "    }\n",
              "\n",
              "    .dataframe thead th {\n",
              "        text-align: right;\n",
              "    }\n",
              "</style>\n",
              "<table border=\"1\" class=\"dataframe\">\n",
              "  <thead>\n",
              "    <tr style=\"text-align: right;\">\n",
              "      <th></th>\n",
              "      <th>Text</th>\n",
              "      <th>Sentiment</th>\n",
              "      <th>Clean Text</th>\n",
              "      <th>text length</th>\n",
              "      <th>tokens</th>\n",
              "    </tr>\n",
              "  </thead>\n",
              "  <tbody>\n",
              "    <tr>\n",
              "      <th>14</th>\n",
              "      <td>مطعم متوسط \\nمأكولات هندية والاكل تقريبا جميعه غير طازج ... غير ان المكان نظيف ... وشوربة العدس لذيذه ... اللحوم والاسماك والدجاج كله مجمد ولا طعم له\\n</td>\n",
              "      <td>Neutral</td>\n",
              "      <td>توسط اكل هند اكل قرب جمع طزج كان نظف شورب عدس لذذ حوم سمك دجج كله جمد طعم</td>\n",
              "      <td>75</td>\n",
              "      <td>[توسط, اكل, هند, اكل, قرب, جمع, طزج, كان, نظف, شورب, عدس, لذذ, حوم, سمك, دجج, كله, جمد, طعم]</td>\n",
              "    </tr>\n",
              "    <tr>\n",
              "      <th>15</th>\n",
              "      <td>مطعم عادي جدا \\nمطعم عادي ومستواه متوسط ... يقدم الاسماك بطريقتين احدهما الشوي على الفحم بدون بهارات والاخرى طاجن في الفرن ببهارات خفيفة ... لم تعجبني كثيرا طريقة شوي الاسماك حيث لاتوجد خلطة او تتبيلة مميزه خاصة بالمطعم وذات الحال بالنسبه للروبيان والحبار واللوبستر ... مايميزه هو أن الاسماك طازجه فقط ... الخبز لذيذ على الطريقه التركية والمقبلات نوعا ما مقبوله لاكنها ليست بجودة المفبلات اللبنانية ... نظافة المطعم متوسطه والخدمه كذلك متوسطه\\n</td>\n",
              "      <td>Neutral</td>\n",
              "      <td>عدي جدا عدي ستو توسط قدم سمك طرق احد شوي فحم بدن بهر اخر طجن فرن بهر خفف عجب طرق شوي سمك وجد خلط تبل يزه وذت حال نسب لرب حبر ستر مايميز سمك طزج خبز لذذ طرق ركه قبل نوع قبل لكن بجد فبل بنن نظف توسط خدم توسط</td>\n",
              "      <td>207</td>\n",
              "      <td>[عدي, جدا, عدي, ستو, توسط, قدم, سمك, طرق, احد, شوي, فحم, بدن, بهر, اخر, طجن, فرن, بهر, خفف, عجب, طرق, شوي, سمك, وجد, خلط, تبل, يزه, وذت, حال, نسب, لرب, حبر, ستر, مايميز, سمك, طزج, خبز, لذذ, طرق, ركه, قبل, نوع, قبل, لكن, بجد, فبل, بنن, نظف, توسط, خدم, توسط]</td>\n",
              "    </tr>\n",
              "    <tr>\n",
              "      <th>16</th>\n",
              "      <td>نكهة الطعام ليست جيدة \\nنكهة الطعام غريبة ، ليست لبنانية ولا سورية ولا فلسطينية . لم يعجبني لانكهة ولارائحة ولا طعم الطعام، غير ذلك الخدمة جيدة والموقع جيد والنظافة جيدة\\n</td>\n",
              "      <td>Neutral</td>\n",
              "      <td>نكه طعم جيد نكه طعم غرب لبن سور فلسطينيه عجب لنك ولارايحه طعم طعم خدم جيد وقع جيد نظف جيد</td>\n",
              "      <td>91</td>\n",
              "      <td>[نكه, طعم, جيد, نكه, طعم, غرب, لبن, سور, فلسطينيه, عجب, لنك, ولارايحه, طعم, طعم, خدم, جيد, وقع, جيد, نظف, جيد]</td>\n",
              "    </tr>\n",
              "    <tr>\n",
              "      <th>18</th>\n",
              "      <td>عادي \\nخدمه سيئه\\nالاكل عادي والنظافه وسط\\nيتأخر الاكل كثيرا وخصوصا مساء وفي حال تواجد العديد من الزبائن او وقت متاخر\\n</td>\n",
              "      <td>Neutral</td>\n",
              "      <td>عدي خدم سيه اكل عدي نظف تخر اكل خصص حال وجد عدد زبا وقت تخر</td>\n",
              "      <td>61</td>\n",
              "      <td>[عدي, خدم, سيه, اكل, عدي, نظف, تخر, اكل, خصص, حال, وجد, عدد, زبا, وقت, تخر]</td>\n",
              "    </tr>\n",
              "    <tr>\n",
              "      <th>22</th>\n",
              "      <td>٦٠ \\nاللي يوصل ميلان ولا يمر هالمطعم اعتبرة خسران خسران مطعم مرتب اكل نظيف ولذيذ جداً و العاملين محترمين انا صراحة بدون مجاملة اعطي المطعم ٩٩،٩/١٠٠</td>\n",
              "      <td>Positive</td>\n",
              "      <td>٦٠ وصل ميل يمر هالمطعم عبر خسر خسر رتب اكل نظف لذذ جدا عمل حرم بدن جمل اعط ٩١٠</td>\n",
              "      <td>80</td>\n",
              "      <td>[٦٠, وصل, ميل, يمر, هالمطعم, عبر, خسر, خسر, رتب, اكل, نظف, لذذ, جدا, عمل, حرم, بدن, جمل, اعط, ٩١٠]</td>\n",
              "    </tr>\n",
              "  </tbody>\n",
              "</table>\n",
              "</div>\n",
              "      <button class=\"colab-df-convert\" onclick=\"convertToInteractive('df-62c7353c-6358-48f8-8f25-d7c7e4e8a3cb')\"\n",
              "              title=\"Convert this dataframe to an interactive table.\"\n",
              "              style=\"display:none;\">\n",
              "        \n",
              "  <svg xmlns=\"http://www.w3.org/2000/svg\" height=\"24px\"viewBox=\"0 0 24 24\"\n",
              "       width=\"24px\">\n",
              "    <path d=\"M0 0h24v24H0V0z\" fill=\"none\"/>\n",
              "    <path d=\"M18.56 5.44l.94 2.06.94-2.06 2.06-.94-2.06-.94-.94-2.06-.94 2.06-2.06.94zm-11 1L8.5 8.5l.94-2.06 2.06-.94-2.06-.94L8.5 2.5l-.94 2.06-2.06.94zm10 10l.94 2.06.94-2.06 2.06-.94-2.06-.94-.94-2.06-.94 2.06-2.06.94z\"/><path d=\"M17.41 7.96l-1.37-1.37c-.4-.4-.92-.59-1.43-.59-.52 0-1.04.2-1.43.59L10.3 9.45l-7.72 7.72c-.78.78-.78 2.05 0 2.83L4 21.41c.39.39.9.59 1.41.59.51 0 1.02-.2 1.41-.59l7.78-7.78 2.81-2.81c.8-.78.8-2.07 0-2.86zM5.41 20L4 18.59l7.72-7.72 1.47 1.35L5.41 20z\"/>\n",
              "  </svg>\n",
              "      </button>\n",
              "      \n",
              "  <style>\n",
              "    .colab-df-container {\n",
              "      display:flex;\n",
              "      flex-wrap:wrap;\n",
              "      gap: 12px;\n",
              "    }\n",
              "\n",
              "    .colab-df-convert {\n",
              "      background-color: #E8F0FE;\n",
              "      border: none;\n",
              "      border-radius: 50%;\n",
              "      cursor: pointer;\n",
              "      display: none;\n",
              "      fill: #1967D2;\n",
              "      height: 32px;\n",
              "      padding: 0 0 0 0;\n",
              "      width: 32px;\n",
              "    }\n",
              "\n",
              "    .colab-df-convert:hover {\n",
              "      background-color: #E2EBFA;\n",
              "      box-shadow: 0px 1px 2px rgba(60, 64, 67, 0.3), 0px 1px 3px 1px rgba(60, 64, 67, 0.15);\n",
              "      fill: #174EA6;\n",
              "    }\n",
              "\n",
              "    [theme=dark] .colab-df-convert {\n",
              "      background-color: #3B4455;\n",
              "      fill: #D2E3FC;\n",
              "    }\n",
              "\n",
              "    [theme=dark] .colab-df-convert:hover {\n",
              "      background-color: #434B5C;\n",
              "      box-shadow: 0px 1px 3px 1px rgba(0, 0, 0, 0.15);\n",
              "      filter: drop-shadow(0px 1px 2px rgba(0, 0, 0, 0.3));\n",
              "      fill: #FFFFFF;\n",
              "    }\n",
              "  </style>\n",
              "\n",
              "      <script>\n",
              "        const buttonEl =\n",
              "          document.querySelector('#df-62c7353c-6358-48f8-8f25-d7c7e4e8a3cb button.colab-df-convert');\n",
              "        buttonEl.style.display =\n",
              "          google.colab.kernel.accessAllowed ? 'block' : 'none';\n",
              "\n",
              "        async function convertToInteractive(key) {\n",
              "          const element = document.querySelector('#df-62c7353c-6358-48f8-8f25-d7c7e4e8a3cb');\n",
              "          const dataTable =\n",
              "            await google.colab.kernel.invokeFunction('convertToInteractive',\n",
              "                                                     [key], {});\n",
              "          if (!dataTable) return;\n",
              "\n",
              "          const docLinkHtml = 'Like what you see? Visit the ' +\n",
              "            '<a target=\"_blank\" href=https://colab.research.google.com/notebooks/data_table.ipynb>data table notebook</a>'\n",
              "            + ' to learn more about interactive tables.';\n",
              "          element.innerHTML = '';\n",
              "          dataTable['output_type'] = 'display_data';\n",
              "          await google.colab.output.renderOutput(dataTable, element);\n",
              "          const docLink = document.createElement('div');\n",
              "          docLink.innerHTML = docLinkHtml;\n",
              "          element.appendChild(docLink);\n",
              "        }\n",
              "      </script>\n",
              "    </div>\n",
              "  </div>\n",
              "  "
            ],
            "text/plain": [
              "                                                                                                                                                                                                                                                                                                                                                                                                                                                            Text  \\\n",
              "14  مطعم متوسط \\nمأكولات هندية والاكل تقريبا جميعه غير طازج ... غير ان المكان نظيف ... وشوربة العدس لذيذه ... اللحوم والاسماك والدجاج كله مجمد ولا طعم له\\n                                                                                                                                                                                                                                                                                                        \n",
              "15  مطعم عادي جدا \\nمطعم عادي ومستواه متوسط ... يقدم الاسماك بطريقتين احدهما الشوي على الفحم بدون بهارات والاخرى طاجن في الفرن ببهارات خفيفة ... لم تعجبني كثيرا طريقة شوي الاسماك حيث لاتوجد خلطة او تتبيلة مميزه خاصة بالمطعم وذات الحال بالنسبه للروبيان والحبار واللوبستر ... مايميزه هو أن الاسماك طازجه فقط ... الخبز لذيذ على الطريقه التركية والمقبلات نوعا ما مقبوله لاكنها ليست بجودة المفبلات اللبنانية ... نظافة المطعم متوسطه والخدمه كذلك متوسطه\\n   \n",
              "16  نكهة الطعام ليست جيدة \\nنكهة الطعام غريبة ، ليست لبنانية ولا سورية ولا فلسطينية . لم يعجبني لانكهة ولارائحة ولا طعم الطعام، غير ذلك الخدمة جيدة والموقع جيد والنظافة جيدة\\n                                                                                                                                                                                                                                                                                    \n",
              "18  عادي \\nخدمه سيئه\\nالاكل عادي والنظافه وسط\\nيتأخر الاكل كثيرا وخصوصا مساء وفي حال تواجد العديد من الزبائن او وقت متاخر\\n                                                                                                                                                                                                                                                                                                                                        \n",
              "22  ٦٠ \\nاللي يوصل ميلان ولا يمر هالمطعم اعتبرة خسران خسران مطعم مرتب اكل نظيف ولذيذ جداً و العاملين محترمين انا صراحة بدون مجاملة اعطي المطعم ٩٩،٩/١٠٠                                                                                                                                                                                                                                                                                                            \n",
              "\n",
              "    Sentiment  \\\n",
              "14  Neutral     \n",
              "15  Neutral     \n",
              "16  Neutral     \n",
              "18  Neutral     \n",
              "22  Positive    \n",
              "\n",
              "                                                                                                                                                                                                         Clean Text  \\\n",
              "14    توسط اكل هند اكل قرب جمع طزج كان نظف شورب عدس لذذ حوم سمك دجج كله جمد طعم                                                                                                                                       \n",
              "15    عدي جدا عدي ستو توسط قدم سمك طرق احد شوي فحم بدن بهر اخر طجن فرن بهر خفف عجب طرق شوي سمك وجد خلط تبل يزه وذت حال نسب لرب حبر ستر مايميز سمك طزج خبز لذذ طرق ركه قبل نوع قبل لكن بجد فبل بنن نظف توسط خدم توسط   \n",
              "16    نكه طعم جيد نكه طعم غرب لبن سور فلسطينيه عجب لنك ولارايحه طعم طعم خدم جيد وقع جيد نظف جيد                                                                                                                       \n",
              "18    عدي خدم سيه اكل عدي نظف تخر اكل خصص حال وجد عدد زبا وقت تخر                                                                                                                                                     \n",
              "22    ٦٠ وصل ميل يمر هالمطعم عبر خسر خسر رتب اكل نظف لذذ جدا عمل حرم بدن جمل اعط ٩١٠                                                                                                                                  \n",
              "\n",
              "    text length  \\\n",
              "14  75            \n",
              "15  207           \n",
              "16  91            \n",
              "18  61            \n",
              "22  80            \n",
              "\n",
              "                                                                                                                                                                                                                                                              tokens  \n",
              "14  [توسط, اكل, هند, اكل, قرب, جمع, طزج, كان, نظف, شورب, عدس, لذذ, حوم, سمك, دجج, كله, جمد, طعم]                                                                                                                                                                      \n",
              "15  [عدي, جدا, عدي, ستو, توسط, قدم, سمك, طرق, احد, شوي, فحم, بدن, بهر, اخر, طجن, فرن, بهر, خفف, عجب, طرق, شوي, سمك, وجد, خلط, تبل, يزه, وذت, حال, نسب, لرب, حبر, ستر, مايميز, سمك, طزج, خبز, لذذ, طرق, ركه, قبل, نوع, قبل, لكن, بجد, فبل, بنن, نظف, توسط, خدم, توسط]  \n",
              "16  [نكه, طعم, جيد, نكه, طعم, غرب, لبن, سور, فلسطينيه, عجب, لنك, ولارايحه, طعم, طعم, خدم, جيد, وقع, جيد, نظف, جيد]                                                                                                                                                    \n",
              "18  [عدي, خدم, سيه, اكل, عدي, نظف, تخر, اكل, خصص, حال, وجد, عدد, زبا, وقت, تخر]                                                                                                                                                                                       \n",
              "22  [٦٠, وصل, ميل, يمر, هالمطعم, عبر, خسر, خسر, رتب, اكل, نظف, لذذ, جدا, عمل, حرم, بدن, جمل, اعط, ٩١٠]                                                                                                                                                                "
            ]
          },
          "execution_count": 163,
          "metadata": {},
          "output_type": "execute_result"
        }
      ],
      "source": [
        "#checking the df values after concat them\n",
        "clean_df.head()"
      ]
    },
    {
      "cell_type": "code",
      "execution_count": null,
      "metadata": {
        "colab": {
          "base_uri": "https://localhost:8080/"
        },
        "id": "xdB8DuHGuMK6",
        "outputId": "1ecb15c2-e212-476c-f6d7-4fe4192c972c"
      },
      "outputs": [
        {
          "data": {
            "text/plain": [
              "1810"
            ]
          },
          "execution_count": 164,
          "metadata": {},
          "output_type": "execute_result"
        }
      ],
      "source": [
        "len(clean_df)"
      ]
    },
    {
      "cell_type": "markdown",
      "metadata": {
        "id": "sT51BBCYdZj9"
      },
      "source": [
        "# visualization:Customers opinion sentiment"
      ]
    },
    {
      "cell_type": "code",
      "execution_count": null,
      "metadata": {
        "id": "du0m5c9EvKOv"
      },
      "outputs": [],
      "source": [
        "# count the number of sentiments \n",
        "texts_by_Sentiment_cln = clean_df['Sentiment'].value_counts()"
      ]
    },
    {
      "cell_type": "code",
      "execution_count": null,
      "metadata": {
        "colab": {
          "base_uri": "https://localhost:8080/"
        },
        "id": "qB3dv9-0vS2n",
        "outputId": "71aa2a33-5bb5-4368-f2d5-353be68cb04e"
      },
      "outputs": [
        {
          "data": {
            "text/plain": [
              "<matplotlib.axes._subplots.AxesSubplot at 0x7f893d0fb9d0>"
            ]
          },
          "execution_count": 166,
          "metadata": {},
          "output_type": "execute_result"
        },
        {
          "data": {
            "image/png": "[encoded data removed]",
            "text/plain": [
              "<Figure size 432x288 with 1 Axes>"
            ]
          },
          "metadata": {},
          "output_type": "display_data"
        }
      ],
      "source": [
        "# visualize the results using bar chart\n",
        "fig, ax = plt.subplots()\n",
        "\n",
        "ax.tick_params(axis='x', labelsize=15)\n",
        "ax.tick_params(axis='y', labelsize=10)\n",
        "\n",
        "ax.set_xlabel('Sentiment', fontsize=15)\n",
        "ax.set_ylabel('Number of reviews' , fontsize=15)\n",
        "ax.set_title('Customers Opinion Of The Cleanliness Of Restaurants', fontsize=15, fontweight='bold')\n",
        "\n",
        "texts_by_Sentiment_cln[:4].plot(ax=ax, kind='bar')"
      ]
    },
    {
      "cell_type": "code",
      "execution_count": null,
      "metadata": {
        "colab": {
          "base_uri": "https://localhost:8080/"
        },
        "id": "x2yYLpz_vgMJ",
        "outputId": "66a0fa31-0b9d-40bc-a426-8c949f3fdfc2"
      },
      "outputs": [
        {
          "data": {
            "image/png": "[encoded data removed]",
            "text/plain": [
              "<Figure size 648x576 with 1 Axes>"
            ]
          },
          "metadata": {},
          "output_type": "display_data"
        }
      ],
      "source": [
        "\n",
        "#visualize the results using Pie Chart\n",
        "\n",
        "plt.figure(figsize=[9,8]);\n",
        "Labels=['Positive','Negative','Neutral','Irrelevant']\n",
        "plt.pie(texts_by_Sentiment_cln,labels=Labels,autopct='%1.2f%%',textprops={'fontsize':15,'weight':'bold'})\n",
        "plt.show()"
      ]
    },
    {
      "cell_type": "markdown",
      "metadata": {
        "id": "TGfgTl2aZrcy"
      },
      "source": [
        "# visualization:Most positive words"
      ]
    },
    {
      "cell_type": "code",
      "execution_count": null,
      "metadata": {
        "id": "-7rPYiewakOZ"
      },
      "outputs": [],
      "source": [
        "# change values to numeric\n",
        "data_df['Sentiment'] = data_df['Sentiment'].map({'Positive ': 0, 'Negative ': 1}) "
      ]
    },
    {
      "cell_type": "code",
      "execution_count": null,
      "metadata": {
        "colab": {
          "base_uri": "https://localhost:8080/"
        },
        "id": "SUq7TyAelDSq",
        "outputId": "8a2658d0-ae61-4f34-f9cf-b23301c057d7"
      },
      "outputs": [
        {
          "data": {
            "text/plain": [
              "[('جدا', 3241),\n",
              " ('اكل', 2903),\n",
              " ('طعم', 2749),\n",
              " ('ريع', 2228),\n",
              " ('سعر', 2222),\n",
              " ('لذذ', 2067),\n",
              " ('خدم', 1887),\n",
              " ('جرب', 1746),\n",
              " ('فضل', 1676),\n",
              " ('طلب', 1462),\n",
              " ('كان', 1447),\n",
              " ('جمل', 1376),\n",
              " ('جيد', 1337),\n",
              " ('تاز', 1250),\n",
              " ('قدم', 1249)]"
            ]
          },
          "execution_count": 169,
          "metadata": {},
          "output_type": "execute_result"
        }
      ],
      "source": [
        "positive_df= data_df[data_df['Sentiment']==0]\n",
        "\n",
        "words_count=Counter(\" \".join(positive_df['Clean Text']).split())\n",
        "words_count.most_common(15)"
      ]
    },
    {
      "cell_type": "code",
      "execution_count": null,
      "metadata": {
        "id": "hL7zvWuElGu4"
      },
      "outputs": [],
      "source": [
        "#stop words\n",
        "#ar_stops = set(stopwords.words('arabic'))\n",
        "ignore = {\"عدي\",\"سيء\",\"طول\",\"قبل\",\"ريح\",\"سيه\",\"برد\",\"بعد\",\"عند\" ,\"ابد\",\"نظر\",\"كنت\",\"رجر\",\"وحد\",\"علي\",\"يتز\",\"اقل\",\"طبع\",\"كان\",\"اني\",\"مو\",\"شوي\",\"غلي\",\"زير\",\"نسب\",\"جدا\",\"طلب\",\"نسب\"}\n",
        "for word in ignore:\n",
        "  if word in words_count:\n",
        "    del words_count[word]"
      ]
    },
    {
      "cell_type": "code",
      "execution_count": null,
      "metadata": {
        "colab": {
          "base_uri": "https://localhost:8080/"
        },
        "id": "lcsM2vkvlHjQ",
        "outputId": "91a76197-f9ea-4ec5-bed7-c308f94eb14e"
      },
      "outputs": [
        {
          "data": {
            "text/plain": [
              "[('اكل', 2903),\n",
              " ('طعم', 2749),\n",
              " ('ريع', 2228),\n",
              " ('سعر', 2222),\n",
              " ('لذذ', 2067),\n",
              " ('خدم', 1887),\n",
              " ('جرب', 1746),\n",
              " ('فضل', 1676),\n",
              " ('جمل', 1376),\n",
              " ('جيد', 1337),\n",
              " ('تاز', 1250),\n",
              " ('قدم', 1249),\n",
              " ('طبق', 1205),\n",
              " ('نظف', 1139),\n",
              " ('وجب', 1098)]"
            ]
          },
          "execution_count": 171,
          "metadata": {},
          "output_type": "execute_result"
        }
      ],
      "source": [
        "words_count.most_common(15)"
      ]
    },
    {
      "cell_type": "code",
      "execution_count": null,
      "metadata": {
        "colab": {
          "base_uri": "https://localhost:8080/"
        },
        "id": "qUXUAog4lJxU",
        "outputId": "c99c1376-6792-41d6-a6c9-50e81f5c1f64"
      },
      "outputs": [
        {
          "data": {
            "image/png": "[encoded data removed]",
            "text/plain": [
              "<Figure size 432x288 with 1 Axes>"
            ]
          },
          "metadata": {},
          "output_type": "display_data"
        }
      ],
      "source": [
        "from matplotlib import colorbar\n",
        "import numpy as np\n",
        "import matplotlib.pyplot as plt\n",
        "import arabic_reshaper\n",
        "from bidi.algorithm import get_display\n",
        "\n",
        "common_positive_words =  words_count.most_common(15)\n",
        "\n",
        "words, counts = zip(*common_positive_words)  \n",
        "index = np.arange(len(common_positive_words))  \n",
        "\n",
        "words = list(words) # convert to a mutable list\n",
        "\n",
        "for i in range(len(words)):\n",
        "    words[i] = get_display(arabic_reshaper.reshape(words[i]))\n",
        "\n",
        "fig, ax = plt.subplots()\n",
        "\n",
        "\n",
        "ax.tick_params(axis='x',labelsize=10)\n",
        "ax.tick_params(axis='y',labelsize=10)\n",
        "ax.set_xlabel('index',fontsize=16,color='gray',fontweight='bold')\n",
        "ax.set_ylabel('counts',fontsize=16, color='gray',fontweight='bold')\n",
        "\n",
        "color=['gray']\n",
        "\n",
        "\n",
        "ax.set_ylabel('Counts')\n",
        "ax.set_xlabel('positive Words')\n",
        "ax.set_xticks(index+0.4/8.)\n",
        "ax.set_xticklabels(words)\n",
        "ax.set_title(\"Most common positive words\",fontsize=16,fontweight='bold', color='gray')\n",
        "\n",
        "bar = ax.bar(index, counts, 0.4,color=color)\n",
        "\n",
        "plt.show()\n",
        "\n",
        "\n"
      ]
    },
    {
      "cell_type": "markdown",
      "metadata": {
        "id": "uc-PjFc8ZuvQ"
      },
      "source": [
        "# visualization:Most negative words"
      ]
    },
    {
      "cell_type": "code",
      "execution_count": null,
      "metadata": {
        "colab": {
          "base_uri": "https://localhost:8080/"
        },
        "id": "1mOCUam4nV8h",
        "outputId": "e4d72928-38a0-4b3a-bbdc-6fe5555d6910"
      },
      "outputs": [
        {
          "data": {
            "text/plain": [
              "[('اكل', 1230),\n",
              " ('جدا', 1172),\n",
              " ('طعم', 1095),\n",
              " ('طلب', 991),\n",
              " ('سعر', 885),\n",
              " ('خدم', 638),\n",
              " ('جرب', 620),\n",
              " ('عمل', 490),\n",
              " ('فرع', 482),\n",
              " ('دجج', 451),\n",
              " ('عدي', 444),\n",
              " ('جيد', 421),\n",
              " ('وجب', 408),\n",
              " ('فضل', 398),\n",
              " ('قدم', 385)]"
            ]
          },
          "execution_count": 173,
          "metadata": {},
          "output_type": "execute_result"
        }
      ],
      "source": [
        "neagtive_df= data_df[data_df['Sentiment']==1]\n",
        "\n",
        "words_count=Counter(\" \".join(neagtive_df['Clean Text']).split())\n",
        "words_count.most_common(15)"
      ]
    },
    {
      "cell_type": "code",
      "execution_count": null,
      "metadata": {
        "id": "2r6dce1unZn0"
      },
      "outputs": [],
      "source": [
        "#stop words\n",
        "#ar_stops = set(stopwords.words('arabic'))\n",
        "ignore = {\"لذذ\",\"مره\",\"اخر\",\"جلس\",\"كان\",\"وجد\",\"قدم\",\"لسف\",\"دجج\",\"عمل\",\"فضل\",\"كثر\",\"نسب\",\"فرع\",\"جرب\",\"طلب\",\"وجب\",\"جدا\",\"دخل\",\"اله\",\"نصح\",\"قبل\",\"الي\",\"وحد\",\"برد\",\"بعد\",\"عجب\",\"نوع\",\"يتز\",\"عند\",\"ابد\",\"نظر\",\"رجر\",\"جود\",\"كنت\",\"خبز\"}\n",
        "for word in ignore:\n",
        "  if word in words_count:\n",
        "    del words_count[word]\n",
        " "
      ]
    },
    {
      "cell_type": "code",
      "execution_count": null,
      "metadata": {
        "colab": {
          "base_uri": "https://localhost:8080/"
        },
        "id": "rqMatJxandWI",
        "outputId": "aa0663db-8d8e-47dd-cfce-acfbf5d0d05d"
      },
      "outputs": [
        {
          "data": {
            "text/plain": [
              "[('اكل', 1230),\n",
              " ('طعم', 1095),\n",
              " ('سعر', 885),\n",
              " ('خدم', 638),\n",
              " ('عدي', 444),\n",
              " ('جيد', 421),\n",
              " ('نظف', 381),\n",
              " ('طبق', 357),\n",
              " ('طول', 342),\n",
              " ('سيه', 334),\n",
              " ('لحم', 322),\n",
              " ('شكل', 309),\n",
              " ('سيء', 288),\n",
              " ('ريح', 245),\n",
              " ('اقل', 207)]"
            ]
          },
          "execution_count": 175,
          "metadata": {},
          "output_type": "execute_result"
        }
      ],
      "source": [
        " words_count.most_common(15)"
      ]
    },
    {
      "cell_type": "code",
      "execution_count": null,
      "metadata": {
        "colab": {
          "base_uri": "https://localhost:8080/"
        },
        "id": "4bTxUVp-nfeh",
        "outputId": "6c8422bb-d6da-4994-920c-fb0bb0cabcef"
      },
      "outputs": [
        {
          "data": {
            "image/png": "[encoded data removed]",
            "text/plain": [
              "<Figure size 432x288 with 1 Axes>"
            ]
          },
          "metadata": {},
          "output_type": "display_data"
        }
      ],
      "source": [
        "from matplotlib import colorbar\n",
        "import numpy as np\n",
        "import matplotlib.pyplot as plt\n",
        "import arabic_reshaper\n",
        "from bidi.algorithm import get_display\n",
        "\n",
        "common_negative_words =  words_count.most_common(15)\n",
        "words, counts = zip(*common_negative_words)  \n",
        "index = np.arange(len(common_negative_words))  \n",
        "\n",
        "words = list(words) # convert to a mutable list\n",
        "\n",
        "for i in range(len(words)):\n",
        "    words[i] = get_display(arabic_reshaper.reshape(words[i]))\n",
        "\n",
        "fig, ax = plt.subplots()\n",
        "ax.tick_params(axis='x',labelsize=10)\n",
        "ax.tick_params(axis='y',labelsize=10)\n",
        "ax.set_xlabel('index',fontsize=16,color='gray',fontweight='bold')\n",
        "ax.set_ylabel('counts',fontsize=16, color='gray',fontweight='bold')\n",
        "\n",
        "color=['gray']\n",
        "ax.set_ylabel('Counts')\n",
        "ax.set_xlabel('Negative Words')\n",
        "ax.set_xticks(index+0.4/8.)\n",
        "ax.set_xticklabels(words)\n",
        "ax.set_title(\"Most common Negative words\",fontsize=16,fontweight='bold', color='gray')\n",
        "\n",
        "bar = ax.bar(index, counts, 0.4,color=color)\n",
        "\n",
        "plt.show()"
      ]
    },
    {
      "cell_type": "markdown",
      "metadata": {
        "id": "3fHtFRtuZ6t6"
      },
      "source": [
        "# **Understand the data before and after Preprocessing**"
      ]
    },
    {
      "cell_type": "markdown",
      "metadata": {
        "id": "DO2Zlw8aaWsp"
      },
      "source": [
        "before Preprocessing:"
      ]
    },
    {
      "cell_type": "code",
      "execution_count": null,
      "metadata": {
        "colab": {
          "base_uri": "https://localhost:8080/"
        },
        "id": "C8G71qtXaBIF",
        "outputId": "02997fde-2f8c-4f1f-eaaf-df57d96e49d1"
      },
      "outputs": [
        {
          "name": "stdout",
          "output_type": "stream",
          "text": [
            "424449 words total, with a vocabulary size of 56010\n",
            "Max sentence length is 787\n"
          ]
        }
      ],
      "source": [
        "# unCleaned tokens\n",
        "tokenizer = RegexpTokenizer(r'\\w+')\n",
        "data_df[\"unCleaned tokens\"] = data_df[\"Text\"].apply(tokenizer.tokenize) \n",
        "\n",
        "unCleaned_all_words = [word for tokens in data_df[\"unCleaned tokens\"] for word in tokens]\n",
        "unCleaned_sentence_lengths = [len(tokens) for tokens in data_df[\"unCleaned tokens\"]]\n",
        "\n",
        "VOCAB = sorted(list(set(unCleaned_all_words)))\n",
        "\n",
        "print(\"%s words total, with a vocabulary size of %s\" % (len(unCleaned_all_words), len(VOCAB)))\n",
        "print(\"Max sentence length is %s\" % max(unCleaned_sentence_lengths))"
      ]
    },
    {
      "cell_type": "code",
      "execution_count": null,
      "metadata": {
        "colab": {
          "base_uri": "https://localhost:8080/"
        },
        "id": "hmEMny2FaELW",
        "outputId": "0ea735d3-d8e1-45d1-bef3-51732ccd0c95"
      },
      "outputs": [
        {
          "data": {
            "text/plain": [
              "[('من', 9250),\n",
              " ('في', 7163),\n",
              " ('و', 5647),\n",
              " ('المطعم', 4902),\n",
              " ('جدا', 4618),\n",
              " ('على', 3286),\n",
              " ('مطعم', 2963),\n",
              " ('ما', 2917),\n",
              " ('مع', 2237),\n",
              " ('كان', 1950)]"
            ]
          },
          "execution_count": 178,
          "metadata": {},
          "output_type": "execute_result"
        }
      ],
      "source": [
        "# count the number of unCleaned words\n",
        "unCleaned_word_counter = Counter(unCleaned_all_words)\n",
        "# show the most common unCleaned words\n",
        "unCleaned_word_counter.most_common(10)"
      ]
    },
    {
      "cell_type": "code",
      "execution_count": null,
      "metadata": {
        "colab": {
          "base_uri": "https://localhost:8080/"
        },
        "id": "nJa7OYEjaGZp",
        "outputId": "3d713e44-268b-4fb2-bc37-9a2b06582265"
      },
      "outputs": [
        {
          "data": {
            "text/plain": [
              "[('إزالتها', 1),\n",
              " ('للأيادي', 1),\n",
              " ('استبدلنا', 1),\n",
              " ('نظاقة', 1),\n",
              " ('للامير', 1),\n",
              " ('يشهيك', 1),\n",
              " ('تنظيفه', 1),\n",
              " ('وساكرر', 1),\n",
              " ('يتحفنا', 1),\n",
              " ('Positive', 1)]"
            ]
          },
          "execution_count": 179,
          "metadata": {},
          "output_type": "execute_result"
        }
      ],
      "source": [
        "# Display 10 least common unCleaned lines\n",
        "unCleaned_word_counter.most_common()[-10:]"
      ]
    },
    {
      "cell_type": "code",
      "execution_count": null,
      "metadata": {
        "colab": {
          "base_uri": "https://localhost:8080/"
        },
        "id": "UF37C3z0aJxN",
        "outputId": "74ea4b1c-cb2a-430e-fc98-ec04b6b8cdf3"
      },
      "outputs": [
        {
          "data": {
            "text/html": [
              "\n",
              "  <div id=\"df-db1f4c8f-5e97-4f5d-91ac-7e3d121e3a88\">\n",
              "    <div class=\"colab-df-container\">\n",
              "      <div>\n",
              "<style scoped>\n",
              "    .dataframe tbody tr th:only-of-type {\n",
              "        vertical-align: middle;\n",
              "    }\n",
              "\n",
              "    .dataframe tbody tr th {\n",
              "        vertical-align: top;\n",
              "    }\n",
              "\n",
              "    .dataframe thead th {\n",
              "        text-align: right;\n",
              "    }\n",
              "</style>\n",
              "<table border=\"1\" class=\"dataframe\">\n",
              "  <thead>\n",
              "    <tr style=\"text-align: right;\">\n",
              "      <th></th>\n",
              "      <th>unCleaned Word</th>\n",
              "      <th>Count</th>\n",
              "    </tr>\n",
              "  </thead>\n",
              "  <tbody>\n",
              "    <tr>\n",
              "      <th>0</th>\n",
              "      <td>من</td>\n",
              "      <td>9250</td>\n",
              "    </tr>\n",
              "    <tr>\n",
              "      <th>1</th>\n",
              "      <td>في</td>\n",
              "      <td>7163</td>\n",
              "    </tr>\n",
              "    <tr>\n",
              "      <th>2</th>\n",
              "      <td>و</td>\n",
              "      <td>5647</td>\n",
              "    </tr>\n",
              "    <tr>\n",
              "      <th>3</th>\n",
              "      <td>المطعم</td>\n",
              "      <td>4902</td>\n",
              "    </tr>\n",
              "    <tr>\n",
              "      <th>4</th>\n",
              "      <td>جدا</td>\n",
              "      <td>4618</td>\n",
              "    </tr>\n",
              "  </tbody>\n",
              "</table>\n",
              "</div>\n",
              "      <button class=\"colab-df-convert\" onclick=\"convertToInteractive('df-db1f4c8f-5e97-4f5d-91ac-7e3d121e3a88')\"\n",
              "              title=\"Convert this dataframe to an interactive table.\"\n",
              "              style=\"display:none;\">\n",
              "        \n",
              "  <svg xmlns=\"http://www.w3.org/2000/svg\" height=\"24px\"viewBox=\"0 0 24 24\"\n",
              "       width=\"24px\">\n",
              "    <path d=\"M0 0h24v24H0V0z\" fill=\"none\"/>\n",
              "    <path d=\"M18.56 5.44l.94 2.06.94-2.06 2.06-.94-2.06-.94-.94-2.06-.94 2.06-2.06.94zm-11 1L8.5 8.5l.94-2.06 2.06-.94-2.06-.94L8.5 2.5l-.94 2.06-2.06.94zm10 10l.94 2.06.94-2.06 2.06-.94-2.06-.94-.94-2.06-.94 2.06-2.06.94z\"/><path d=\"M17.41 7.96l-1.37-1.37c-.4-.4-.92-.59-1.43-.59-.52 0-1.04.2-1.43.59L10.3 9.45l-7.72 7.72c-.78.78-.78 2.05 0 2.83L4 21.41c.39.39.9.59 1.41.59.51 0 1.02-.2 1.41-.59l7.78-7.78 2.81-2.81c.8-.78.8-2.07 0-2.86zM5.41 20L4 18.59l7.72-7.72 1.47 1.35L5.41 20z\"/>\n",
              "  </svg>\n",
              "      </button>\n",
              "      \n",
              "  <style>\n",
              "    .colab-df-container {\n",
              "      display:flex;\n",
              "      flex-wrap:wrap;\n",
              "      gap: 12px;\n",
              "    }\n",
              "\n",
              "    .colab-df-convert {\n",
              "      background-color: #E8F0FE;\n",
              "      border: none;\n",
              "      border-radius: 50%;\n",
              "      cursor: pointer;\n",
              "      display: none;\n",
              "      fill: #1967D2;\n",
              "      height: 32px;\n",
              "      padding: 0 0 0 0;\n",
              "      width: 32px;\n",
              "    }\n",
              "\n",
              "    .colab-df-convert:hover {\n",
              "      background-color: #E2EBFA;\n",
              "      box-shadow: 0px 1px 2px rgba(60, 64, 67, 0.3), 0px 1px 3px 1px rgba(60, 64, 67, 0.15);\n",
              "      fill: #174EA6;\n",
              "    }\n",
              "\n",
              "    [theme=dark] .colab-df-convert {\n",
              "      background-color: #3B4455;\n",
              "      fill: #D2E3FC;\n",
              "    }\n",
              "\n",
              "    [theme=dark] .colab-df-convert:hover {\n",
              "      background-color: #434B5C;\n",
              "      box-shadow: 0px 1px 3px 1px rgba(0, 0, 0, 0.15);\n",
              "      filter: drop-shadow(0px 1px 2px rgba(0, 0, 0, 0.3));\n",
              "      fill: #FFFFFF;\n",
              "    }\n",
              "  </style>\n",
              "\n",
              "      <script>\n",
              "        const buttonEl =\n",
              "          document.querySelector('#df-db1f4c8f-5e97-4f5d-91ac-7e3d121e3a88 button.colab-df-convert');\n",
              "        buttonEl.style.display =\n",
              "          google.colab.kernel.accessAllowed ? 'block' : 'none';\n",
              "\n",
              "        async function convertToInteractive(key) {\n",
              "          const element = document.querySelector('#df-db1f4c8f-5e97-4f5d-91ac-7e3d121e3a88');\n",
              "          const dataTable =\n",
              "            await google.colab.kernel.invokeFunction('convertToInteractive',\n",
              "                                                     [key], {});\n",
              "          if (!dataTable) return;\n",
              "\n",
              "          const docLinkHtml = 'Like what you see? Visit the ' +\n",
              "            '<a target=\"_blank\" href=https://colab.research.google.com/notebooks/data_table.ipynb>data table notebook</a>'\n",
              "            + ' to learn more about interactive tables.';\n",
              "          element.innerHTML = '';\n",
              "          dataTable['output_type'] = 'display_data';\n",
              "          await google.colab.output.renderOutput(dataTable, element);\n",
              "          const docLink = document.createElement('div');\n",
              "          docLink.innerHTML = docLinkHtml;\n",
              "          element.appendChild(docLink);\n",
              "        }\n",
              "      </script>\n",
              "    </div>\n",
              "  </div>\n",
              "  "
            ],
            "text/plain": [
              "  unCleaned Word  Count\n",
              "0  من             9250 \n",
              "1  في             7163 \n",
              "2  و              5647 \n",
              "3  المطعم         4902 \n",
              "4  جدا            4618 "
            ]
          },
          "execution_count": 180,
          "metadata": {},
          "output_type": "execute_result"
        }
      ],
      "source": [
        "# store the top 20 unCleaned words in a new data frame\n",
        "ulst = unCleaned_word_counter.most_common(20)\n",
        "unCleaned_word_df = pd.DataFrame(ulst, columns = ['unCleaned Word', 'Count'])\n",
        "unCleaned_word_df.head()"
      ]
    },
    {
      "cell_type": "markdown",
      "metadata": {
        "id": "7xhdJKwuaSaF"
      },
      "source": [
        "after Preprocessing:"
      ]
    },
    {
      "cell_type": "code",
      "execution_count": null,
      "metadata": {
        "colab": {
          "base_uri": "https://localhost:8080/"
        },
        "id": "PIJJfxSDoQCJ",
        "outputId": "f9cf8333-84fd-4827-ea3f-3d29c024c3bc"
      },
      "outputs": [
        {
          "name": "stdout",
          "output_type": "stream",
          "text": [
            "301128 words total, with a vocabulary size of 12624\n",
            "Max sentence length is 600\n"
          ]
        }
      ],
      "source": [
        "all_words = [word for tokens in data_df[\"tokens\"] for word in tokens]\n",
        "sentence_lengths = [len(tokens) for tokens in data_df[\"tokens\"]]\n",
        "\n",
        "VOCAB = sorted(list(set(all_words)))\n",
        "\n",
        "print(\"%s words total, with a vocabulary size of %s\" % (len(all_words), len(VOCAB)))\n",
        "print(\"Max sentence length is %s\" % max(sentence_lengths))"
      ]
    },
    {
      "cell_type": "code",
      "execution_count": null,
      "metadata": {
        "id": "0VGJv1wqoQCM"
      },
      "outputs": [],
      "source": [
        "# count the number of words\n",
        "word_counter = Counter(all_words)"
      ]
    },
    {
      "cell_type": "code",
      "execution_count": null,
      "metadata": {
        "colab": {
          "base_uri": "https://localhost:8080/"
        },
        "id": "swHFOog9oQCN",
        "outputId": "583ee73d-339c-42a4-9275-f2e11da8aeb8"
      },
      "outputs": [
        {
          "data": {
            "text/plain": [
              "[('جدا', 4951),\n",
              " ('اكل', 4576),\n",
              " ('طعم', 4282),\n",
              " ('سعر', 3585),\n",
              " ('خدم', 2848),\n",
              " ('طلب', 2796),\n",
              " ('جرب', 2623),\n",
              " ('ريع', 2522),\n",
              " ('لذذ', 2499),\n",
              " ('فضل', 2285)]"
            ]
          },
          "execution_count": 183,
          "metadata": {},
          "output_type": "execute_result"
        }
      ],
      "source": [
        "# show the most common words\n",
        "word_counter.most_common(10)"
      ]
    },
    {
      "cell_type": "code",
      "execution_count": null,
      "metadata": {
        "colab": {
          "base_uri": "https://localhost:8080/"
        },
        "id": "bw322KvfoQCO",
        "outputId": "3284bda0-ffab-4eed-c1a8-b6e53070b2db"
      },
      "outputs": [
        {
          "data": {
            "text/plain": [
              "[('64', 1),\n",
              " ('وايتريسز', 1),\n",
              " ('وفردريكرز', 1),\n",
              " ('عرفع', 1),\n",
              " ('هالعوامل', 1),\n",
              " ('ومايمديك', 1),\n",
              " ('سبيلوموزاريلا', 1),\n",
              " ('استروبري', 1),\n",
              " ('رصي', 1),\n",
              " ('حيتاخر', 1)]"
            ]
          },
          "execution_count": 184,
          "metadata": {},
          "output_type": "execute_result"
        }
      ],
      "source": [
        "# Display 10 least common lines\n",
        "word_counter.most_common()[-10:]"
      ]
    },
    {
      "cell_type": "code",
      "execution_count": null,
      "metadata": {
        "id": "79RfLBfSoQCP"
      },
      "outputs": [],
      "source": [
        "# store the top 20 words in a new data frame\n",
        "lst = word_counter.most_common(20)\n",
        "word_df = pd.DataFrame(lst, columns = ['Word', 'Count'])"
      ]
    },
    {
      "cell_type": "code",
      "execution_count": null,
      "metadata": {
        "colab": {
          "base_uri": "https://localhost:8080/"
        },
        "id": "xCpX8_nOoQCQ",
        "outputId": "27c0450e-f7c1-42b9-bae9-e0fbb990cec2"
      },
      "outputs": [
        {
          "data": {
            "text/html": [
              "\n",
              "  <div id=\"df-36fc7143-fbcb-4d51-9cdf-377d453532ec\">\n",
              "    <div class=\"colab-df-container\">\n",
              "      <div>\n",
              "<style scoped>\n",
              "    .dataframe tbody tr th:only-of-type {\n",
              "        vertical-align: middle;\n",
              "    }\n",
              "\n",
              "    .dataframe tbody tr th {\n",
              "        vertical-align: top;\n",
              "    }\n",
              "\n",
              "    .dataframe thead th {\n",
              "        text-align: right;\n",
              "    }\n",
              "</style>\n",
              "<table border=\"1\" class=\"dataframe\">\n",
              "  <thead>\n",
              "    <tr style=\"text-align: right;\">\n",
              "      <th></th>\n",
              "      <th>Word</th>\n",
              "      <th>Count</th>\n",
              "    </tr>\n",
              "  </thead>\n",
              "  <tbody>\n",
              "    <tr>\n",
              "      <th>0</th>\n",
              "      <td>جدا</td>\n",
              "      <td>4951</td>\n",
              "    </tr>\n",
              "    <tr>\n",
              "      <th>1</th>\n",
              "      <td>اكل</td>\n",
              "      <td>4576</td>\n",
              "    </tr>\n",
              "    <tr>\n",
              "      <th>2</th>\n",
              "      <td>طعم</td>\n",
              "      <td>4282</td>\n",
              "    </tr>\n",
              "    <tr>\n",
              "      <th>3</th>\n",
              "      <td>سعر</td>\n",
              "      <td>3585</td>\n",
              "    </tr>\n",
              "    <tr>\n",
              "      <th>4</th>\n",
              "      <td>خدم</td>\n",
              "      <td>2848</td>\n",
              "    </tr>\n",
              "  </tbody>\n",
              "</table>\n",
              "</div>\n",
              "      <button class=\"colab-df-convert\" onclick=\"convertToInteractive('df-36fc7143-fbcb-4d51-9cdf-377d453532ec')\"\n",
              "              title=\"Convert this dataframe to an interactive table.\"\n",
              "              style=\"display:none;\">\n",
              "        \n",
              "  <svg xmlns=\"http://www.w3.org/2000/svg\" height=\"24px\"viewBox=\"0 0 24 24\"\n",
              "       width=\"24px\">\n",
              "    <path d=\"M0 0h24v24H0V0z\" fill=\"none\"/>\n",
              "    <path d=\"M18.56 5.44l.94 2.06.94-2.06 2.06-.94-2.06-.94-.94-2.06-.94 2.06-2.06.94zm-11 1L8.5 8.5l.94-2.06 2.06-.94-2.06-.94L8.5 2.5l-.94 2.06-2.06.94zm10 10l.94 2.06.94-2.06 2.06-.94-2.06-.94-.94-2.06-.94 2.06-2.06.94z\"/><path d=\"M17.41 7.96l-1.37-1.37c-.4-.4-.92-.59-1.43-.59-.52 0-1.04.2-1.43.59L10.3 9.45l-7.72 7.72c-.78.78-.78 2.05 0 2.83L4 21.41c.39.39.9.59 1.41.59.51 0 1.02-.2 1.41-.59l7.78-7.78 2.81-2.81c.8-.78.8-2.07 0-2.86zM5.41 20L4 18.59l7.72-7.72 1.47 1.35L5.41 20z\"/>\n",
              "  </svg>\n",
              "      </button>\n",
              "      \n",
              "  <style>\n",
              "    .colab-df-container {\n",
              "      display:flex;\n",
              "      flex-wrap:wrap;\n",
              "      gap: 12px;\n",
              "    }\n",
              "\n",
              "    .colab-df-convert {\n",
              "      background-color: #E8F0FE;\n",
              "      border: none;\n",
              "      border-radius: 50%;\n",
              "      cursor: pointer;\n",
              "      display: none;\n",
              "      fill: #1967D2;\n",
              "      height: 32px;\n",
              "      padding: 0 0 0 0;\n",
              "      width: 32px;\n",
              "    }\n",
              "\n",
              "    .colab-df-convert:hover {\n",
              "      background-color: #E2EBFA;\n",
              "      box-shadow: 0px 1px 2px rgba(60, 64, 67, 0.3), 0px 1px 3px 1px rgba(60, 64, 67, 0.15);\n",
              "      fill: #174EA6;\n",
              "    }\n",
              "\n",
              "    [theme=dark] .colab-df-convert {\n",
              "      background-color: #3B4455;\n",
              "      fill: #D2E3FC;\n",
              "    }\n",
              "\n",
              "    [theme=dark] .colab-df-convert:hover {\n",
              "      background-color: #434B5C;\n",
              "      box-shadow: 0px 1px 3px 1px rgba(0, 0, 0, 0.15);\n",
              "      filter: drop-shadow(0px 1px 2px rgba(0, 0, 0, 0.3));\n",
              "      fill: #FFFFFF;\n",
              "    }\n",
              "  </style>\n",
              "\n",
              "      <script>\n",
              "        const buttonEl =\n",
              "          document.querySelector('#df-36fc7143-fbcb-4d51-9cdf-377d453532ec button.colab-df-convert');\n",
              "        buttonEl.style.display =\n",
              "          google.colab.kernel.accessAllowed ? 'block' : 'none';\n",
              "\n",
              "        async function convertToInteractive(key) {\n",
              "          const element = document.querySelector('#df-36fc7143-fbcb-4d51-9cdf-377d453532ec');\n",
              "          const dataTable =\n",
              "            await google.colab.kernel.invokeFunction('convertToInteractive',\n",
              "                                                     [key], {});\n",
              "          if (!dataTable) return;\n",
              "\n",
              "          const docLinkHtml = 'Like what you see? Visit the ' +\n",
              "            '<a target=\"_blank\" href=https://colab.research.google.com/notebooks/data_table.ipynb>data table notebook</a>'\n",
              "            + ' to learn more about interactive tables.';\n",
              "          element.innerHTML = '';\n",
              "          dataTable['output_type'] = 'display_data';\n",
              "          await google.colab.output.renderOutput(dataTable, element);\n",
              "          const docLink = document.createElement('div');\n",
              "          docLink.innerHTML = docLinkHtml;\n",
              "          element.appendChild(docLink);\n",
              "        }\n",
              "      </script>\n",
              "    </div>\n",
              "  </div>\n",
              "  "
            ],
            "text/plain": [
              "  Word  Count\n",
              "0  جدا  4951 \n",
              "1  اكل  4576 \n",
              "2  طعم  4282 \n",
              "3  سعر  3585 \n",
              "4  خدم  2848 "
            ]
          },
          "execution_count": 186,
          "metadata": {},
          "output_type": "execute_result"
        }
      ],
      "source": [
        "word_df.head()"
      ]
    },
    {
      "cell_type": "code",
      "execution_count": null,
      "metadata": {
        "colab": {
          "base_uri": "https://localhost:8080/"
        },
        "id": "CzJRAud1CsWM",
        "outputId": "1b368262-3b55-4d10-b9fd-de7d15c122d1"
      },
      "outputs": [
        {
          "data": {
            "text/html": [
              "\n",
              "  <div id=\"df-591f3242-f61d-4e0d-bb04-8e26a606dff4\">\n",
              "    <div class=\"colab-df-container\">\n",
              "      <div>\n",
              "<style scoped>\n",
              "    .dataframe tbody tr th:only-of-type {\n",
              "        vertical-align: middle;\n",
              "    }\n",
              "\n",
              "    .dataframe tbody tr th {\n",
              "        vertical-align: top;\n",
              "    }\n",
              "\n",
              "    .dataframe thead th {\n",
              "        text-align: right;\n",
              "    }\n",
              "</style>\n",
              "<table border=\"1\" class=\"dataframe\">\n",
              "  <thead>\n",
              "    <tr style=\"text-align: right;\">\n",
              "      <th></th>\n",
              "      <th>Text</th>\n",
              "      <th>Sentiment</th>\n",
              "      <th>Clean Text</th>\n",
              "      <th>text length</th>\n",
              "      <th>tokens</th>\n",
              "      <th>unCleaned tokens</th>\n",
              "    </tr>\n",
              "  </thead>\n",
              "  <tbody>\n",
              "    <tr>\n",
              "      <th>0</th>\n",
              "      <td>Buona scelta gluten-free \\nIl ristorante \"Il Grissino\" è un onesto ristorante la famiglia, senza troppe pretese e, coerentemente, con costi contenuti; caratteristiche che ne fanno un buon locale d'appoggio se si vuole mangiare fuori per comodità ma non si sta cercando l'evento memorabile. Tutte le portate sono più che discrete, il servizio cortese e ragionevolmente rapido. Fra i luoghi che fanno pizza senza glutine a Milano, le loro proposte (basate su farina DS) sono da contarsi fra le migliori. Raccomandabile per una cena tranquilla senza impegno.\\n</td>\n",
              "      <td>NaN</td>\n",
              "      <td></td>\n",
              "      <td>1</td>\n",
              "      <td>[]</td>\n",
              "      <td>[Buona, scelta, gluten, free, Il, ristorante, Il, Grissino, è, un, onesto, ristorante, la, famiglia, senza, troppe, pretese, e, coerentemente, con, costi, contenuti, caratteristiche, che, ne, fanno, un, buon, locale, d, appoggio, se, si, vuole, mangiare, fuori, per, comodità, ma, non, si, sta, cercando, l, evento, memorabile, Tutte, le, portate, sono, più, che, discrete, il, servizio, cortese, e, ragionevolmente, rapido, Fra, i, luoghi, che, fanno, pizza, senza, glutine, a, Milano, le, loro, proposte, basate, su, farina, DS, sono, da, contarsi, fra, le, migliori, Raccomandabile, per, una, cena, tranquilla, senza, impegno]</td>\n",
              "    </tr>\n",
              "    <tr>\n",
              "      <th>1</th>\n",
              "      <td>Da evitare anche quello in via Pier della Francesca! \\nSono stata all'Antica Focacceria in via Pier della Francesca 56 a Milano. Ho comprato arancini,caponata,sfincione. Li ho mangiati con un'amica. Risultato: ci è rimasto tutto sullo stomaco!! Una cosa tremenda!!! Siamo state malissimo! La caponata era immangiabile, veramente scadente. Gli arancini e lo sfincione non sembravano malvagi, ma evidentemente in questo locale non usano prodotti di qualità e non cambiano l'olio di cottura. Ci tengo a sottolineare che nè io nè la mia amica siamo dei tipi delicati, quindi non abbiamo problemi a mangiare fritti e cose del genere. Peccato perchè il locale (che tra l'altro non è a buon mercato) in sè è carino.</td>\n",
              "      <td>NaN</td>\n",
              "      <td>56</td>\n",
              "      <td>4</td>\n",
              "      <td>[56]</td>\n",
              "      <td>[Da, evitare, anche, quello, in, via, Pier, della, Francesca, Sono, stata, all, Antica, Focacceria, in, via, Pier, della, Francesca, 56, a, Milano, Ho, comprato, arancini, caponata, sfincione, Li, ho, mangiati, con, un, amica, Risultato, ci, è, rimasto, tutto, sullo, stomaco, Una, cosa, tremenda, Siamo, state, malissimo, La, caponata, era, immangiabile, veramente, scadente, Gli, arancini, e, lo, sfincione, non, sembravano, malvagi, ma, evidentemente, in, questo, locale, non, usano, prodotti, di, qualità, e, non, cambiano, l, olio, di, cottura, Ci, tengo, a, sottolineare, che, nè, io, nè, la, mia, amica, siamo, dei, tipi, delicati, quindi, non, abbiamo, problemi, a, mangiare, fritti, e, ...]</td>\n",
              "    </tr>\n",
              "    <tr>\n",
              "      <th>2</th>\n",
              "      <td>تناولت العشاء فيه \\nفندق قريب من المطار لكنه عادي في منطقه مزدحمة الطعام عادي اوبن بوفيه لكنه مقبول وكعادة اغلب الفنادق هنا الشيف كيني والاكل يغلب عليه الطابع الكيبني\\n</td>\n",
              "      <td>NaN</td>\n",
              "      <td>نول عشء ندق قرب طار لكن عدي طقه زدحم طعم عدي اوب بوف لكن قبل كعد غلب ندق شيف كين اكل غلب طبع كيب</td>\n",
              "      <td>98</td>\n",
              "      <td>[نول, عشء, ندق, قرب, طار, لكن, عدي, طقه, زدحم, طعم, عدي, اوب, بوف, لكن, قبل, كعد, غلب, ندق, شيف, كين, اكل, غلب, طبع, كيب]</td>\n",
              "      <td>[تناولت, العشاء, فيه, فندق, قريب, من, المطار, لكنه, عادي, في, منطقه, مزدحمة, الطعام, عادي, اوبن, بوفيه, لكنه, مقبول, وكعادة, اغلب, الفنادق, هنا, الشيف, كيني, والاكل, يغلب, عليه, الطابع, الكيبني]</td>\n",
              "    </tr>\n",
              "    <tr>\n",
              "      <th>3</th>\n",
              "      <td>مطعم مختلف عن الجو العام بجوبا \\nمطعم مختلف بسيط غير انيق ولكنه يقدم طعام مختلف يمكن تصنيفه بانه طعام هندي مقبول وهناك بعض الاصناف التي يمكن تناولها ولكن يغلب عليها البهار والحار والنكهه الهنديه الخدمه جيده ولكنه مزدحم وخاصة وقت العشاء\\n</td>\n",
              "      <td>NaN</td>\n",
              "      <td>خلف لجو عام بجب خلف بسط انق ولك قدم طعم خلف صنف بنه طعم هند قبل وهن صنف نول غلب بهر حار نكه هند خدم جيد ولك زدحم وخص وقت عشء</td>\n",
              "      <td>126</td>\n",
              "      <td>[خلف, لجو, عام, بجب, خلف, بسط, انق, ولك, قدم, طعم, خلف, صنف, بنه, طعم, هند, قبل, وهن, صنف, نول, غلب, بهر, حار, نكه, هند, خدم, جيد, ولك, زدحم, وخص, وقت, عشء]</td>\n",
              "      <td>[مطعم, مختلف, عن, الجو, العام, بجوبا, مطعم, مختلف, بسيط, غير, انيق, ولكنه, يقدم, طعام, مختلف, يمكن, تصنيفه, بانه, طعام, هندي, مقبول, وهناك, بعض, الاصناف, التي, يمكن, تناولها, ولكن, يغلب, عليها, البهار, والحار, والنكهه, الهنديه, الخدمه, جيده, ولكنه, مزدحم, وخاصة, وقت, العشاء]</td>\n",
              "    </tr>\n",
              "    <tr>\n",
              "      <th>4</th>\n",
              "      <td>مطعم لطيف يغلب عليه الطابع اليوناني لان مالكه اظن يوناني ولكن الطعام هندي اغلبه \\nلطيف مزدحم دائما الطعام يتأخر نتيجه للزحام مفضل من الاجانب ولكنه كحال كل مطاعم جوبا مطعم بسيط وغالي جدا\\n</td>\n",
              "      <td>NaN</td>\n",
              "      <td>لطف غلب طبع يون لان الك اظن يون طعم هند غلب لطف زدحم داي طعم تخر نتج زحم فضل جنب ولك كحل جوب بسط وغل جدا</td>\n",
              "      <td>106</td>\n",
              "      <td>[لطف, غلب, طبع, يون, لان, الك, اظن, يون, طعم, هند, غلب, لطف, زدحم, داي, طعم, تخر, نتج, زحم, فضل, جنب, ولك, كحل, جوب, بسط, وغل, جدا]</td>\n",
              "      <td>[مطعم, لطيف, يغلب, عليه, الطابع, اليوناني, لان, مالكه, اظن, يوناني, ولكن, الطعام, هندي, اغلبه, لطيف, مزدحم, دائما, الطعام, يتأخر, نتيجه, للزحام, مفضل, من, الاجانب, ولكنه, كحال, كل, مطاعم, جوبا, مطعم, بسيط, وغالي, جدا]</td>\n",
              "    </tr>\n",
              "  </tbody>\n",
              "</table>\n",
              "</div>\n",
              "      <button class=\"colab-df-convert\" onclick=\"convertToInteractive('df-591f3242-f61d-4e0d-bb04-8e26a606dff4')\"\n",
              "              title=\"Convert this dataframe to an interactive table.\"\n",
              "              style=\"display:none;\">\n",
              "        \n",
              "  <svg xmlns=\"http://www.w3.org/2000/svg\" height=\"24px\"viewBox=\"0 0 24 24\"\n",
              "       width=\"24px\">\n",
              "    <path d=\"M0 0h24v24H0V0z\" fill=\"none\"/>\n",
              "    <path d=\"M18.56 5.44l.94 2.06.94-2.06 2.06-.94-2.06-.94-.94-2.06-.94 2.06-2.06.94zm-11 1L8.5 8.5l.94-2.06 2.06-.94-2.06-.94L8.5 2.5l-.94 2.06-2.06.94zm10 10l.94 2.06.94-2.06 2.06-.94-2.06-.94-.94-2.06-.94 2.06-2.06.94z\"/><path d=\"M17.41 7.96l-1.37-1.37c-.4-.4-.92-.59-1.43-.59-.52 0-1.04.2-1.43.59L10.3 9.45l-7.72 7.72c-.78.78-.78 2.05 0 2.83L4 21.41c.39.39.9.59 1.41.59.51 0 1.02-.2 1.41-.59l7.78-7.78 2.81-2.81c.8-.78.8-2.07 0-2.86zM5.41 20L4 18.59l7.72-7.72 1.47 1.35L5.41 20z\"/>\n",
              "  </svg>\n",
              "      </button>\n",
              "      \n",
              "  <style>\n",
              "    .colab-df-container {\n",
              "      display:flex;\n",
              "      flex-wrap:wrap;\n",
              "      gap: 12px;\n",
              "    }\n",
              "\n",
              "    .colab-df-convert {\n",
              "      background-color: #E8F0FE;\n",
              "      border: none;\n",
              "      border-radius: 50%;\n",
              "      cursor: pointer;\n",
              "      display: none;\n",
              "      fill: #1967D2;\n",
              "      height: 32px;\n",
              "      padding: 0 0 0 0;\n",
              "      width: 32px;\n",
              "    }\n",
              "\n",
              "    .colab-df-convert:hover {\n",
              "      background-color: #E2EBFA;\n",
              "      box-shadow: 0px 1px 2px rgba(60, 64, 67, 0.3), 0px 1px 3px 1px rgba(60, 64, 67, 0.15);\n",
              "      fill: #174EA6;\n",
              "    }\n",
              "\n",
              "    [theme=dark] .colab-df-convert {\n",
              "      background-color: #3B4455;\n",
              "      fill: #D2E3FC;\n",
              "    }\n",
              "\n",
              "    [theme=dark] .colab-df-convert:hover {\n",
              "      background-color: #434B5C;\n",
              "      box-shadow: 0px 1px 3px 1px rgba(0, 0, 0, 0.15);\n",
              "      filter: drop-shadow(0px 1px 2px rgba(0, 0, 0, 0.3));\n",
              "      fill: #FFFFFF;\n",
              "    }\n",
              "  </style>\n",
              "\n",
              "      <script>\n",
              "        const buttonEl =\n",
              "          document.querySelector('#df-591f3242-f61d-4e0d-bb04-8e26a606dff4 button.colab-df-convert');\n",
              "        buttonEl.style.display =\n",
              "          google.colab.kernel.accessAllowed ? 'block' : 'none';\n",
              "\n",
              "        async function convertToInteractive(key) {\n",
              "          const element = document.querySelector('#df-591f3242-f61d-4e0d-bb04-8e26a606dff4');\n",
              "          const dataTable =\n",
              "            await google.colab.kernel.invokeFunction('convertToInteractive',\n",
              "                                                     [key], {});\n",
              "          if (!dataTable) return;\n",
              "\n",
              "          const docLinkHtml = 'Like what you see? Visit the ' +\n",
              "            '<a target=\"_blank\" href=https://colab.research.google.com/notebooks/data_table.ipynb>data table notebook</a>'\n",
              "            + ' to learn more about interactive tables.';\n",
              "          element.innerHTML = '';\n",
              "          dataTable['output_type'] = 'display_data';\n",
              "          await google.colab.output.renderOutput(dataTable, element);\n",
              "          const docLink = document.createElement('div');\n",
              "          docLink.innerHTML = docLinkHtml;\n",
              "          element.appendChild(docLink);\n",
              "        }\n",
              "      </script>\n",
              "    </div>\n",
              "  </div>\n",
              "  "
            ],
            "text/plain": [
              "                                                                                                                                                                                                                                                                                                                                                                                                                                                                                                                                                                                                                                                                                                                                   Text  \\\n",
              "0  Buona scelta gluten-free \\nIl ristorante \"Il Grissino\" è un onesto ristorante la famiglia, senza troppe pretese e, coerentemente, con costi contenuti; caratteristiche che ne fanno un buon locale d'appoggio se si vuole mangiare fuori per comodità ma non si sta cercando l'evento memorabile. Tutte le portate sono più che discrete, il servizio cortese e ragionevolmente rapido. Fra i luoghi che fanno pizza senza glutine a Milano, le loro proposte (basate su farina DS) sono da contarsi fra le migliori. Raccomandabile per una cena tranquilla senza impegno.\\n                                                                                                                                                          \n",
              "1  Da evitare anche quello in via Pier della Francesca! \\nSono stata all'Antica Focacceria in via Pier della Francesca 56 a Milano. Ho comprato arancini,caponata,sfincione. Li ho mangiati con un'amica. Risultato: ci è rimasto tutto sullo stomaco!! Una cosa tremenda!!! Siamo state malissimo! La caponata era immangiabile, veramente scadente. Gli arancini e lo sfincione non sembravano malvagi, ma evidentemente in questo locale non usano prodotti di qualità e non cambiano l'olio di cottura. Ci tengo a sottolineare che nè io nè la mia amica siamo dei tipi delicati, quindi non abbiamo problemi a mangiare fritti e cose del genere. Peccato perchè il locale (che tra l'altro non è a buon mercato) in sè è carino.   \n",
              "2  تناولت العشاء فيه \\nفندق قريب من المطار لكنه عادي في منطقه مزدحمة الطعام عادي اوبن بوفيه لكنه مقبول وكعادة اغلب الفنادق هنا الشيف كيني والاكل يغلب عليه الطابع الكيبني\\n                                                                                                                                                                                                                                                                                                                                                                                                                                                                                                                                                               \n",
              "3  مطعم مختلف عن الجو العام بجوبا \\nمطعم مختلف بسيط غير انيق ولكنه يقدم طعام مختلف يمكن تصنيفه بانه طعام هندي مقبول وهناك بعض الاصناف التي يمكن تناولها ولكن يغلب عليها البهار والحار والنكهه الهنديه الخدمه جيده ولكنه مزدحم وخاصة وقت العشاء\\n                                                                                                                                                                                                                                                                                                                                                                                                                                                                                          \n",
              "4  مطعم لطيف يغلب عليه الطابع اليوناني لان مالكه اظن يوناني ولكن الطعام هندي اغلبه \\nلطيف مزدحم دائما الطعام يتأخر نتيجه للزحام مفضل من الاجانب ولكنه كحال كل مطاعم جوبا مطعم بسيط وغالي جدا\\n                                                                                                                                                                                                                                                                                                                                                                                                                                                                                                                                            \n",
              "\n",
              "   Sentiment  \\\n",
              "0 NaN          \n",
              "1 NaN          \n",
              "2 NaN          \n",
              "3 NaN          \n",
              "4 NaN          \n",
              "\n",
              "                                                                                                                       Clean Text  \\\n",
              "0                                                                                                                                   \n",
              "1    56                                                                                                                             \n",
              "2    نول عشء ندق قرب طار لكن عدي طقه زدحم طعم عدي اوب بوف لكن قبل كعد غلب ندق شيف كين اكل غلب طبع كيب                               \n",
              "3    خلف لجو عام بجب خلف بسط انق ولك قدم طعم خلف صنف بنه طعم هند قبل وهن صنف نول غلب بهر حار نكه هند خدم جيد ولك زدحم وخص وقت عشء   \n",
              "4    لطف غلب طبع يون لان الك اظن يون طعم هند غلب لطف زدحم داي طعم تخر نتج زحم فضل جنب ولك كحل جوب بسط وغل جدا                       \n",
              "\n",
              "   text length  \\\n",
              "0  1             \n",
              "1  4             \n",
              "2  98            \n",
              "3  126           \n",
              "4  106           \n",
              "\n",
              "                                                                                                                                                         tokens  \\\n",
              "0  []                                                                                                                                                             \n",
              "1  [56]                                                                                                                                                           \n",
              "2  [نول, عشء, ندق, قرب, طار, لكن, عدي, طقه, زدحم, طعم, عدي, اوب, بوف, لكن, قبل, كعد, غلب, ندق, شيف, كين, اكل, غلب, طبع, كيب]                                      \n",
              "3  [خلف, لجو, عام, بجب, خلف, بسط, انق, ولك, قدم, طعم, خلف, صنف, بنه, طعم, هند, قبل, وهن, صنف, نول, غلب, بهر, حار, نكه, هند, خدم, جيد, ولك, زدحم, وخص, وقت, عشء]   \n",
              "4  [لطف, غلب, طبع, يون, لان, الك, اظن, يون, طعم, هند, غلب, لطف, زدحم, داي, طعم, تخر, نتج, زحم, فضل, جنب, ولك, كحل, جوب, بسط, وغل, جدا]                            \n",
              "\n",
              "                                                                                                                                                                                                                                                                                                                                                                                                                                                                                                                                                                                                                                                                                                              unCleaned tokens  \n",
              "0  [Buona, scelta, gluten, free, Il, ristorante, Il, Grissino, è, un, onesto, ristorante, la, famiglia, senza, troppe, pretese, e, coerentemente, con, costi, contenuti, caratteristiche, che, ne, fanno, un, buon, locale, d, appoggio, se, si, vuole, mangiare, fuori, per, comodità, ma, non, si, sta, cercando, l, evento, memorabile, Tutte, le, portate, sono, più, che, discrete, il, servizio, cortese, e, ragionevolmente, rapido, Fra, i, luoghi, che, fanno, pizza, senza, glutine, a, Milano, le, loro, proposte, basate, su, farina, DS, sono, da, contarsi, fra, le, migliori, Raccomandabile, per, una, cena, tranquilla, senza, impegno]                                                                        \n",
              "1  [Da, evitare, anche, quello, in, via, Pier, della, Francesca, Sono, stata, all, Antica, Focacceria, in, via, Pier, della, Francesca, 56, a, Milano, Ho, comprato, arancini, caponata, sfincione, Li, ho, mangiati, con, un, amica, Risultato, ci, è, rimasto, tutto, sullo, stomaco, Una, cosa, tremenda, Siamo, state, malissimo, La, caponata, era, immangiabile, veramente, scadente, Gli, arancini, e, lo, sfincione, non, sembravano, malvagi, ma, evidentemente, in, questo, locale, non, usano, prodotti, di, qualità, e, non, cambiano, l, olio, di, cottura, Ci, tengo, a, sottolineare, che, nè, io, nè, la, mia, amica, siamo, dei, tipi, delicati, quindi, non, abbiamo, problemi, a, mangiare, fritti, e, ...]  \n",
              "2  [تناولت, العشاء, فيه, فندق, قريب, من, المطار, لكنه, عادي, في, منطقه, مزدحمة, الطعام, عادي, اوبن, بوفيه, لكنه, مقبول, وكعادة, اغلب, الفنادق, هنا, الشيف, كيني, والاكل, يغلب, عليه, الطابع, الكيبني]                                                                                                                                                                                                                                                                                                                                                                                                                                                                                                                           \n",
              "3  [مطعم, مختلف, عن, الجو, العام, بجوبا, مطعم, مختلف, بسيط, غير, انيق, ولكنه, يقدم, طعام, مختلف, يمكن, تصنيفه, بانه, طعام, هندي, مقبول, وهناك, بعض, الاصناف, التي, يمكن, تناولها, ولكن, يغلب, عليها, البهار, والحار, والنكهه, الهنديه, الخدمه, جيده, ولكنه, مزدحم, وخاصة, وقت, العشاء]                                                                                                                                                                                                                                                                                                                                                                                                                                          \n",
              "4  [مطعم, لطيف, يغلب, عليه, الطابع, اليوناني, لان, مالكه, اظن, يوناني, ولكن, الطعام, هندي, اغلبه, لطيف, مزدحم, دائما, الطعام, يتأخر, نتيجه, للزحام, مفضل, من, الاجانب, ولكنه, كحال, كل, مطاعم, جوبا, مطعم, بسيط, وغالي, جدا]                                                                                                                                                                                                                                                                                                                                                                                                                                                                                                    "
            ]
          },
          "execution_count": 187,
          "metadata": {},
          "output_type": "execute_result"
        }
      ],
      "source": [
        "data_df.head(5)"
      ]
    },
    {
      "cell_type": "markdown",
      "metadata": {
        "id": "QFgcHh26oQCl"
      },
      "source": [
        "# **ML Classification**"
      ]
    },
    {
      "cell_type": "code",
      "execution_count": null,
      "metadata": {
        "id": "7C2lXTIBoQCl"
      },
      "outputs": [],
      "source": [
        "\n",
        "from sklearn.feature_extraction.text import TfidfVectorizer\n",
        "from sklearn.model_selection import train_test_split\n",
        "from sklearn import svm\n",
        "from sklearn.linear_model import LogisticRegression #need to be deleted \n",
        "from sklearn.naive_bayes import MultinomialNB\n",
        "from sklearn.model_selection import cross_val_score, cross_val_predict, KFold\n",
        "from sklearn.metrics  import confusion_matrix, classification_report\n",
        "from sklearn import metrics"
      ]
    },
    {
      "cell_type": "code",
      "execution_count": null,
      "metadata": {
        "id": "9FC-XfK-oQCm"
      },
      "outputs": [],
      "source": [
        "# remove data with NAN Sentiment \n",
        "data_df=data_df[~data_df[\"Sentiment\"].isna()] #i dont think we need it cause we have zero NAN"
      ]
    },
    {
      "cell_type": "code",
      "execution_count": null,
      "metadata": {
        "id": "bVKdycZFoQCn"
      },
      "outputs": [],
      "source": [
        "# remove the \"Neutral\" class\n",
        "data_df=data_df[data_df['Sentiment'] != 'Neutral ']\n",
        "# remove the \"Irrelevant\" class\n",
        "data_df=data_df[data_df['Sentiment'] != 'Irrelevant']"
      ]
    },
    {
      "cell_type": "markdown",
      "metadata": {
        "id": "uqZIlW1CIgFs"
      },
      "source": [
        "*Descriptive Analytics‏*"
      ]
    },
    {
      "cell_type": "code",
      "execution_count": null,
      "metadata": {
        "colab": {
          "base_uri": "https://localhost:8080/"
        },
        "id": "GSfnj-HJZ_TU",
        "outputId": "ee2aaf57-115c-44bc-d22a-e1e31a98aed6"
      },
      "outputs": [
        {
          "data": {
            "text/plain": [
              "(9682, 6)"
            ]
          },
          "execution_count": 191,
          "metadata": {},
          "output_type": "execute_result"
        }
      ],
      "source": [
        "data_df.shape"
      ]
    },
    {
      "cell_type": "code",
      "execution_count": null,
      "metadata": {
        "colab": {
          "base_uri": "https://localhost:8080/"
        },
        "id": "TgbS1P-faMSD",
        "outputId": "e9fe5187-92ba-4e45-daaa-50c9a697b683"
      },
      "outputs": [
        {
          "data": {
            "text/plain": [
              "Index(['Text', 'Sentiment', 'Clean Text', 'text length', 'tokens',\n",
              "       'unCleaned tokens'],\n",
              "      dtype='object')"
            ]
          },
          "execution_count": 192,
          "metadata": {},
          "output_type": "execute_result"
        }
      ],
      "source": [
        "data_df.columns"
      ]
    },
    {
      "cell_type": "code",
      "execution_count": null,
      "metadata": {
        "colab": {
          "base_uri": "https://localhost:8080/"
        },
        "id": "qAPvB85OapN2",
        "outputId": "3b31a2f3-5ea7-4f72-9bc7-cc39e2168f69"
      },
      "outputs": [
        {
          "name": "stdout",
          "output_type": "stream",
          "text": [
            "<class 'pandas.core.frame.DataFrame'>\n",
            "Int64Index: 9682 entries, 22 to 10969\n",
            "Data columns (total 6 columns):\n",
            " #   Column            Non-Null Count  Dtype  \n",
            "---  ------            --------------  -----  \n",
            " 0   Text              9682 non-null   object \n",
            " 1   Sentiment         9682 non-null   float64\n",
            " 2   Clean Text        9682 non-null   object \n",
            " 3   text length       9682 non-null   int64  \n",
            " 4   tokens            9682 non-null   object \n",
            " 5   unCleaned tokens  9682 non-null   object \n",
            "dtypes: float64(1), int64(1), object(4)\n",
            "memory usage: 529.5+ KB\n"
          ]
        }
      ],
      "source": [
        "data_df.info(verbose=True)"
      ]
    },
    {
      "cell_type": "code",
      "execution_count": null,
      "metadata": {
        "colab": {
          "base_uri": "https://localhost:8080/"
        },
        "id": "jbRdmbnna8EJ",
        "outputId": "356e457f-9694-44c9-ecc3-4d97f2f55cfa"
      },
      "outputs": [
        {
          "data": {
            "text/html": [
              "\n",
              "  <div id=\"df-5b7f0882-e360-4d67-860d-7d77d2e4d8c9\">\n",
              "    <div class=\"colab-df-container\">\n",
              "      <div>\n",
              "<style scoped>\n",
              "    .dataframe tbody tr th:only-of-type {\n",
              "        vertical-align: middle;\n",
              "    }\n",
              "\n",
              "    .dataframe tbody tr th {\n",
              "        vertical-align: top;\n",
              "    }\n",
              "\n",
              "    .dataframe thead th {\n",
              "        text-align: right;\n",
              "    }\n",
              "</style>\n",
              "<table border=\"1\" class=\"dataframe\">\n",
              "  <thead>\n",
              "    <tr style=\"text-align: right;\">\n",
              "      <th></th>\n",
              "      <th>Sentiment</th>\n",
              "      <th>text length</th>\n",
              "    </tr>\n",
              "  </thead>\n",
              "  <tbody>\n",
              "    <tr>\n",
              "      <th>count</th>\n",
              "      <td>9682.00000</td>\n",
              "      <td>9682.00000</td>\n",
              "    </tr>\n",
              "    <tr>\n",
              "      <th>mean</th>\n",
              "      <td>0.26699</td>\n",
              "      <td>114.51983</td>\n",
              "    </tr>\n",
              "    <tr>\n",
              "      <th>std</th>\n",
              "      <td>0.44241</td>\n",
              "      <td>129.44427</td>\n",
              "    </tr>\n",
              "    <tr>\n",
              "      <th>min</th>\n",
              "      <td>0.00000</td>\n",
              "      <td>1.00000</td>\n",
              "    </tr>\n",
              "    <tr>\n",
              "      <th>25%</th>\n",
              "      <td>0.00000</td>\n",
              "      <td>45.00000</td>\n",
              "    </tr>\n",
              "    <tr>\n",
              "      <th>50%</th>\n",
              "      <td>0.00000</td>\n",
              "      <td>81.00000</td>\n",
              "    </tr>\n",
              "    <tr>\n",
              "      <th>75%</th>\n",
              "      <td>1.00000</td>\n",
              "      <td>135.00000</td>\n",
              "    </tr>\n",
              "    <tr>\n",
              "      <th>max</th>\n",
              "      <td>1.00000</td>\n",
              "      <td>2486.00000</td>\n",
              "    </tr>\n",
              "  </tbody>\n",
              "</table>\n",
              "</div>\n",
              "      <button class=\"colab-df-convert\" onclick=\"convertToInteractive('df-5b7f0882-e360-4d67-860d-7d77d2e4d8c9')\"\n",
              "              title=\"Convert this dataframe to an interactive table.\"\n",
              "              style=\"display:none;\">\n",
              "        \n",
              "  <svg xmlns=\"http://www.w3.org/2000/svg\" height=\"24px\"viewBox=\"0 0 24 24\"\n",
              "       width=\"24px\">\n",
              "    <path d=\"M0 0h24v24H0V0z\" fill=\"none\"/>\n",
              "    <path d=\"M18.56 5.44l.94 2.06.94-2.06 2.06-.94-2.06-.94-.94-2.06-.94 2.06-2.06.94zm-11 1L8.5 8.5l.94-2.06 2.06-.94-2.06-.94L8.5 2.5l-.94 2.06-2.06.94zm10 10l.94 2.06.94-2.06 2.06-.94-2.06-.94-.94-2.06-.94 2.06-2.06.94z\"/><path d=\"M17.41 7.96l-1.37-1.37c-.4-.4-.92-.59-1.43-.59-.52 0-1.04.2-1.43.59L10.3 9.45l-7.72 7.72c-.78.78-.78 2.05 0 2.83L4 21.41c.39.39.9.59 1.41.59.51 0 1.02-.2 1.41-.59l7.78-7.78 2.81-2.81c.8-.78.8-2.07 0-2.86zM5.41 20L4 18.59l7.72-7.72 1.47 1.35L5.41 20z\"/>\n",
              "  </svg>\n",
              "      </button>\n",
              "      \n",
              "  <style>\n",
              "    .colab-df-container {\n",
              "      display:flex;\n",
              "      flex-wrap:wrap;\n",
              "      gap: 12px;\n",
              "    }\n",
              "\n",
              "    .colab-df-convert {\n",
              "      background-color: #E8F0FE;\n",
              "      border: none;\n",
              "      border-radius: 50%;\n",
              "      cursor: pointer;\n",
              "      display: none;\n",
              "      fill: #1967D2;\n",
              "      height: 32px;\n",
              "      padding: 0 0 0 0;\n",
              "      width: 32px;\n",
              "    }\n",
              "\n",
              "    .colab-df-convert:hover {\n",
              "      background-color: #E2EBFA;\n",
              "      box-shadow: 0px 1px 2px rgba(60, 64, 67, 0.3), 0px 1px 3px 1px rgba(60, 64, 67, 0.15);\n",
              "      fill: #174EA6;\n",
              "    }\n",
              "\n",
              "    [theme=dark] .colab-df-convert {\n",
              "      background-color: #3B4455;\n",
              "      fill: #D2E3FC;\n",
              "    }\n",
              "\n",
              "    [theme=dark] .colab-df-convert:hover {\n",
              "      background-color: #434B5C;\n",
              "      box-shadow: 0px 1px 3px 1px rgba(0, 0, 0, 0.15);\n",
              "      filter: drop-shadow(0px 1px 2px rgba(0, 0, 0, 0.3));\n",
              "      fill: #FFFFFF;\n",
              "    }\n",
              "  </style>\n",
              "\n",
              "      <script>\n",
              "        const buttonEl =\n",
              "          document.querySelector('#df-5b7f0882-e360-4d67-860d-7d77d2e4d8c9 button.colab-df-convert');\n",
              "        buttonEl.style.display =\n",
              "          google.colab.kernel.accessAllowed ? 'block' : 'none';\n",
              "\n",
              "        async function convertToInteractive(key) {\n",
              "          const element = document.querySelector('#df-5b7f0882-e360-4d67-860d-7d77d2e4d8c9');\n",
              "          const dataTable =\n",
              "            await google.colab.kernel.invokeFunction('convertToInteractive',\n",
              "                                                     [key], {});\n",
              "          if (!dataTable) return;\n",
              "\n",
              "          const docLinkHtml = 'Like what you see? Visit the ' +\n",
              "            '<a target=\"_blank\" href=https://colab.research.google.com/notebooks/data_table.ipynb>data table notebook</a>'\n",
              "            + ' to learn more about interactive tables.';\n",
              "          element.innerHTML = '';\n",
              "          dataTable['output_type'] = 'display_data';\n",
              "          await google.colab.output.renderOutput(dataTable, element);\n",
              "          const docLink = document.createElement('div');\n",
              "          docLink.innerHTML = docLinkHtml;\n",
              "          element.appendChild(docLink);\n",
              "        }\n",
              "      </script>\n",
              "    </div>\n",
              "  </div>\n",
              "  "
            ],
            "text/plain": [
              "       Sentiment  text length\n",
              "count 9682.00000 9682.00000  \n",
              "mean  0.26699    114.51983   \n",
              "std   0.44241    129.44427   \n",
              "min   0.00000    1.00000     \n",
              "25%   0.00000    45.00000    \n",
              "50%   0.00000    81.00000    \n",
              "75%   1.00000    135.00000   \n",
              "max   1.00000    2486.00000  "
            ]
          },
          "execution_count": 194,
          "metadata": {},
          "output_type": "execute_result"
        }
      ],
      "source": [
        "data_df.describe()"
      ]
    },
    {
      "cell_type": "code",
      "execution_count": null,
      "metadata": {
        "colab": {
          "base_uri": "https://localhost:8080/"
        },
        "id": "4xKCzjrYShGN",
        "outputId": "0130c615-7293-4b17-9ec6-04c45bc290bd"
      },
      "outputs": [
        {
          "data": {
            "text/html": [
              "\n",
              "  <div id=\"df-b024dfd9-22d7-46a8-93b7-6ed9a2d46430\">\n",
              "    <div class=\"colab-df-container\">\n",
              "      <div>\n",
              "<style scoped>\n",
              "    .dataframe tbody tr th:only-of-type {\n",
              "        vertical-align: middle;\n",
              "    }\n",
              "\n",
              "    .dataframe tbody tr th {\n",
              "        vertical-align: top;\n",
              "    }\n",
              "\n",
              "    .dataframe thead th {\n",
              "        text-align: right;\n",
              "    }\n",
              "</style>\n",
              "<table border=\"1\" class=\"dataframe\">\n",
              "  <thead>\n",
              "    <tr style=\"text-align: right;\">\n",
              "      <th></th>\n",
              "      <th>Text</th>\n",
              "      <th>Clean Text</th>\n",
              "      <th>tokens</th>\n",
              "      <th>unCleaned tokens</th>\n",
              "    </tr>\n",
              "  </thead>\n",
              "  <tbody>\n",
              "    <tr>\n",
              "      <th>count</th>\n",
              "      <td>9682</td>\n",
              "      <td>9682</td>\n",
              "      <td>9682</td>\n",
              "      <td>9682</td>\n",
              "    </tr>\n",
              "    <tr>\n",
              "      <th>unique</th>\n",
              "      <td>9682</td>\n",
              "      <td>9604</td>\n",
              "      <td>9603</td>\n",
              "      <td>9673</td>\n",
              "    </tr>\n",
              "    <tr>\n",
              "      <th>top</th>\n",
              "      <td>٦٠ \\nاللي يوصل ميلان ولا يمر هالمطعم اعتبرة خسران خسران مطعم مرتب اكل نظيف ولذيذ جداً و العاملين محترمين انا صراحة بدون مجاملة اعطي المطعم ٩٩،٩/١٠٠</td>\n",
              "      <td></td>\n",
              "      <td>[]</td>\n",
              "      <td>[]</td>\n",
              "    </tr>\n",
              "    <tr>\n",
              "      <th>freq</th>\n",
              "      <td>1</td>\n",
              "      <td>42</td>\n",
              "      <td>43</td>\n",
              "      <td>4</td>\n",
              "    </tr>\n",
              "  </tbody>\n",
              "</table>\n",
              "</div>\n",
              "      <button class=\"colab-df-convert\" onclick=\"convertToInteractive('df-b024dfd9-22d7-46a8-93b7-6ed9a2d46430')\"\n",
              "              title=\"Convert this dataframe to an interactive table.\"\n",
              "              style=\"display:none;\">\n",
              "        \n",
              "  <svg xmlns=\"http://www.w3.org/2000/svg\" height=\"24px\"viewBox=\"0 0 24 24\"\n",
              "       width=\"24px\">\n",
              "    <path d=\"M0 0h24v24H0V0z\" fill=\"none\"/>\n",
              "    <path d=\"M18.56 5.44l.94 2.06.94-2.06 2.06-.94-2.06-.94-.94-2.06-.94 2.06-2.06.94zm-11 1L8.5 8.5l.94-2.06 2.06-.94-2.06-.94L8.5 2.5l-.94 2.06-2.06.94zm10 10l.94 2.06.94-2.06 2.06-.94-2.06-.94-.94-2.06-.94 2.06-2.06.94z\"/><path d=\"M17.41 7.96l-1.37-1.37c-.4-.4-.92-.59-1.43-.59-.52 0-1.04.2-1.43.59L10.3 9.45l-7.72 7.72c-.78.78-.78 2.05 0 2.83L4 21.41c.39.39.9.59 1.41.59.51 0 1.02-.2 1.41-.59l7.78-7.78 2.81-2.81c.8-.78.8-2.07 0-2.86zM5.41 20L4 18.59l7.72-7.72 1.47 1.35L5.41 20z\"/>\n",
              "  </svg>\n",
              "      </button>\n",
              "      \n",
              "  <style>\n",
              "    .colab-df-container {\n",
              "      display:flex;\n",
              "      flex-wrap:wrap;\n",
              "      gap: 12px;\n",
              "    }\n",
              "\n",
              "    .colab-df-convert {\n",
              "      background-color: #E8F0FE;\n",
              "      border: none;\n",
              "      border-radius: 50%;\n",
              "      cursor: pointer;\n",
              "      display: none;\n",
              "      fill: #1967D2;\n",
              "      height: 32px;\n",
              "      padding: 0 0 0 0;\n",
              "      width: 32px;\n",
              "    }\n",
              "\n",
              "    .colab-df-convert:hover {\n",
              "      background-color: #E2EBFA;\n",
              "      box-shadow: 0px 1px 2px rgba(60, 64, 67, 0.3), 0px 1px 3px 1px rgba(60, 64, 67, 0.15);\n",
              "      fill: #174EA6;\n",
              "    }\n",
              "\n",
              "    [theme=dark] .colab-df-convert {\n",
              "      background-color: #3B4455;\n",
              "      fill: #D2E3FC;\n",
              "    }\n",
              "\n",
              "    [theme=dark] .colab-df-convert:hover {\n",
              "      background-color: #434B5C;\n",
              "      box-shadow: 0px 1px 3px 1px rgba(0, 0, 0, 0.15);\n",
              "      filter: drop-shadow(0px 1px 2px rgba(0, 0, 0, 0.3));\n",
              "      fill: #FFFFFF;\n",
              "    }\n",
              "  </style>\n",
              "\n",
              "      <script>\n",
              "        const buttonEl =\n",
              "          document.querySelector('#df-b024dfd9-22d7-46a8-93b7-6ed9a2d46430 button.colab-df-convert');\n",
              "        buttonEl.style.display =\n",
              "          google.colab.kernel.accessAllowed ? 'block' : 'none';\n",
              "\n",
              "        async function convertToInteractive(key) {\n",
              "          const element = document.querySelector('#df-b024dfd9-22d7-46a8-93b7-6ed9a2d46430');\n",
              "          const dataTable =\n",
              "            await google.colab.kernel.invokeFunction('convertToInteractive',\n",
              "                                                     [key], {});\n",
              "          if (!dataTable) return;\n",
              "\n",
              "          const docLinkHtml = 'Like what you see? Visit the ' +\n",
              "            '<a target=\"_blank\" href=https://colab.research.google.com/notebooks/data_table.ipynb>data table notebook</a>'\n",
              "            + ' to learn more about interactive tables.';\n",
              "          element.innerHTML = '';\n",
              "          dataTable['output_type'] = 'display_data';\n",
              "          await google.colab.output.renderOutput(dataTable, element);\n",
              "          const docLink = document.createElement('div');\n",
              "          docLink.innerHTML = docLinkHtml;\n",
              "          element.appendChild(docLink);\n",
              "        }\n",
              "      </script>\n",
              "    </div>\n",
              "  </div>\n",
              "  "
            ],
            "text/plain": [
              "                                                                                                                                                       Text  \\\n",
              "count   9682                                                                                                                                                  \n",
              "unique  9682                                                                                                                                                  \n",
              "top     ٦٠ \\nاللي يوصل ميلان ولا يمر هالمطعم اعتبرة خسران خسران مطعم مرتب اكل نظيف ولذيذ جداً و العاملين محترمين انا صراحة بدون مجاملة اعطي المطعم ٩٩،٩/١٠٠   \n",
              "freq    1                                                                                                                                                     \n",
              "\n",
              "       Clean Text tokens unCleaned tokens  \n",
              "count   9682       9682   9682             \n",
              "unique  9604       9603   9673             \n",
              "top                []     []               \n",
              "freq    42         43     4                "
            ]
          },
          "execution_count": 195,
          "metadata": {},
          "output_type": "execute_result"
        }
      ],
      "source": [
        "data_df.describe(include=['object'])"
      ]
    },
    {
      "cell_type": "code",
      "execution_count": null,
      "metadata": {
        "colab": {
          "base_uri": "https://localhost:8080/"
        },
        "id": "mOh4gl7tSwqj",
        "outputId": "5dcfdcd7-9b33-4233-880d-61761d9432ac"
      },
      "outputs": [
        {
          "data": {
            "text/plain": [
              "0.00000    7097\n",
              "1.00000    2585\n",
              "Name: Sentiment, dtype: int64"
            ]
          },
          "execution_count": 196,
          "metadata": {},
          "output_type": "execute_result"
        }
      ],
      "source": [
        "data_df['Sentiment'].value_counts()"
      ]
    },
    {
      "cell_type": "code",
      "execution_count": null,
      "metadata": {
        "id": "Hb1JQYzVdFnd"
      },
      "outputs": [],
      "source": [
        "from sklearn.feature_extraction.text import TfidfTransformer\n",
        "from sklearn.feature_extraction.text import CountVectorizer\n"
      ]
    },
    {
      "cell_type": "code",
      "execution_count": null,
      "metadata": {
        "colab": {
          "base_uri": "https://localhost:8080/"
        },
        "id": "TSbFDvajdOxG",
        "outputId": "92e75f56-dd7d-4566-911d-8b37b2cbf666"
      },
      "outputs": [
        {
          "data": {
            "text/plain": [
              "(9682, 11802)"
            ]
          },
          "execution_count": 198,
          "metadata": {},
          "output_type": "execute_result"
        }
      ],
      "source": [
        "#for instantiate CountVectorizer()\n",
        "countVec= CountVectorizer()\n",
        "#for the result word counts for the words\n",
        "word_count_vector=countVec.fit_transform(data_df[\"Clean Text\"].values.astype('U')) # Stemming not clean text\n",
        "word_count_vector.shape"
      ]
    },
    {
      "cell_type": "code",
      "execution_count": null,
      "metadata": {
        "colab": {
          "base_uri": "https://localhost:8080/"
        },
        "id": "lyA1ZWO1d6mi",
        "outputId": "90752a75-0f83-41e8-97cc-2398ad524da2"
      },
      "outputs": [
        {
          "data": {
            "text/plain": [
              "TfidfTransformer()"
            ]
          },
          "execution_count": 199,
          "metadata": {},
          "output_type": "execute_result"
        }
      ],
      "source": [
        "#Transform a count matrix to a normalized tf-idf \n",
        "tfidf_transformer=TfidfTransformer(smooth_idf=True,use_idf=True)\n",
        "#this for the idf values\n",
        "tfidf_transformer.fit(word_count_vector)"
      ]
    },
    {
      "cell_type": "code",
      "execution_count": null,
      "metadata": {
        "colab": {
          "base_uri": "https://localhost:8080/"
        },
        "id": "nWTDxcSaejIz",
        "outputId": "32770c35-fb86-4ac2-b48e-739f90423b76"
      },
      "outputs": [
        {
          "name": "stderr",
          "output_type": "stream",
          "text": [
            "/usr/local/lib/python3.7/dist-packages/sklearn/utils/deprecation.py:87: FutureWarning: Function get_feature_names is deprecated; get_feature_names is deprecated in 1.0 and will be removed in 1.2. Please use get_feature_names_out instead.\n",
            "  warnings.warn(msg, category=FutureWarning)\n"
          ]
        }
      ],
      "source": [
        "#print idf values\n",
        "df_idf=pd.DataFrame(tfidf_transformer.idf_,index=countVec.get_feature_names(),columns=['weight_of_words'])"
      ]
    },
    {
      "cell_type": "code",
      "execution_count": null,
      "metadata": {
        "colab": {
          "base_uri": "https://localhost:8080/"
        },
        "id": "sRI2hREvaZgn",
        "outputId": "85d160a5-c1da-4051-8fbb-c7c07579e68a"
      },
      "outputs": [
        {
          "data": {
            "text/html": [
              "\n",
              "  <div id=\"df-ca56871f-9474-4246-bb75-3d172eca62c2\">\n",
              "    <div class=\"colab-df-container\">\n",
              "      <div>\n",
              "<style scoped>\n",
              "    .dataframe tbody tr th:only-of-type {\n",
              "        vertical-align: middle;\n",
              "    }\n",
              "\n",
              "    .dataframe tbody tr th {\n",
              "        vertical-align: top;\n",
              "    }\n",
              "\n",
              "    .dataframe thead th {\n",
              "        text-align: right;\n",
              "    }\n",
              "</style>\n",
              "<table border=\"1\" class=\"dataframe\">\n",
              "  <thead>\n",
              "    <tr style=\"text-align: right;\">\n",
              "      <th></th>\n",
              "      <th>weight_of_words</th>\n",
              "    </tr>\n",
              "  </thead>\n",
              "  <tbody>\n",
              "    <tr>\n",
              "      <th>اكل</th>\n",
              "      <td>2.14577</td>\n",
              "    </tr>\n",
              "    <tr>\n",
              "      <th>جدا</th>\n",
              "      <td>2.19230</td>\n",
              "    </tr>\n",
              "    <tr>\n",
              "      <th>طعم</th>\n",
              "      <td>2.25152</td>\n",
              "    </tr>\n",
              "    <tr>\n",
              "      <th>سعر</th>\n",
              "      <td>2.33428</td>\n",
              "    </tr>\n",
              "    <tr>\n",
              "      <th>خدم</th>\n",
              "      <td>2.50910</td>\n",
              "    </tr>\n",
              "    <tr>\n",
              "      <th>لذذ</th>\n",
              "      <td>2.64550</td>\n",
              "    </tr>\n",
              "    <tr>\n",
              "      <th>جرب</th>\n",
              "      <td>2.68592</td>\n",
              "    </tr>\n",
              "    <tr>\n",
              "      <th>ريع</th>\n",
              "      <td>2.71706</td>\n",
              "    </tr>\n",
              "    <tr>\n",
              "      <th>فضل</th>\n",
              "      <td>2.73857</td>\n",
              "    </tr>\n",
              "    <tr>\n",
              "      <th>طلب</th>\n",
              "      <td>2.83405</td>\n",
              "    </tr>\n",
              "    <tr>\n",
              "      <th>نظف</th>\n",
              "      <td>2.97920</td>\n",
              "    </tr>\n",
              "    <tr>\n",
              "      <th>كان</th>\n",
              "      <td>2.99806</td>\n",
              "    </tr>\n",
              "    <tr>\n",
              "      <th>جيد</th>\n",
              "      <td>2.99882</td>\n",
              "    </tr>\n",
              "    <tr>\n",
              "      <th>قدم</th>\n",
              "      <td>3.04085</td>\n",
              "    </tr>\n",
              "    <tr>\n",
              "      <th>نسب</th>\n",
              "      <td>3.10063</td>\n",
              "    </tr>\n",
              "  </tbody>\n",
              "</table>\n",
              "</div>\n",
              "      <button class=\"colab-df-convert\" onclick=\"convertToInteractive('df-ca56871f-9474-4246-bb75-3d172eca62c2')\"\n",
              "              title=\"Convert this dataframe to an interactive table.\"\n",
              "              style=\"display:none;\">\n",
              "        \n",
              "  <svg xmlns=\"http://www.w3.org/2000/svg\" height=\"24px\"viewBox=\"0 0 24 24\"\n",
              "       width=\"24px\">\n",
              "    <path d=\"M0 0h24v24H0V0z\" fill=\"none\"/>\n",
              "    <path d=\"M18.56 5.44l.94 2.06.94-2.06 2.06-.94-2.06-.94-.94-2.06-.94 2.06-2.06.94zm-11 1L8.5 8.5l.94-2.06 2.06-.94-2.06-.94L8.5 2.5l-.94 2.06-2.06.94zm10 10l.94 2.06.94-2.06 2.06-.94-2.06-.94-.94-2.06-.94 2.06-2.06.94z\"/><path d=\"M17.41 7.96l-1.37-1.37c-.4-.4-.92-.59-1.43-.59-.52 0-1.04.2-1.43.59L10.3 9.45l-7.72 7.72c-.78.78-.78 2.05 0 2.83L4 21.41c.39.39.9.59 1.41.59.51 0 1.02-.2 1.41-.59l7.78-7.78 2.81-2.81c.8-.78.8-2.07 0-2.86zM5.41 20L4 18.59l7.72-7.72 1.47 1.35L5.41 20z\"/>\n",
              "  </svg>\n",
              "      </button>\n",
              "      \n",
              "  <style>\n",
              "    .colab-df-container {\n",
              "      display:flex;\n",
              "      flex-wrap:wrap;\n",
              "      gap: 12px;\n",
              "    }\n",
              "\n",
              "    .colab-df-convert {\n",
              "      background-color: #E8F0FE;\n",
              "      border: none;\n",
              "      border-radius: 50%;\n",
              "      cursor: pointer;\n",
              "      display: none;\n",
              "      fill: #1967D2;\n",
              "      height: 32px;\n",
              "      padding: 0 0 0 0;\n",
              "      width: 32px;\n",
              "    }\n",
              "\n",
              "    .colab-df-convert:hover {\n",
              "      background-color: #E2EBFA;\n",
              "      box-shadow: 0px 1px 2px rgba(60, 64, 67, 0.3), 0px 1px 3px 1px rgba(60, 64, 67, 0.15);\n",
              "      fill: #174EA6;\n",
              "    }\n",
              "\n",
              "    [theme=dark] .colab-df-convert {\n",
              "      background-color: #3B4455;\n",
              "      fill: #D2E3FC;\n",
              "    }\n",
              "\n",
              "    [theme=dark] .colab-df-convert:hover {\n",
              "      background-color: #434B5C;\n",
              "      box-shadow: 0px 1px 3px 1px rgba(0, 0, 0, 0.15);\n",
              "      filter: drop-shadow(0px 1px 2px rgba(0, 0, 0, 0.3));\n",
              "      fill: #FFFFFF;\n",
              "    }\n",
              "  </style>\n",
              "\n",
              "      <script>\n",
              "        const buttonEl =\n",
              "          document.querySelector('#df-ca56871f-9474-4246-bb75-3d172eca62c2 button.colab-df-convert');\n",
              "        buttonEl.style.display =\n",
              "          google.colab.kernel.accessAllowed ? 'block' : 'none';\n",
              "\n",
              "        async function convertToInteractive(key) {\n",
              "          const element = document.querySelector('#df-ca56871f-9474-4246-bb75-3d172eca62c2');\n",
              "          const dataTable =\n",
              "            await google.colab.kernel.invokeFunction('convertToInteractive',\n",
              "                                                     [key], {});\n",
              "          if (!dataTable) return;\n",
              "\n",
              "          const docLinkHtml = 'Like what you see? Visit the ' +\n",
              "            '<a target=\"_blank\" href=https://colab.research.google.com/notebooks/data_table.ipynb>data table notebook</a>'\n",
              "            + ' to learn more about interactive tables.';\n",
              "          element.innerHTML = '';\n",
              "          dataTable['output_type'] = 'display_data';\n",
              "          await google.colab.output.renderOutput(dataTable, element);\n",
              "          const docLink = document.createElement('div');\n",
              "          docLink.innerHTML = docLinkHtml;\n",
              "          element.appendChild(docLink);\n",
              "        }\n",
              "      </script>\n",
              "    </div>\n",
              "  </div>\n",
              "  "
            ],
            "text/plain": [
              "     weight_of_words\n",
              "اكل 2.14577         \n",
              "جدا 2.19230         \n",
              "طعم 2.25152         \n",
              "سعر 2.33428         \n",
              "خدم 2.50910         \n",
              "لذذ 2.64550         \n",
              "جرب 2.68592         \n",
              "ريع 2.71706         \n",
              "فضل 2.73857         \n",
              "طلب 2.83405         \n",
              "نظف 2.97920         \n",
              "كان 2.99806         \n",
              "جيد 2.99882         \n",
              "قدم 3.04085         \n",
              "نسب 3.10063         "
            ]
          },
          "execution_count": 201,
          "metadata": {},
          "output_type": "execute_result"
        }
      ],
      "source": [
        "#the most occurrences words\n",
        "df_idf.sort_values(by=['weight_of_words']).head(15)"
      ]
    },
    {
      "cell_type": "code",
      "execution_count": null,
      "metadata": {
        "colab": {
          "base_uri": "https://localhost:8080/"
        },
        "id": "iO2aymWnaZ1F",
        "outputId": "1c1c4dda-e713-4a39-adf1-dda7bbcd8f5a"
      },
      "outputs": [
        {
          "data": {
            "text/html": [
              "\n",
              "  <div id=\"df-bf59b7ab-9ac2-435a-bc47-eff0a47efad4\">\n",
              "    <div class=\"colab-df-container\">\n",
              "      <div>\n",
              "<style scoped>\n",
              "    .dataframe tbody tr th:only-of-type {\n",
              "        vertical-align: middle;\n",
              "    }\n",
              "\n",
              "    .dataframe tbody tr th {\n",
              "        vertical-align: top;\n",
              "    }\n",
              "\n",
              "    .dataframe thead th {\n",
              "        text-align: right;\n",
              "    }\n",
              "</style>\n",
              "<table border=\"1\" class=\"dataframe\">\n",
              "  <thead>\n",
              "    <tr style=\"text-align: right;\">\n",
              "      <th></th>\n",
              "      <th>weight_of_words</th>\n",
              "    </tr>\n",
              "  </thead>\n",
              "  <tbody>\n",
              "    <tr>\n",
              "      <th>بيبسي1مويه</th>\n",
              "      <td>9.48498</td>\n",
              "    </tr>\n",
              "    <tr>\n",
              "      <th>فتي</th>\n",
              "      <td>9.48498</td>\n",
              "    </tr>\n",
              "    <tr>\n",
              "      <th>بيترتشوكلت</th>\n",
              "      <td>9.48498</td>\n",
              "    </tr>\n",
              "    <tr>\n",
              "      <th>بيتزاريفيك</th>\n",
              "      <td>9.48498</td>\n",
              "    </tr>\n",
              "    <tr>\n",
              "      <th>بيتزاوالثانيه</th>\n",
              "      <td>9.48498</td>\n",
              "    </tr>\n",
              "    <tr>\n",
              "      <th>فجم</th>\n",
              "      <td>9.48498</td>\n",
              "    </tr>\n",
              "    <tr>\n",
              "      <th>فجك</th>\n",
              "      <td>9.48498</td>\n",
              "    </tr>\n",
              "    <tr>\n",
              "      <th>بيث</th>\n",
              "      <td>9.48498</td>\n",
              "    </tr>\n",
              "    <tr>\n",
              "      <th>فجد</th>\n",
              "      <td>9.48498</td>\n",
              "    </tr>\n",
              "    <tr>\n",
              "      <th>بيجيبولك</th>\n",
              "      <td>9.48498</td>\n",
              "    </tr>\n",
              "    <tr>\n",
              "      <th>بيراميدز</th>\n",
              "      <td>9.48498</td>\n",
              "    </tr>\n",
              "    <tr>\n",
              "      <th>بيرثدايز</th>\n",
              "      <td>9.48498</td>\n",
              "    </tr>\n",
              "    <tr>\n",
              "      <th>فج</th>\n",
              "      <td>9.48498</td>\n",
              "    </tr>\n",
              "    <tr>\n",
              "      <th>فحت</th>\n",
              "      <td>9.48498</td>\n",
              "    </tr>\n",
              "    <tr>\n",
              "      <th>ﻳﻨﺎﺳﺐ</th>\n",
              "      <td>9.48498</td>\n",
              "    </tr>\n",
              "  </tbody>\n",
              "</table>\n",
              "</div>\n",
              "      <button class=\"colab-df-convert\" onclick=\"convertToInteractive('df-bf59b7ab-9ac2-435a-bc47-eff0a47efad4')\"\n",
              "              title=\"Convert this dataframe to an interactive table.\"\n",
              "              style=\"display:none;\">\n",
              "        \n",
              "  <svg xmlns=\"http://www.w3.org/2000/svg\" height=\"24px\"viewBox=\"0 0 24 24\"\n",
              "       width=\"24px\">\n",
              "    <path d=\"M0 0h24v24H0V0z\" fill=\"none\"/>\n",
              "    <path d=\"M18.56 5.44l.94 2.06.94-2.06 2.06-.94-2.06-.94-.94-2.06-.94 2.06-2.06.94zm-11 1L8.5 8.5l.94-2.06 2.06-.94-2.06-.94L8.5 2.5l-.94 2.06-2.06.94zm10 10l.94 2.06.94-2.06 2.06-.94-2.06-.94-.94-2.06-.94 2.06-2.06.94z\"/><path d=\"M17.41 7.96l-1.37-1.37c-.4-.4-.92-.59-1.43-.59-.52 0-1.04.2-1.43.59L10.3 9.45l-7.72 7.72c-.78.78-.78 2.05 0 2.83L4 21.41c.39.39.9.59 1.41.59.51 0 1.02-.2 1.41-.59l7.78-7.78 2.81-2.81c.8-.78.8-2.07 0-2.86zM5.41 20L4 18.59l7.72-7.72 1.47 1.35L5.41 20z\"/>\n",
              "  </svg>\n",
              "      </button>\n",
              "      \n",
              "  <style>\n",
              "    .colab-df-container {\n",
              "      display:flex;\n",
              "      flex-wrap:wrap;\n",
              "      gap: 12px;\n",
              "    }\n",
              "\n",
              "    .colab-df-convert {\n",
              "      background-color: #E8F0FE;\n",
              "      border: none;\n",
              "      border-radius: 50%;\n",
              "      cursor: pointer;\n",
              "      display: none;\n",
              "      fill: #1967D2;\n",
              "      height: 32px;\n",
              "      padding: 0 0 0 0;\n",
              "      width: 32px;\n",
              "    }\n",
              "\n",
              "    .colab-df-convert:hover {\n",
              "      background-color: #E2EBFA;\n",
              "      box-shadow: 0px 1px 2px rgba(60, 64, 67, 0.3), 0px 1px 3px 1px rgba(60, 64, 67, 0.15);\n",
              "      fill: #174EA6;\n",
              "    }\n",
              "\n",
              "    [theme=dark] .colab-df-convert {\n",
              "      background-color: #3B4455;\n",
              "      fill: #D2E3FC;\n",
              "    }\n",
              "\n",
              "    [theme=dark] .colab-df-convert:hover {\n",
              "      background-color: #434B5C;\n",
              "      box-shadow: 0px 1px 3px 1px rgba(0, 0, 0, 0.15);\n",
              "      filter: drop-shadow(0px 1px 2px rgba(0, 0, 0, 0.3));\n",
              "      fill: #FFFFFF;\n",
              "    }\n",
              "  </style>\n",
              "\n",
              "      <script>\n",
              "        const buttonEl =\n",
              "          document.querySelector('#df-bf59b7ab-9ac2-435a-bc47-eff0a47efad4 button.colab-df-convert');\n",
              "        buttonEl.style.display =\n",
              "          google.colab.kernel.accessAllowed ? 'block' : 'none';\n",
              "\n",
              "        async function convertToInteractive(key) {\n",
              "          const element = document.querySelector('#df-bf59b7ab-9ac2-435a-bc47-eff0a47efad4');\n",
              "          const dataTable =\n",
              "            await google.colab.kernel.invokeFunction('convertToInteractive',\n",
              "                                                     [key], {});\n",
              "          if (!dataTable) return;\n",
              "\n",
              "          const docLinkHtml = 'Like what you see? Visit the ' +\n",
              "            '<a target=\"_blank\" href=https://colab.research.google.com/notebooks/data_table.ipynb>data table notebook</a>'\n",
              "            + ' to learn more about interactive tables.';\n",
              "          element.innerHTML = '';\n",
              "          dataTable['output_type'] = 'display_data';\n",
              "          await google.colab.output.renderOutput(dataTable, element);\n",
              "          const docLink = document.createElement('div');\n",
              "          docLink.innerHTML = docLinkHtml;\n",
              "          element.appendChild(docLink);\n",
              "        }\n",
              "      </script>\n",
              "    </div>\n",
              "  </div>\n",
              "  "
            ],
            "text/plain": [
              "               weight_of_words\n",
              "بيبسي1مويه    9.48498         \n",
              "فتي           9.48498         \n",
              "بيترتشوكلت    9.48498         \n",
              "بيتزاريفيك    9.48498         \n",
              "بيتزاوالثانيه 9.48498         \n",
              "فجم           9.48498         \n",
              "فجك           9.48498         \n",
              "بيث           9.48498         \n",
              "فجد           9.48498         \n",
              "بيجيبولك      9.48498         \n",
              "بيراميدز      9.48498         \n",
              "بيرثدايز      9.48498         \n",
              "فج            9.48498         \n",
              "فحت           9.48498         \n",
              "ﻳﻨﺎﺳﺐ         9.48498         "
            ]
          },
          "execution_count": 202,
          "metadata": {},
          "output_type": "execute_result"
        }
      ],
      "source": [
        "#the least occurrences words\n",
        "df_idf.sort_values(by=['weight_of_words']).tail(15)"
      ]
    },
    {
      "cell_type": "markdown",
      "metadata": {
        "id": "VINsCLItd5Nu"
      },
      "source": [
        "*Predictive Analytics*‏\n"
      ]
    },
    {
      "cell_type": "code",
      "execution_count": null,
      "metadata": {
        "id": "p5AmTEGyoQCq"
      },
      "outputs": [],
      "source": [
        "# # change values to numeric\n",
        "# data_df['Sentiment'] = data_df['Sentiment'].map({'Positive ': 0, 'Negative ': 1}) "
      ]
    },
    {
      "cell_type": "code",
      "execution_count": null,
      "metadata": {
        "id": "8KfR-oejsEfc"
      },
      "outputs": [],
      "source": [
        " # drop all unnecessary columns \n",
        "data_df=data_df.drop(columns=['Text', 'text length' , 'tokens' , 'unCleaned tokens'])"
      ]
    },
    {
      "cell_type": "code",
      "execution_count": null,
      "metadata": {
        "id": "jFJPihy9oQCr"
      },
      "outputs": [],
      "source": [
        "# identify the data and the labels\n",
        "# the independent variable \n",
        "data= data_df['Clean Text'] #Stemming not clean text\n",
        "# the dependent variable \n",
        "target= data_df['Sentiment']"
      ]
    },
    {
      "cell_type": "code",
      "execution_count": null,
      "metadata": {
        "colab": {
          "base_uri": "https://localhost:8080/"
        },
        "id": "Q26R4fRRoQCs",
        "outputId": "8b5fa942-2dfd-409a-ba12-bf3a90e85c53"
      },
      "outputs": [
        {
          "data": {
            "text/plain": [
              "(9682, 11802)"
            ]
          },
          "execution_count": 206,
          "metadata": {},
          "output_type": "execute_result"
        }
      ],
      "source": [
        "# Use TfidfVectorizer for feature extraction (TFIDF to convert textual data to numeric form):\n",
        "tf_vec = TfidfVectorizer()\n",
        "X = tf_vec.fit_transform(data)\n",
        "X.shape"
      ]
    },
    {
      "cell_type": "code",
      "execution_count": null,
      "metadata": {
        "id": "infv8m6ooQCs"
      },
      "outputs": [],
      "source": [
        "# Training Phase\n",
        "X_train, X_test, y_train, y_test = train_test_split(X, target, test_size=0.30, random_state=0)"
      ]
    },
    {
      "cell_type": "code",
      "execution_count": null,
      "metadata": {
        "colab": {
          "base_uri": "https://localhost:8080/"
        },
        "id": "mPw2sJV-oQCu",
        "outputId": "ddf29f5a-f99d-46c3-cd29-0c566061092a"
      },
      "outputs": [
        {
          "name": "stdout",
          "output_type": "stream",
          "text": [
            "(6777, 11802) (2905, 11802) (6777,) (2905,)\n"
          ]
        }
      ],
      "source": [
        "print(X_train.shape,X_test.shape,y_train.shape,y_test.shape)"
      ]
    },
    {
      "cell_type": "markdown",
      "metadata": {
        "id": "rr5L00JACvnv"
      },
      "source": [
        "# Classifier 1: Naive Bayes"
      ]
    },
    {
      "cell_type": "code",
      "execution_count": null,
      "metadata": {
        "colab": {
          "base_uri": "https://localhost:8080/"
        },
        "id": "gXuoTf8V7GKL",
        "outputId": "f1110855-2bdd-47f8-c8d6-cb1c2dcd8b80"
      },
      "outputs": [
        {
          "name": "stderr",
          "output_type": "stream",
          "text": [
            "/usr/local/lib/python3.7/dist-packages/sklearn/utils/validation.py:598: FutureWarning: np.matrix usage is deprecated in 1.0 and will raise a TypeError in 1.2. Please convert to a numpy array with np.asarray. For more information see: https://numpy.org/doc/stable/reference/generated/numpy.matrix.html\n",
            "  FutureWarning,\n"
          ]
        },
        {
          "name": "stdout",
          "output_type": "stream",
          "text": [
            "MultinomialNB accuracy: 0.75\n"
          ]
        },
        {
          "name": "stderr",
          "output_type": "stream",
          "text": [
            "/usr/local/lib/python3.7/dist-packages/sklearn/utils/validation.py:598: FutureWarning: np.matrix usage is deprecated in 1.0 and will raise a TypeError in 1.2. Please convert to a numpy array with np.asarray. For more information see: https://numpy.org/doc/stable/reference/generated/numpy.matrix.html\n",
            "  FutureWarning,\n"
          ]
        }
      ],
      "source": [
        "# create the classifer and fit the training data and lables\n",
        "classifier_nb = MultinomialNB().fit(X_train.todense(),y_train)\n",
        "\n",
        "print(\"MultinomialNB accuracy: %.2f\"%classifier_nb.score(X_test.todense(), y_test))"
      ]
    },
    {
      "cell_type": "code",
      "execution_count": null,
      "metadata": {
        "colab": {
          "base_uri": "https://localhost:8080/"
        },
        "id": "gg7zNY-62eop",
        "outputId": "bcf2e657-5d80-4fcf-ac1c-a8e6f2fec92f"
      },
      "outputs": [
        {
          "name": "stderr",
          "output_type": "stream",
          "text": [
            "/usr/local/lib/python3.7/dist-packages/sklearn/utils/validation.py:598: FutureWarning: np.matrix usage is deprecated in 1.0 and will raise a TypeError in 1.2. Please convert to a numpy array with np.asarray. For more information see: https://numpy.org/doc/stable/reference/generated/numpy.matrix.html\n",
            "  FutureWarning,\n",
            "/usr/local/lib/python3.7/dist-packages/sklearn/utils/validation.py:598: FutureWarning: np.matrix usage is deprecated in 1.0 and will raise a TypeError in 1.2. Please convert to a numpy array with np.asarray. For more information see: https://numpy.org/doc/stable/reference/generated/numpy.matrix.html\n",
            "  FutureWarning,\n",
            "/usr/local/lib/python3.7/dist-packages/sklearn/utils/validation.py:598: FutureWarning: np.matrix usage is deprecated in 1.0 and will raise a TypeError in 1.2. Please convert to a numpy array with np.asarray. For more information see: https://numpy.org/doc/stable/reference/generated/numpy.matrix.html\n",
            "  FutureWarning,\n",
            "/usr/local/lib/python3.7/dist-packages/sklearn/utils/validation.py:598: FutureWarning: np.matrix usage is deprecated in 1.0 and will raise a TypeError in 1.2. Please convert to a numpy array with np.asarray. For more information see: https://numpy.org/doc/stable/reference/generated/numpy.matrix.html\n",
            "  FutureWarning,\n",
            "/usr/local/lib/python3.7/dist-packages/sklearn/utils/validation.py:598: FutureWarning: np.matrix usage is deprecated in 1.0 and will raise a TypeError in 1.2. Please convert to a numpy array with np.asarray. For more information see: https://numpy.org/doc/stable/reference/generated/numpy.matrix.html\n",
            "  FutureWarning,\n",
            "/usr/local/lib/python3.7/dist-packages/sklearn/utils/validation.py:598: FutureWarning: np.matrix usage is deprecated in 1.0 and will raise a TypeError in 1.2. Please convert to a numpy array with np.asarray. For more information see: https://numpy.org/doc/stable/reference/generated/numpy.matrix.html\n",
            "  FutureWarning,\n",
            "/usr/local/lib/python3.7/dist-packages/sklearn/utils/validation.py:598: FutureWarning: np.matrix usage is deprecated in 1.0 and will raise a TypeError in 1.2. Please convert to a numpy array with np.asarray. For more information see: https://numpy.org/doc/stable/reference/generated/numpy.matrix.html\n",
            "  FutureWarning,\n",
            "/usr/local/lib/python3.7/dist-packages/sklearn/utils/validation.py:598: FutureWarning: np.matrix usage is deprecated in 1.0 and will raise a TypeError in 1.2. Please convert to a numpy array with np.asarray. For more information see: https://numpy.org/doc/stable/reference/generated/numpy.matrix.html\n",
            "  FutureWarning,\n",
            "/usr/local/lib/python3.7/dist-packages/sklearn/utils/validation.py:598: FutureWarning: np.matrix usage is deprecated in 1.0 and will raise a TypeError in 1.2. Please convert to a numpy array with np.asarray. For more information see: https://numpy.org/doc/stable/reference/generated/numpy.matrix.html\n",
            "  FutureWarning,\n",
            "/usr/local/lib/python3.7/dist-packages/sklearn/utils/validation.py:598: FutureWarning: np.matrix usage is deprecated in 1.0 and will raise a TypeError in 1.2. Please convert to a numpy array with np.asarray. For more information see: https://numpy.org/doc/stable/reference/generated/numpy.matrix.html\n",
            "  FutureWarning,\n",
            "/usr/local/lib/python3.7/dist-packages/sklearn/utils/validation.py:598: FutureWarning: np.matrix usage is deprecated in 1.0 and will raise a TypeError in 1.2. Please convert to a numpy array with np.asarray. For more information see: https://numpy.org/doc/stable/reference/generated/numpy.matrix.html\n",
            "  FutureWarning,\n",
            "/usr/local/lib/python3.7/dist-packages/sklearn/utils/validation.py:598: FutureWarning: np.matrix usage is deprecated in 1.0 and will raise a TypeError in 1.2. Please convert to a numpy array with np.asarray. For more information see: https://numpy.org/doc/stable/reference/generated/numpy.matrix.html\n",
            "  FutureWarning,\n",
            "/usr/local/lib/python3.7/dist-packages/sklearn/utils/validation.py:598: FutureWarning: np.matrix usage is deprecated in 1.0 and will raise a TypeError in 1.2. Please convert to a numpy array with np.asarray. For more information see: https://numpy.org/doc/stable/reference/generated/numpy.matrix.html\n",
            "  FutureWarning,\n",
            "/usr/local/lib/python3.7/dist-packages/sklearn/utils/validation.py:598: FutureWarning: np.matrix usage is deprecated in 1.0 and will raise a TypeError in 1.2. Please convert to a numpy array with np.asarray. For more information see: https://numpy.org/doc/stable/reference/generated/numpy.matrix.html\n",
            "  FutureWarning,\n",
            "/usr/local/lib/python3.7/dist-packages/sklearn/utils/validation.py:598: FutureWarning: np.matrix usage is deprecated in 1.0 and will raise a TypeError in 1.2. Please convert to a numpy array with np.asarray. For more information see: https://numpy.org/doc/stable/reference/generated/numpy.matrix.html\n",
            "  FutureWarning,\n",
            "/usr/local/lib/python3.7/dist-packages/sklearn/utils/validation.py:598: FutureWarning: np.matrix usage is deprecated in 1.0 and will raise a TypeError in 1.2. Please convert to a numpy array with np.asarray. For more information see: https://numpy.org/doc/stable/reference/generated/numpy.matrix.html\n",
            "  FutureWarning,\n",
            "/usr/local/lib/python3.7/dist-packages/sklearn/utils/validation.py:598: FutureWarning: np.matrix usage is deprecated in 1.0 and will raise a TypeError in 1.2. Please convert to a numpy array with np.asarray. For more information see: https://numpy.org/doc/stable/reference/generated/numpy.matrix.html\n",
            "  FutureWarning,\n",
            "/usr/local/lib/python3.7/dist-packages/sklearn/utils/validation.py:598: FutureWarning: np.matrix usage is deprecated in 1.0 and will raise a TypeError in 1.2. Please convert to a numpy array with np.asarray. For more information see: https://numpy.org/doc/stable/reference/generated/numpy.matrix.html\n",
            "  FutureWarning,\n",
            "/usr/local/lib/python3.7/dist-packages/sklearn/utils/validation.py:598: FutureWarning: np.matrix usage is deprecated in 1.0 and will raise a TypeError in 1.2. Please convert to a numpy array with np.asarray. For more information see: https://numpy.org/doc/stable/reference/generated/numpy.matrix.html\n",
            "  FutureWarning,\n",
            "/usr/local/lib/python3.7/dist-packages/sklearn/utils/validation.py:598: FutureWarning: np.matrix usage is deprecated in 1.0 and will raise a TypeError in 1.2. Please convert to a numpy array with np.asarray. For more information see: https://numpy.org/doc/stable/reference/generated/numpy.matrix.html\n",
            "  FutureWarning,\n"
          ]
        }
      ],
      "source": [
        "#do a 10 fold cross-validation \n",
        "results_nb = cross_val_score(classifier_nb, X.todense(),target, cv=10)"
      ]
    },
    {
      "cell_type": "code",
      "execution_count": null,
      "metadata": {
        "colab": {
          "base_uri": "https://localhost:8080/"
        },
        "id": "2n_Wetwk7LBI",
        "outputId": "1d7d5d8b-b3f3-48a9-fe64-bcbfcdbdc3c3"
      },
      "outputs": [
        {
          "name": "stdout",
          "output_type": "stream",
          "text": [
            "\n",
            "10-fold cross-validation:\n",
            "[0.75438596 0.75232198 0.75516529 0.74896694 0.67975207 0.7696281\n",
            " 0.75929752 0.7572314  0.76342975 0.7696281 ]\n"
          ]
        }
      ],
      "source": [
        "\n",
        "print(\"\\n10-fold cross-validation:\")\n",
        "print(results_nb)"
      ]
    },
    {
      "cell_type": "code",
      "execution_count": null,
      "metadata": {
        "colab": {
          "base_uri": "https://localhost:8080/"
        },
        "id": "q81a62BT7XGC",
        "outputId": "d67e988a-f9ef-4005-ed60-ccece5daffb9"
      },
      "outputs": [
        {
          "name": "stdout",
          "output_type": "stream",
          "text": [
            "The average accuracy of the MultinomialNB classifier is : 0.75\n"
          ]
        }
      ],
      "source": [
        "#calcuate the avrage accuracy\n",
        "print(\"The average accuracy of the MultinomialNB classifier is : %.2f\" % np.mean(results_nb))"
      ]
    },
    {
      "cell_type": "code",
      "execution_count": null,
      "metadata": {
        "colab": {
          "base_uri": "https://localhost:8080/"
        },
        "id": "oVAPnn-h7iWT",
        "outputId": "f7326e0c-6963-4668-d139-9268fb3e6731"
      },
      "outputs": [
        {
          "name": "stderr",
          "output_type": "stream",
          "text": [
            "/usr/local/lib/python3.7/dist-packages/sklearn/utils/validation.py:598: FutureWarning: np.matrix usage is deprecated in 1.0 and will raise a TypeError in 1.2. Please convert to a numpy array with np.asarray. For more information see: https://numpy.org/doc/stable/reference/generated/numpy.matrix.html\n",
            "  FutureWarning,\n"
          ]
        },
        {
          "name": "stdout",
          "output_type": "stream",
          "text": [
            "\n",
            "Confusion matrix of the MultinomialNB classifier:\n",
            "[[2117   13]\n",
            " [ 721   54]]\n"
          ]
        }
      ],
      "source": [
        "#print confusion matrix\n",
        "print(\"\\nConfusion matrix of the MultinomialNB classifier:\")\n",
        "predicted_nb = classifier_nb.predict(X_test.todense())\n",
        "print(confusion_matrix(y_test,predicted_nb))"
      ]
    },
    {
      "cell_type": "code",
      "execution_count": null,
      "metadata": {
        "colab": {
          "base_uri": "https://localhost:8080/"
        },
        "id": "BgMCeav5r71J",
        "outputId": "381f1ca2-afe0-41f1-c784-554c60c0d7b1"
      },
      "outputs": [
        {
          "data": {
            "image/png": "[encoded data removed]",
            "text/plain": [
              "<Figure size 432x288 with 2 Axes>"
            ]
          },
          "metadata": {},
          "output_type": "display_data"
        }
      ],
      "source": [
        "    from sklearn.metrics import classification_report, fbeta_score, accuracy_score, confusion_matrix, plot_roc_curve, ConfusionMatrixDisplay, make_scorer\n",
        "\n",
        "    display = ConfusionMatrixDisplay.from_estimator(classifier_nb, X_test, y_test, display_labels=['negative', 'positive'], cmap=plt.cm.Blues)\n",
        "    display.ax_.set_title('Confusion Matrix Display')\n",
        "    plt.show()"
      ]
    },
    {
      "cell_type": "code",
      "execution_count": null,
      "metadata": {
        "colab": {
          "base_uri": "https://localhost:8080/"
        },
        "id": "ipISSdl2C40K",
        "outputId": "991293e9-bdff-4db4-a4a7-b9a47448e989"
      },
      "outputs": [
        {
          "name": "stdout",
          "output_type": "stream",
          "text": [
            "\n",
            "Classification_report of MultinomialNB classifier:\n",
            "              precision    recall  f1-score   support\n",
            "\n",
            "         0.0       0.75      0.99      0.85      2130\n",
            "         1.0       0.81      0.07      0.13       775\n",
            "\n",
            "    accuracy                           0.75      2905\n",
            "   macro avg       0.78      0.53      0.49      2905\n",
            "weighted avg       0.76      0.75      0.66      2905\n",
            "\n",
            "----------------------------------------------------------------------------\n"
          ]
        }
      ],
      "source": [
        "#print Classification report\n",
        "print(\"\\nClassification_report of MultinomialNB classifier:\")\n",
        "print(classification_report(y_test,predicted_nb))\n",
        "print(\"----------------------------------------------------------------------------\")"
      ]
    },
    {
      "cell_type": "code",
      "execution_count": null,
      "metadata": {
        "id": "hgAz3nRu80jT"
      },
      "outputs": [],
      "source": [
        "# calculate the fpr and tpr for all thresholds of the classification\n",
        "\n",
        "probs = classifier_nb.predict_proba(X_test)\n",
        "preds = probs[:,1]\n",
        "\n",
        "fpr, tpr, threshold = metrics.roc_curve(y_test, preds)\n",
        "roc_auc = metrics.auc(fpr, tpr)"
      ]
    },
    {
      "cell_type": "code",
      "execution_count": null,
      "metadata": {
        "colab": {
          "base_uri": "https://localhost:8080/"
        },
        "id": "0lPCfTGH844L",
        "outputId": "ac70a6f0-5270-4157-f1db-69d561b43941"
      },
      "outputs": [
        {
          "data": {
            "image/png": "[encoded data removed]",
            "text/plain": [
              "<Figure size 432x288 with 1 Axes>"
            ]
          },
          "metadata": {},
          "output_type": "display_data"
        }
      ],
      "source": [
        "# polt AUC\n",
        "plt.title('Receiver Operating Characteristic for Naive Bayes classifier')\n",
        "plt.plot(fpr, tpr, 'b', label = 'AUC = %0.2f' % roc_auc)\n",
        "plt.legend(loc = 'lower right')\n",
        "plt.plot([0, 1], [0, 1],'r--')\n",
        "plt.xlim([0, 1])\n",
        "plt.ylim([0, 1])\n",
        "plt.ylabel('True Positive Rate')\n",
        "plt.xlabel('False Positive Rate')\n",
        "plt.show()"
      ]
    },
    {
      "cell_type": "markdown",
      "metadata": {
        "id": "r1-EUBDzoQCv"
      },
      "source": [
        "# Classifier 2: SVM\n",
        "\n",
        "\n",
        "\n",
        "\n"
      ]
    },
    {
      "cell_type": "code",
      "execution_count": null,
      "metadata": {
        "colab": {
          "base_uri": "https://localhost:8080/"
        },
        "id": "T0BswQU3Eml1",
        "outputId": "dfd18da2-afc4-4304-d064-6813178a134a"
      },
      "outputs": [
        {
          "name": "stdout",
          "output_type": "stream",
          "text": [
            "SVM accuracy: 0.84\n"
          ]
        }
      ],
      "source": [
        "# create the classifer and fit the training data and lables\n",
        "classifier_svm = svm.SVC(kernel='linear', C=1, probability=True).fit(X_train,y_train)\n",
        "\n",
        "print(\"SVM accuracy: %.2f\"%classifier_svm.score(X_test, y_test))"
      ]
    },
    {
      "cell_type": "code",
      "execution_count": null,
      "metadata": {
        "colab": {
          "base_uri": "https://localhost:8080/"
        },
        "id": "uA8T6v9oEmaF",
        "outputId": "5274d166-50ed-46f2-9e0a-93f7058eab69"
      },
      "outputs": [
        {
          "name": "stdout",
          "output_type": "stream",
          "text": [
            "\n",
            "10-fold cross-validation:\n",
            "[0.89267286 0.88957688 0.82024793 0.73966942 0.58057851 0.86673554\n",
            " 0.88016529 0.87396694 0.86157025 0.8822314 ]\n"
          ]
        }
      ],
      "source": [
        "#do a 10 fold cross-validation \n",
        "results_svm = cross_val_score(classifier_svm, X,target, cv=10)\n",
        "print(\"\\n10-fold cross-validation:\")\n",
        "print(results_svm)"
      ]
    },
    {
      "cell_type": "code",
      "execution_count": null,
      "metadata": {
        "colab": {
          "base_uri": "https://localhost:8080/"
        },
        "id": "irRobBNqEmRl",
        "outputId": "14963bbc-1a47-4548-e3f5-1bc6d05bfb9c"
      },
      "outputs": [
        {
          "name": "stdout",
          "output_type": "stream",
          "text": [
            "The average accuracy of the SVM classifier is : 0.83\n"
          ]
        }
      ],
      "source": [
        "print(\"The average accuracy of the SVM classifier is : %.2f\" % np.mean(results_svm))"
      ]
    },
    {
      "cell_type": "code",
      "execution_count": null,
      "metadata": {
        "colab": {
          "base_uri": "https://localhost:8080/"
        },
        "id": "Z97t1JP1EmE1",
        "outputId": "5038fb16-bfc6-4290-b4c1-658a63d20d8f"
      },
      "outputs": [
        {
          "name": "stdout",
          "output_type": "stream",
          "text": [
            "\n",
            "Confusion matrix of the SVM classifier:\n",
            "[[1989  141]\n",
            " [ 337  438]]\n"
          ]
        }
      ],
      "source": [
        "print(\"\\nConfusion matrix of the SVM classifier:\")\n",
        "predicted_svm = classifier_svm.predict(X_test)\n",
        "print(confusion_matrix(y_test,predicted_svm))"
      ]
    },
    {
      "cell_type": "code",
      "execution_count": null,
      "metadata": {
        "colab": {
          "base_uri": "https://localhost:8080/"
        },
        "id": "hY7xf9JGElj0",
        "outputId": "5f884e6d-4875-43ac-b45f-fdd7964e4981"
      },
      "outputs": [
        {
          "name": "stdout",
          "output_type": "stream",
          "text": [
            "\n",
            "Classification_report of SVM classifier:\n",
            "              precision    recall  f1-score   support\n",
            "\n",
            "         0.0       0.86      0.93      0.89      2130\n",
            "         1.0       0.76      0.57      0.65       775\n",
            "\n",
            "    accuracy                           0.84      2905\n",
            "   macro avg       0.81      0.75      0.77      2905\n",
            "weighted avg       0.83      0.84      0.83      2905\n",
            "\n"
          ]
        }
      ],
      "source": [
        "print(\"\\nClassification_report of SVM classifier:\")\n",
        "print(classification_report(y_test,predicted_svm))"
      ]
    },
    {
      "cell_type": "code",
      "execution_count": null,
      "metadata": {
        "id": "pojQMQgMzG5c"
      },
      "outputs": [],
      "source": [
        " # classifier = ConfusionMatrixDisplay.from_estimator(classifier_svm, X_test, y_test, display_labels=['negative', 'positive'], cmap=plt.cm.Blues)\n",
        "    # plt.show()"
      ]
    },
    {
      "cell_type": "code",
      "execution_count": null,
      "metadata": {
        "id": "D5q-Pj1noQCx"
      },
      "outputs": [],
      "source": [
        "# calculate the fpr and tpr for all thresholds of the classification\n",
        "probs = classifier_svm.predict_proba(X_test)\n",
        "preds = probs[:,1]\n",
        "\n",
        "fpr, tpr, threshold = metrics.roc_curve(y_test, preds)\n",
        "roc_auc = metrics.auc(fpr, tpr)"
      ]
    },
    {
      "cell_type": "code",
      "execution_count": null,
      "metadata": {
        "colab": {
          "base_uri": "https://localhost:8080/"
        },
        "id": "lBOGalTNoQCy",
        "outputId": "be68e547-19f7-4a95-eca6-099f99f84e8e"
      },
      "outputs": [
        {
          "data": {
            "image/png": "[encoded data removed]",
            "text/plain": [
              "<Figure size 432x288 with 1 Axes>"
            ]
          },
          "metadata": {},
          "output_type": "display_data"
        }
      ],
      "source": [
        "# polt the AUC\n",
        "plt.title('Receiver Operating Characteristic SVM classifier')\n",
        "plt.plot(fpr, tpr, 'b', label = 'AUC = %0.2f' % roc_auc)\n",
        "plt.legend(loc = 'lower right')\n",
        "plt.plot([0, 1], [0, 1],'r--')\n",
        "plt.xlim([0, 1])\n",
        "plt.ylim([0, 1])\n",
        "plt.ylabel('True Positive Rate')\n",
        "plt.xlabel('False Positive Rate')\n",
        "plt.show()"
      ]
    },
    {
      "cell_type": "markdown",
      "metadata": {
        "id": "mM5fGr-Bi44a"
      },
      "source": [
        "# **Balancing the dataframe**"
      ]
    },
    {
      "cell_type": "code",
      "execution_count": null,
      "metadata": {
        "colab": {
          "base_uri": "https://localhost:8080/"
        },
        "id": "33mm3GzM3YRc",
        "outputId": "a38a5a74-d2c3-42d0-963a-0c584767fff7"
      },
      "outputs": [
        {
          "data": {
            "text/plain": [
              "0.00000    7097\n",
              "1.00000    2585\n",
              "Name: Sentiment, dtype: int64"
            ]
          },
          "execution_count": 226,
          "metadata": {},
          "output_type": "execute_result"
        }
      ],
      "source": [
        "data_df['Sentiment'].value_counts()"
      ]
    },
    {
      "cell_type": "code",
      "execution_count": null,
      "metadata": {
        "id": "GnjZ8plbiZP-"
      },
      "outputs": [],
      "source": [
        "#number of positive\n",
        "max_class = len(data_df[data_df['Sentiment']==0]) \n",
        "#number of negative\n",
        "min_class = len(data_df[data_df['Sentiment']==1]) "
      ]
    },
    {
      "cell_type": "code",
      "execution_count": null,
      "metadata": {
        "id": "5MKcADQ8imuR"
      },
      "outputs": [],
      "source": [
        "positiveRet = data_df[data_df['Sentiment']==0].sample(n = max_class)\n",
        "negativeRet = data_df[data_df['Sentiment']==1].sample(n = min_class)\n",
        "balancedData = positiveRet.append(negativeRet)\n",
        "\n",
        "remain = max_class \n",
        "remain = remain - min_class"
      ]
    },
    {
      "cell_type": "code",
      "execution_count": null,
      "metadata": {
        "id": "erjSeJJFitpw"
      },
      "outputs": [],
      "source": [
        "#duplicate the negative\n",
        "while remain > 0:\n",
        "  if remain <=  min_class:\n",
        "    negativeRet = data_df[data_df['Sentiment']==1].sample(n = remain)\n",
        "  else:\n",
        "    negativeRet = data_df[data_df['Sentiment']==1].sample(n = min_class)\n",
        "  remain = remain - min_class\n",
        "  balancedData = balancedData.append(negativeRet)"
      ]
    },
    {
      "cell_type": "code",
      "execution_count": null,
      "metadata": {
        "id": "pK5CDSIeiwUn"
      },
      "outputs": [],
      "source": [
        "balancedData = balancedData.sample(frac=1).reset_index(drop=True)"
      ]
    },
    {
      "cell_type": "code",
      "execution_count": null,
      "metadata": {
        "colab": {
          "base_uri": "https://localhost:8080/"
        },
        "id": "eGDRp_Dl3m13",
        "outputId": "696875f5-f01b-409e-99d2-36e6f705a0d8"
      },
      "outputs": [
        {
          "data": {
            "text/plain": [
              "0.00000    7097\n",
              "1.00000    7097\n",
              "Name: Sentiment, dtype: int64"
            ]
          },
          "execution_count": 231,
          "metadata": {},
          "output_type": "execute_result"
        }
      ],
      "source": [
        "balancedData['Sentiment'].value_counts()"
      ]
    },
    {
      "cell_type": "code",
      "execution_count": null,
      "metadata": {
        "colab": {
          "base_uri": "https://localhost:8080/"
        },
        "id": "RkeVvtn33sPx",
        "outputId": "ade75574-436c-49ab-effa-4995c1f6b8bb"
      },
      "outputs": [
        {
          "name": "stdout",
          "output_type": "stream",
          "text": [
            "<class 'pandas.core.frame.DataFrame'>\n",
            "RangeIndex: 14194 entries, 0 to 14193\n",
            "Data columns (total 2 columns):\n",
            " #   Column      Non-Null Count  Dtype  \n",
            "---  ------      --------------  -----  \n",
            " 0   Sentiment   14194 non-null  float64\n",
            " 1   Clean Text  14194 non-null  object \n",
            "dtypes: float64(1), object(1)\n",
            "memory usage: 221.9+ KB\n"
          ]
        }
      ],
      "source": [
        "balancedData.info(verbose=True)"
      ]
    },
    {
      "cell_type": "code",
      "execution_count": null,
      "metadata": {
        "colab": {
          "base_uri": "https://localhost:8080/"
        },
        "id": "anpWDFwP3vce",
        "outputId": "9f5cd0f8-0123-4a64-e0a5-38fa0991f6d7"
      },
      "outputs": [
        {
          "data": {
            "text/plain": [
              "(14194, 11802)"
            ]
          },
          "execution_count": 233,
          "metadata": {},
          "output_type": "execute_result"
        }
      ],
      "source": [
        "#for instantiate CountVectorizer()\n",
        "BcountVec= CountVectorizer()\n",
        "#for the result word counts for the words\n",
        "Bword_count_vector=countVec.fit_transform(balancedData[\"Clean Text\"].values.astype('U')) # Stemming not clean text\n",
        "Bword_count_vector.shape"
      ]
    },
    {
      "cell_type": "code",
      "execution_count": null,
      "metadata": {
        "colab": {
          "base_uri": "https://localhost:8080/"
        },
        "id": "QsgPRsnL3xoD",
        "outputId": "870e9bfb-dd31-4f4f-d72a-bd1b2f884151"
      },
      "outputs": [
        {
          "data": {
            "text/plain": [
              "TfidfTransformer()"
            ]
          },
          "execution_count": 234,
          "metadata": {},
          "output_type": "execute_result"
        }
      ],
      "source": [
        "#Transform a count matrix to a normalized tf-idf \n",
        "Btfidf_transformer=TfidfTransformer(smooth_idf=True,use_idf=True)\n",
        "#this for the idf values\n",
        "Btfidf_transformer.fit(Bword_count_vector)"
      ]
    },
    {
      "cell_type": "code",
      "execution_count": null,
      "metadata": {
        "id": "cJv8xEIP3zqv"
      },
      "outputs": [],
      "source": [
        "# identify the data and the labels\n",
        "# the independent variable \n",
        "Bdata= balancedData['Clean Text'] \n",
        "# the dependent variable \n",
        "Btarget= balancedData['Sentiment']"
      ]
    },
    {
      "cell_type": "code",
      "execution_count": null,
      "metadata": {
        "colab": {
          "base_uri": "https://localhost:8080/"
        },
        "id": "caWovNpi31Y4",
        "outputId": "84ba536f-390b-41e1-b47b-4b23057fe729"
      },
      "outputs": [
        {
          "data": {
            "text/plain": [
              "(14194, 11802)"
            ]
          },
          "execution_count": 236,
          "metadata": {},
          "output_type": "execute_result"
        }
      ],
      "source": [
        "# Use TfidfVectorizer for feature extraction (TFIDF to convert textual data to numeric form):\n",
        "Btf_vec = TfidfVectorizer()\n",
        "X = Btf_vec.fit_transform(Bdata)\n",
        "X.shape"
      ]
    },
    {
      "cell_type": "code",
      "execution_count": null,
      "metadata": {
        "id": "LtqLEsdU33V-"
      },
      "outputs": [],
      "source": [
        "# Training Phase\n",
        "X_train, X_test, y_train, y_test = train_test_split(X, Btarget, test_size=0.30, random_state=0)"
      ]
    },
    {
      "cell_type": "code",
      "execution_count": null,
      "metadata": {
        "colab": {
          "base_uri": "https://localhost:8080/"
        },
        "id": "bfVZemus35dm",
        "outputId": "eb1fe692-8363-422e-efe8-b230da57291b"
      },
      "outputs": [
        {
          "name": "stdout",
          "output_type": "stream",
          "text": [
            "(9935, 11802) (4259, 11802) (9935,) (4259,)\n"
          ]
        }
      ],
      "source": [
        "print(X_train.shape,X_test.shape,y_train.shape,y_test.shape)"
      ]
    },
    {
      "cell_type": "markdown",
      "metadata": {
        "id": "b5Iwh66F8lsC"
      },
      "source": [
        "# Balanced NB"
      ]
    },
    {
      "cell_type": "code",
      "execution_count": null,
      "metadata": {
        "colab": {
          "base_uri": "https://localhost:8080/"
        },
        "id": "l4W1YrTz3_Ff",
        "outputId": "25487c36-407d-4c98-fbf8-34df39f53037"
      },
      "outputs": [
        {
          "name": "stderr",
          "output_type": "stream",
          "text": [
            "/usr/local/lib/python3.7/dist-packages/sklearn/utils/validation.py:598: FutureWarning: np.matrix usage is deprecated in 1.0 and will raise a TypeError in 1.2. Please convert to a numpy array with np.asarray. For more information see: https://numpy.org/doc/stable/reference/generated/numpy.matrix.html\n",
            "  FutureWarning,\n"
          ]
        }
      ],
      "source": [
        "# create the classifer and fit the training data and lables\n",
        "Bclassifier_nb = MultinomialNB().fit(X_train.todense(),y_train)"
      ]
    },
    {
      "cell_type": "code",
      "execution_count": null,
      "metadata": {
        "colab": {
          "base_uri": "https://localhost:8080/"
        },
        "id": "If_rEL1y37fy",
        "outputId": "c3d7e95c-c939-422c-896f-5e3be73f9229"
      },
      "outputs": [
        {
          "name": "stdout",
          "output_type": "stream",
          "text": [
            " Balanced MultinomialNB accuracy: 0.82\n"
          ]
        },
        {
          "name": "stderr",
          "output_type": "stream",
          "text": [
            "/usr/local/lib/python3.7/dist-packages/sklearn/utils/validation.py:598: FutureWarning: np.matrix usage is deprecated in 1.0 and will raise a TypeError in 1.2. Please convert to a numpy array with np.asarray. For more information see: https://numpy.org/doc/stable/reference/generated/numpy.matrix.html\n",
            "  FutureWarning,\n"
          ]
        }
      ],
      "source": [
        "print(\" Balanced MultinomialNB accuracy: %.2f\"%Bclassifier_nb.score(X_test.todense(), y_test))"
      ]
    },
    {
      "cell_type": "code",
      "execution_count": null,
      "metadata": {
        "colab": {
          "base_uri": "https://localhost:8080/"
        },
        "id": "RC0c3vYr4Frp",
        "outputId": "6cd41219-4038-4c14-f12b-ff30804b0bbf"
      },
      "outputs": [
        {
          "name": "stderr",
          "output_type": "stream",
          "text": [
            "/usr/local/lib/python3.7/dist-packages/sklearn/utils/validation.py:598: FutureWarning: np.matrix usage is deprecated in 1.0 and will raise a TypeError in 1.2. Please convert to a numpy array with np.asarray. For more information see: https://numpy.org/doc/stable/reference/generated/numpy.matrix.html\n",
            "  FutureWarning,\n",
            "/usr/local/lib/python3.7/dist-packages/sklearn/utils/validation.py:598: FutureWarning: np.matrix usage is deprecated in 1.0 and will raise a TypeError in 1.2. Please convert to a numpy array with np.asarray. For more information see: https://numpy.org/doc/stable/reference/generated/numpy.matrix.html\n",
            "  FutureWarning,\n",
            "/usr/local/lib/python3.7/dist-packages/sklearn/utils/validation.py:598: FutureWarning: np.matrix usage is deprecated in 1.0 and will raise a TypeError in 1.2. Please convert to a numpy array with np.asarray. For more information see: https://numpy.org/doc/stable/reference/generated/numpy.matrix.html\n",
            "  FutureWarning,\n",
            "/usr/local/lib/python3.7/dist-packages/sklearn/utils/validation.py:598: FutureWarning: np.matrix usage is deprecated in 1.0 and will raise a TypeError in 1.2. Please convert to a numpy array with np.asarray. For more information see: https://numpy.org/doc/stable/reference/generated/numpy.matrix.html\n",
            "  FutureWarning,\n",
            "/usr/local/lib/python3.7/dist-packages/sklearn/utils/validation.py:598: FutureWarning: np.matrix usage is deprecated in 1.0 and will raise a TypeError in 1.2. Please convert to a numpy array with np.asarray. For more information see: https://numpy.org/doc/stable/reference/generated/numpy.matrix.html\n",
            "  FutureWarning,\n",
            "/usr/local/lib/python3.7/dist-packages/sklearn/utils/validation.py:598: FutureWarning: np.matrix usage is deprecated in 1.0 and will raise a TypeError in 1.2. Please convert to a numpy array with np.asarray. For more information see: https://numpy.org/doc/stable/reference/generated/numpy.matrix.html\n",
            "  FutureWarning,\n",
            "/usr/local/lib/python3.7/dist-packages/sklearn/utils/validation.py:598: FutureWarning: np.matrix usage is deprecated in 1.0 and will raise a TypeError in 1.2. Please convert to a numpy array with np.asarray. For more information see: https://numpy.org/doc/stable/reference/generated/numpy.matrix.html\n",
            "  FutureWarning,\n",
            "/usr/local/lib/python3.7/dist-packages/sklearn/utils/validation.py:598: FutureWarning: np.matrix usage is deprecated in 1.0 and will raise a TypeError in 1.2. Please convert to a numpy array with np.asarray. For more information see: https://numpy.org/doc/stable/reference/generated/numpy.matrix.html\n",
            "  FutureWarning,\n",
            "/usr/local/lib/python3.7/dist-packages/sklearn/utils/validation.py:598: FutureWarning: np.matrix usage is deprecated in 1.0 and will raise a TypeError in 1.2. Please convert to a numpy array with np.asarray. For more information see: https://numpy.org/doc/stable/reference/generated/numpy.matrix.html\n",
            "  FutureWarning,\n",
            "/usr/local/lib/python3.7/dist-packages/sklearn/utils/validation.py:598: FutureWarning: np.matrix usage is deprecated in 1.0 and will raise a TypeError in 1.2. Please convert to a numpy array with np.asarray. For more information see: https://numpy.org/doc/stable/reference/generated/numpy.matrix.html\n",
            "  FutureWarning,\n",
            "/usr/local/lib/python3.7/dist-packages/sklearn/utils/validation.py:598: FutureWarning: np.matrix usage is deprecated in 1.0 and will raise a TypeError in 1.2. Please convert to a numpy array with np.asarray. For more information see: https://numpy.org/doc/stable/reference/generated/numpy.matrix.html\n",
            "  FutureWarning,\n",
            "/usr/local/lib/python3.7/dist-packages/sklearn/utils/validation.py:598: FutureWarning: np.matrix usage is deprecated in 1.0 and will raise a TypeError in 1.2. Please convert to a numpy array with np.asarray. For more information see: https://numpy.org/doc/stable/reference/generated/numpy.matrix.html\n",
            "  FutureWarning,\n",
            "/usr/local/lib/python3.7/dist-packages/sklearn/utils/validation.py:598: FutureWarning: np.matrix usage is deprecated in 1.0 and will raise a TypeError in 1.2. Please convert to a numpy array with np.asarray. For more information see: https://numpy.org/doc/stable/reference/generated/numpy.matrix.html\n",
            "  FutureWarning,\n",
            "/usr/local/lib/python3.7/dist-packages/sklearn/utils/validation.py:598: FutureWarning: np.matrix usage is deprecated in 1.0 and will raise a TypeError in 1.2. Please convert to a numpy array with np.asarray. For more information see: https://numpy.org/doc/stable/reference/generated/numpy.matrix.html\n",
            "  FutureWarning,\n",
            "/usr/local/lib/python3.7/dist-packages/sklearn/utils/validation.py:598: FutureWarning: np.matrix usage is deprecated in 1.0 and will raise a TypeError in 1.2. Please convert to a numpy array with np.asarray. For more information see: https://numpy.org/doc/stable/reference/generated/numpy.matrix.html\n",
            "  FutureWarning,\n",
            "/usr/local/lib/python3.7/dist-packages/sklearn/utils/validation.py:598: FutureWarning: np.matrix usage is deprecated in 1.0 and will raise a TypeError in 1.2. Please convert to a numpy array with np.asarray. For more information see: https://numpy.org/doc/stable/reference/generated/numpy.matrix.html\n",
            "  FutureWarning,\n",
            "/usr/local/lib/python3.7/dist-packages/sklearn/utils/validation.py:598: FutureWarning: np.matrix usage is deprecated in 1.0 and will raise a TypeError in 1.2. Please convert to a numpy array with np.asarray. For more information see: https://numpy.org/doc/stable/reference/generated/numpy.matrix.html\n",
            "  FutureWarning,\n",
            "/usr/local/lib/python3.7/dist-packages/sklearn/utils/validation.py:598: FutureWarning: np.matrix usage is deprecated in 1.0 and will raise a TypeError in 1.2. Please convert to a numpy array with np.asarray. For more information see: https://numpy.org/doc/stable/reference/generated/numpy.matrix.html\n",
            "  FutureWarning,\n",
            "/usr/local/lib/python3.7/dist-packages/sklearn/utils/validation.py:598: FutureWarning: np.matrix usage is deprecated in 1.0 and will raise a TypeError in 1.2. Please convert to a numpy array with np.asarray. For more information see: https://numpy.org/doc/stable/reference/generated/numpy.matrix.html\n",
            "  FutureWarning,\n"
          ]
        },
        {
          "name": "stdout",
          "output_type": "stream",
          "text": [
            "\n",
            " Balanced 10-fold cross-validation:\n",
            "[0.83732394 0.84295775 0.82112676 0.81901408 0.84002819 0.85553206\n",
            " 0.85835095 0.83368569 0.82804792 0.84848485]\n",
            "The average accuracy of the Balanced MultinomialNB classifier is : 0.84\n"
          ]
        },
        {
          "name": "stderr",
          "output_type": "stream",
          "text": [
            "/usr/local/lib/python3.7/dist-packages/sklearn/utils/validation.py:598: FutureWarning: np.matrix usage is deprecated in 1.0 and will raise a TypeError in 1.2. Please convert to a numpy array with np.asarray. For more information see: https://numpy.org/doc/stable/reference/generated/numpy.matrix.html\n",
            "  FutureWarning,\n"
          ]
        }
      ],
      "source": [
        "#do a 10 fold cross-validation \n",
        "Bresults_nb = cross_val_score(Bclassifier_nb, X.todense(),Btarget, cv=10)\n",
        "print(\"\\n Balanced 10-fold cross-validation:\")\n",
        "print(Bresults_nb)\n",
        "#calcuate the avrage accuracy\n",
        "print(\"The average accuracy of the Balanced MultinomialNB classifier is : %.2f\" % np.mean(Bresults_nb))"
      ]
    },
    {
      "cell_type": "code",
      "execution_count": null,
      "metadata": {
        "colab": {
          "base_uri": "https://localhost:8080/"
        },
        "id": "0g61VvM15rl4",
        "outputId": "5407a165-5120-49d2-8fc7-1c933e53a56a"
      },
      "outputs": [
        {
          "name": "stderr",
          "output_type": "stream",
          "text": [
            "/usr/local/lib/python3.7/dist-packages/sklearn/utils/validation.py:598: FutureWarning: np.matrix usage is deprecated in 1.0 and will raise a TypeError in 1.2. Please convert to a numpy array with np.asarray. For more information see: https://numpy.org/doc/stable/reference/generated/numpy.matrix.html\n",
            "  FutureWarning,\n"
          ]
        }
      ],
      "source": [
        "Bpredicted_nb = Bclassifier_nb.predict(X_test.todense())"
      ]
    },
    {
      "cell_type": "code",
      "execution_count": null,
      "metadata": {
        "colab": {
          "base_uri": "https://localhost:8080/"
        },
        "id": "LKrINUh-4JsJ",
        "outputId": "4231cfd2-7b59-4954-834f-83cb6a430f7c"
      },
      "outputs": [
        {
          "name": "stdout",
          "output_type": "stream",
          "text": [
            "\n",
            "Confusion matrix of the Balanced MultinomialNB classifier:\n",
            "[[1718  389]\n",
            " [ 358 1794]]\n"
          ]
        }
      ],
      "source": [
        "#print confusion matrix\n",
        "print(\"\\nConfusion matrix of the Balanced MultinomialNB classifier:\")\n",
        "print(confusion_matrix(y_test,Bpredicted_nb))"
      ]
    },
    {
      "cell_type": "code",
      "execution_count": null,
      "metadata": {
        "colab": {
          "base_uri": "https://localhost:8080/"
        },
        "id": "iRnRTxgp4Ljg",
        "outputId": "476ff71a-e471-4830-9ff4-42a798c65a55"
      },
      "outputs": [
        {
          "name": "stdout",
          "output_type": "stream",
          "text": [
            "\n",
            "Classification_report of Balanced MultinomialNB classifier:\n",
            "              precision    recall  f1-score   support\n",
            "\n",
            "         0.0       0.83      0.82      0.82      2107\n",
            "         1.0       0.82      0.83      0.83      2152\n",
            "\n",
            "    accuracy                           0.82      4259\n",
            "   macro avg       0.82      0.82      0.82      4259\n",
            "weighted avg       0.82      0.82      0.82      4259\n",
            "\n",
            "----------------------------------------------------------------------------\n"
          ]
        }
      ],
      "source": [
        "#print Classification report\n",
        "print(\"\\nClassification_report of Balanced MultinomialNB classifier:\")\n",
        "print(classification_report(y_test,Bpredicted_nb))\n",
        "print(\"----------------------------------------------------------------------------\")"
      ]
    },
    {
      "cell_type": "code",
      "execution_count": null,
      "metadata": {
        "id": "U5oAKMOz4NhQ"
      },
      "outputs": [],
      "source": [
        "# calculate the fpr and tpr for all thresholds of the classification\n",
        "\n",
        "Bprobs = Bclassifier_nb.predict_proba(X_test)\n",
        "Bpreds = Bprobs[:,1]\n",
        "\n",
        "fpr, tpr, threshold = metrics.roc_curve(y_test, Bpreds)\n",
        "Broc_auc = metrics.auc(fpr, tpr)"
      ]
    },
    {
      "cell_type": "code",
      "execution_count": null,
      "metadata": {
        "colab": {
          "base_uri": "https://localhost:8080/",
          "height": 295
        },
        "id": "OMMVA70-4PNP",
        "outputId": "d827543a-5a94-492c-a391-eaf6b3e8e4fd"
      },
      "outputs": [
        {
          "data": {
            "image/png": "[encoded data removed]",
            "text/plain": [
              "<Figure size 432x288 with 1 Axes>"
            ]
          },
          "metadata": {},
          "output_type": "display_data"
        }
      ],
      "source": [
        "# polt AUC\n",
        "plt.title('Receiver Operating Characteristic for Balanced Naive Bayes classifier')\n",
        "plt.plot(fpr, tpr, 'b', label = 'AUC = %0.2f' % Broc_auc)\n",
        "plt.legend(loc = 'lower right')\n",
        "plt.plot([0, 1], [0, 1],'r--')\n",
        "plt.xlim([0, 1])\n",
        "plt.ylim([0, 1])\n",
        "plt.ylabel('True Positive Rate')\n",
        "plt.xlabel('False Positive Rate')\n",
        "plt.show()"
      ]
    },
    {
      "cell_type": "markdown",
      "metadata": {
        "id": "jbqxRXvS9-6Y"
      },
      "source": [
        "# Balanced SVM"
      ]
    },
    {
      "cell_type": "code",
      "execution_count": null,
      "metadata": {
        "colab": {
          "base_uri": "https://localhost:8080/"
        },
        "id": "CxlHQgKQ-bDJ",
        "outputId": "fdc4406d-8bc3-4d6a-b9fd-172f65310dd3"
      },
      "outputs": [
        {
          "name": "stdout",
          "output_type": "stream",
          "text": [
            "SVM accuracy: 0.84\n"
          ]
        }
      ],
      "source": [
        "# create the classifer and fit the training data and lables\n",
        "Bclassifier_svm = svm.SVC(kernel='linear', C=1, probability=True).fit(X_train,y_train)\n",
        "\n",
        "print(\"SVM accuracy: %.2f\"%Bclassifier_svm.score(X_test, y_test))"
      ]
    },
    {
      "cell_type": "code",
      "execution_count": null,
      "metadata": {
        "colab": {
          "background_save": true,
          "base_uri": "https://localhost:8080/"
        },
        "id": "cogLjTai-fVc",
        "outputId": "4aeefb8c-13fa-406e-e458-07cefc5dc7ab"
      },
      "outputs": [
        {
          "name": "stdout",
          "output_type": "stream",
          "text": [
            "\n",
            "10-fold cross-validation:\n",
            "[0.86549296 0.85211268 0.85       0.83450704 0.863284   0.863284\n",
            " 0.87033122 0.85764623 0.85200846 0.86257928]\n"
          ]
        }
      ],
      "source": [
        "#do a 10 fold cross-validation \n",
        "Bresults_svm = cross_val_score(Bclassifier_svm, X,Btarget, cv=10)\n",
        "\n",
        "print(\"\\n10-fold cross-validation:\")\n",
        "print(Bresults_svm)"
      ]
    },
    {
      "cell_type": "code",
      "execution_count": null,
      "metadata": {
        "colab": {
          "background_save": true,
          "base_uri": "https://localhost:8080/"
        },
        "id": "G-oHypsl-iG_",
        "outputId": "6ae583f7-d902-4f12-b57a-4cc6e79c7771"
      },
      "outputs": [
        {
          "name": "stdout",
          "output_type": "stream",
          "text": [
            "The average accuracy of the SVM classifier is : 0.86\n"
          ]
        }
      ],
      "source": [
        "print(\"The average accuracy of the SVM classifier is : %.2f\" % np.mean(Bresults_svm))"
      ]
    },
    {
      "cell_type": "code",
      "execution_count": null,
      "metadata": {
        "colab": {
          "base_uri": "https://localhost:8080/"
        },
        "id": "S-CNBih0-n12",
        "outputId": "be2b994c-7b8d-4a04-d62b-fd6979ba1ad7"
      },
      "outputs": [
        {
          "name": "stdout",
          "output_type": "stream",
          "text": [
            "\n",
            "Confusion matrix of the SVM classifier:\n"
          ]
        }
      ],
      "source": [
        "print(\"\\nConfusion matrix of the SVM classifier:\")\n",
        "Bpredicted_svm = Bclassifier_svm.predict(X_test)\n",
        "print(confusion_matrix(y_test,Bpredicted_svm))"
      ]
    },
    {
      "cell_type": "code",
      "execution_count": null,
      "metadata": {
        "id": "pVSNia4G-vnC",
        "outputId": "27b6e3ad-cf15-491f-9514-065eb1585542",
        "colab": {
          "base_uri": "https://localhost:8080/"
        }
      },
      "outputs": [
        {
          "output_type": "stream",
          "name": "stdout",
          "text": [
            "\n",
            "Classification_report of SVM classifier:\n",
            "              precision    recall  f1-score   support\n",
            "\n",
            "         0.0       0.85      0.84      0.84      2107\n",
            "         1.0       0.84      0.85      0.85      2152\n",
            "\n",
            "    accuracy                           0.84      4259\n",
            "   macro avg       0.84      0.84      0.84      4259\n",
            "weighted avg       0.84      0.84      0.84      4259\n",
            "\n"
          ]
        }
      ],
      "source": [
        "print(\"\\nClassification_report of SVM classifier:\")\n",
        "print(classification_report(y_test,Bpredicted_svm))"
      ]
    },
    {
      "cell_type": "code",
      "execution_count": null,
      "metadata": {
        "id": "S9Fj5mmG_Ben"
      },
      "outputs": [],
      "source": [
        "# calculate the fpr and tpr for all thresholds of the classification\n",
        "Bprobs = Bclassifier_svm.predict_proba(X_test)\n",
        "\n",
        "Bpreds = Bprobs[:,1]\n",
        "\n",
        "fpr, tpr, threshold = metrics.roc_curve(y_test, Bpreds)\n",
        "roc_auc = metrics.auc(fpr, tpr)"
      ]
    },
    {
      "cell_type": "code",
      "execution_count": null,
      "metadata": {
        "id": "ddqIBriW_EzD",
        "outputId": "541b9944-e36d-43e3-fa4f-6bfb5f5674fe",
        "colab": {
          "base_uri": "https://localhost:8080/",
          "height": 295
        }
      },
      "outputs": [
        {
          "output_type": "display_data",
          "data": {
            "text/plain": [
              "<Figure size 432x288 with 1 Axes>"
            ],
            "image/png": "[encoded data removed]"
          },
          "metadata": {
            "needs_background": "light"
          }
        }
      ],
      "source": [
        "# polt the AUC\n",
        "plt.title('Receiver Operating Characteristic Balanced SVM classifier')\n",
        "plt.plot(fpr, tpr, 'b', label = 'AUC = %0.2f' % roc_auc)\n",
        "plt.legend(loc = 'lower right')\n",
        "plt.plot([0, 1], [0, 1],'r--')\n",
        "plt.xlim([0, 1])\n",
        "plt.ylim([0, 1])\n",
        "plt.ylabel('True Positive Rate')\n",
        "plt.xlabel('False Positive Rate')\n",
        "plt.show()"
      ]
    }
  ],
  "metadata": {
    "colab": {
      "collapsed_sections": [
        "dbkQSOfVoP_s",
        "U2APQqWC1TiZ",
        "6zd3acEGoQA8",
        "i978MWumt4R0",
        "TGfgTl2aZrcy",
        "uc-PjFc8ZuvQ",
        "r1-EUBDzoQCv",
        "mM5fGr-Bi44a",
        "b5Iwh66F8lsC",
        "jbqxRXvS9-6Y"
      ],
      "name": "G1FullCode.ipynb",
      "provenance": [],
      "toc_visible": true
    },
    "kernelspec": {
      "display_name": "Python 3",
      "language": "python",
      "name": "python3"
    },
    "language_info": {
      "codemirror_mode": {
        "name": "ipython",
        "version": 3
      },
      "file_extension": ".py",
      "mimetype": "text/x-python",
      "name": "python",
      "nbconvert_exporter": "python",
      "pygments_lexer": "ipython3",
      "version": "3.8.3"
    }
  },
  "nbformat": 4,
  "nbformat_minor": 0
}